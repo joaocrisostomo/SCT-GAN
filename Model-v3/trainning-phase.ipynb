{
 "cells": [
  {
   "cell_type": "code",
   "execution_count": 1,
   "id": "3c3acb4f-edae-4342-9a26-7f8bf3a57e6f",
   "metadata": {},
   "outputs": [],
   "source": [
    "# uv pip install torch transformers numpy"
   ]
  },
  {
   "cell_type": "code",
   "execution_count": 1,
   "id": "1898cf2f-ccf6-4cc8-8aec-c2ce42f7b561",
   "metadata": {},
   "outputs": [
    {
     "name": "stderr",
     "output_type": "stream",
     "text": [
      "\n",
      "A module that was compiled using NumPy 1.x cannot be run in\n",
      "NumPy 2.2.5 as it may crash. To support both 1.x and 2.x\n",
      "versions of NumPy, modules must be compiled with NumPy 2.0.\n",
      "Some module may need to rebuild instead e.g. with 'pybind11>=2.12'.\n",
      "\n",
      "If you are a user of the module, the easiest solution will be to\n",
      "downgrade to 'numpy<2' or try to upgrade the affected module.\n",
      "We expect that some modules will need time to support NumPy 2.\n",
      "\n",
      "Traceback (most recent call last):  File \"/usr/lib/python3.11/runpy.py\", line 198, in _run_module_as_main\n",
      "    return _run_code(code, main_globals, None,\n",
      "  File \"/usr/lib/python3.11/runpy.py\", line 88, in _run_code\n",
      "    exec(code, run_globals)\n",
      "  File \"/home/m20180848/pytorch_env/lib/python3.11/site-packages/ipykernel_launcher.py\", line 18, in <module>\n",
      "    app.launch_new_instance()\n",
      "  File \"/home/m20180848/pytorch_env/lib/python3.11/site-packages/traitlets/config/application.py\", line 1075, in launch_instance\n",
      "    app.start()\n",
      "  File \"/home/m20180848/pytorch_env/lib/python3.11/site-packages/ipykernel/kernelapp.py\", line 739, in start\n",
      "    self.io_loop.start()\n",
      "  File \"/home/m20180848/pytorch_env/lib/python3.11/site-packages/tornado/platform/asyncio.py\", line 205, in start\n",
      "    self.asyncio_loop.run_forever()\n",
      "  File \"/usr/lib/python3.11/asyncio/base_events.py\", line 607, in run_forever\n",
      "    self._run_once()\n",
      "  File \"/usr/lib/python3.11/asyncio/base_events.py\", line 1922, in _run_once\n",
      "    handle._run()\n",
      "  File \"/usr/lib/python3.11/asyncio/events.py\", line 80, in _run\n",
      "    self._context.run(self._callback, *self._args)\n",
      "  File \"/home/m20180848/pytorch_env/lib/python3.11/site-packages/ipykernel/kernelbase.py\", line 545, in dispatch_queue\n",
      "    await self.process_one()\n",
      "  File \"/home/m20180848/pytorch_env/lib/python3.11/site-packages/ipykernel/kernelbase.py\", line 534, in process_one\n",
      "    await dispatch(*args)\n",
      "  File \"/home/m20180848/pytorch_env/lib/python3.11/site-packages/ipykernel/kernelbase.py\", line 437, in dispatch_shell\n",
      "    await result\n",
      "  File \"/home/m20180848/pytorch_env/lib/python3.11/site-packages/ipykernel/ipkernel.py\", line 362, in execute_request\n",
      "    await super().execute_request(stream, ident, parent)\n",
      "  File \"/home/m20180848/pytorch_env/lib/python3.11/site-packages/ipykernel/kernelbase.py\", line 778, in execute_request\n",
      "    reply_content = await reply_content\n",
      "  File \"/home/m20180848/pytorch_env/lib/python3.11/site-packages/ipykernel/ipkernel.py\", line 449, in do_execute\n",
      "    res = shell.run_cell(\n",
      "  File \"/home/m20180848/pytorch_env/lib/python3.11/site-packages/ipykernel/zmqshell.py\", line 549, in run_cell\n",
      "    return super().run_cell(*args, **kwargs)\n",
      "  File \"/home/m20180848/pytorch_env/lib/python3.11/site-packages/IPython/core/interactiveshell.py\", line 3098, in run_cell\n",
      "    result = self._run_cell(\n",
      "  File \"/home/m20180848/pytorch_env/lib/python3.11/site-packages/IPython/core/interactiveshell.py\", line 3153, in _run_cell\n",
      "    result = runner(coro)\n",
      "  File \"/home/m20180848/pytorch_env/lib/python3.11/site-packages/IPython/core/async_helpers.py\", line 128, in _pseudo_sync_runner\n",
      "    coro.send(None)\n",
      "  File \"/home/m20180848/pytorch_env/lib/python3.11/site-packages/IPython/core/interactiveshell.py\", line 3365, in run_cell_async\n",
      "    has_raised = await self.run_ast_nodes(code_ast.body, cell_name,\n",
      "  File \"/home/m20180848/pytorch_env/lib/python3.11/site-packages/IPython/core/interactiveshell.py\", line 3610, in run_ast_nodes\n",
      "    if await self.run_code(code, result, async_=asy):\n",
      "  File \"/home/m20180848/pytorch_env/lib/python3.11/site-packages/IPython/core/interactiveshell.py\", line 3670, in run_code\n",
      "    exec(code_obj, self.user_global_ns, self.user_ns)\n",
      "  File \"/tmp/ipykernel_2586391/944889248.py\", line 2, in <module>\n",
      "    import torch\n",
      "  File \"/home/m20180848/pytorch_env/lib/python3.11/site-packages/torch/__init__.py\", line 1471, in <module>\n",
      "    from .functional import *  # noqa: F403\n",
      "  File \"/home/m20180848/pytorch_env/lib/python3.11/site-packages/torch/functional.py\", line 9, in <module>\n",
      "    import torch.nn.functional as F\n",
      "  File \"/home/m20180848/pytorch_env/lib/python3.11/site-packages/torch/nn/__init__.py\", line 1, in <module>\n",
      "    from .modules import *  # noqa: F403\n",
      "  File \"/home/m20180848/pytorch_env/lib/python3.11/site-packages/torch/nn/modules/__init__.py\", line 35, in <module>\n",
      "    from .transformer import TransformerEncoder, TransformerDecoder, \\\n",
      "  File \"/home/m20180848/pytorch_env/lib/python3.11/site-packages/torch/nn/modules/transformer.py\", line 20, in <module>\n",
      "    device: torch.device = torch.device(torch._C._get_default_device()),  # torch.device('cpu'),\n",
      "/home/m20180848/pytorch_env/lib/python3.11/site-packages/torch/nn/modules/transformer.py:20: UserWarning: Failed to initialize NumPy: _ARRAY_API not found (Triggered internally at ../torch/csrc/utils/tensor_numpy.cpp:84.)\n",
      "  device: torch.device = torch.device(torch._C._get_default_device()),  # torch.device('cpu'),\n"
     ]
    }
   ],
   "source": [
    "# PyTorch imports\n",
    "import torch\n",
    "import torch.nn as nn\n",
    "from torch.utils.data import DataLoader, Dataset\n",
    "\n",
    "# Model imports\n",
    "from model import SmartContractTransformer\n",
    "\n",
    "# Training imports\n",
    "from train import SmartContractTrainer\n",
    "\n",
    "# Optional but useful imports\n",
    "import numpy as np\n",
    "from tqdm import tqdm  # for progress bars\n",
    "import logging "
   ]
  },
  {
   "cell_type": "code",
   "execution_count": 2,
   "id": "7854810c-ced1-4bcf-b1ef-2fd5323dfa6c",
   "metadata": {},
   "outputs": [],
   "source": [
    "from transformers import AutoTokenizer\n",
    "import json\n",
    "import os\n",
    "import pandas as pd\n",
    "from typing import Dict, List, Tuple, Any\n",
    "import re"
   ]
  },
  {
   "cell_type": "markdown",
   "id": "a0379b7b-bd04-495b-8521-9cb9be0fbaa2",
   "metadata": {},
   "source": [
    "- Dataset.py script:"
   ]
  },
  {
   "cell_type": "code",
   "execution_count": 3,
   "id": "a7d5051a-5c5f-46fc-b3d6-25b687eb0689",
   "metadata": {},
   "outputs": [
    {
     "name": "stdout",
     "output_type": "stream",
     "text": [
      "CUDA is available: True\n",
      "Number of GPUs: 2\n"
     ]
    }
   ],
   "source": [
    "print(f\"CUDA is available: {torch.cuda.is_available()}\")\n",
    "print(f\"Number of GPUs: {torch.cuda.device_count()}\")"
   ]
  },
  {
   "cell_type": "code",
   "execution_count": 4,
   "id": "8342c217-fa0e-486d-9ace-e2ab37ef266f",
   "metadata": {},
   "outputs": [],
   "source": [
    "os.environ[\"TOKENIZERS_PARALLELISM\"] = \"false\"\n",
    "\n",
    "def parse_solidity_to_ast(code: str) -> Dict[str, Any]:\n",
    "    \"\"\"\n",
    "    Parse Solidity code into a simplified AST structure\n",
    "    \"\"\"\n",
    "    def extract_contract_info(code: str) -> Dict[str, Any]:\n",
    "        # Extract contract name\n",
    "        contract_match = re.search(r'contract\\s+(\\w+)', code)\n",
    "        contract_name = contract_match.group(1) if contract_match else \"Unknown\"\n",
    "        \n",
    "        # Extract functions\n",
    "        functions = []\n",
    "        function_pattern = r'function\\s+(\\w+)\\s*\\(([^)]*)\\)\\s*(?:public|private|internal|external)?\\s*(?:view|pure|payable)?\\s*(?:returns\\s*\\(([^)]*)\\))?\\s*{'\n",
    "        for match in re.finditer(function_pattern, code):\n",
    "            func_name = match.group(1)\n",
    "            params = match.group(2).split(',') if match.group(2) else []\n",
    "            returns = match.group(3).split(',') if match.group(3) else []\n",
    "            \n",
    "            functions.append({\n",
    "                'name': func_name,\n",
    "                'parameters': [p.strip() for p in params],\n",
    "                'returns': [r.strip() for r in returns]\n",
    "            })\n",
    "        \n",
    "        # Extract state variables\n",
    "        variables = []\n",
    "        var_pattern = r'(?:uint|address|string|bool|mapping)\\s+(?:\\w+)\\s+(\\w+)'\n",
    "        for match in re.finditer(var_pattern, code):\n",
    "            variables.append(match.group(1))\n",
    "        \n",
    "        return {\n",
    "            'type': 'Contract',\n",
    "            'name': contract_name,\n",
    "            'functions': functions,\n",
    "            'variables': variables\n",
    "        }\n",
    "    \n",
    "    try:\n",
    "        # Clean the code\n",
    "        code = re.sub(r'//.*?\\n|/\\*.*?\\*/', '', code)  # Remove comments\n",
    "        code = re.sub(r'\\s+', ' ', code)  # Normalize whitespace\n",
    "        \n",
    "        # Parse the code\n",
    "        ast = extract_contract_info(code)\n",
    "        return ast\n",
    "    except Exception as e:\n",
    "        print(f\"Error parsing code: {str(e)}\")\n",
    "        return None\n",
    "\n",
    "def prepare_code2vec_input(ast: Dict[str, Any]) -> List[str]:\n",
    "    \"\"\"\n",
    "    Convert AST to codeBert input format\n",
    "    \"\"\"\n",
    "    paths = []\n",
    "    \n",
    "    def extract_paths(node: Dict[str, Any], current_path: List[str] = None):\n",
    "        if current_path is None:\n",
    "            current_path = []\n",
    "            \n",
    "        # Add current node to path\n",
    "        if 'name' in node:\n",
    "            current_path.append(node['name'])\n",
    "            \n",
    "        # Process functions\n",
    "        if 'functions' in node:\n",
    "            for func in node['functions']:\n",
    "                func_path = current_path + [func['name']]\n",
    "                paths.append(' '.join(func_path))\n",
    "                \n",
    "                # Add parameter paths\n",
    "                for param in func['parameters']:\n",
    "                    param_path = func_path + [param]\n",
    "                    paths.append(' '.join(param_path))\n",
    "                \n",
    "                # Add return paths\n",
    "                for ret in func['returns']:\n",
    "                    ret_path = func_path + [ret]\n",
    "                    paths.append(' '.join(ret_path))\n",
    "        \n",
    "        # Process variables\n",
    "        if 'variables' in node:\n",
    "            for var in node['variables']:\n",
    "                var_path = current_path + [var]\n",
    "                paths.append(' '.join(var_path))\n",
    "    \n",
    "    extract_paths(ast)\n",
    "    return paths\n",
    "\n",
    "class SmartContractVulnerabilityDataset(Dataset):\n",
    "    def __init__(\n",
    "        self,\n",
    "        data_path: str,\n",
    "        tokenizer: AutoTokenizer,\n",
    "        max_length: int = 1024,\n",
    "        split: str = \"train\",\n",
    "        vulnerability_types: List[str] = None\n",
    "    ):\n",
    "        \"\"\"\n",
    "        Args:\n",
    "            data_path: Path to the CSV file containing the dataset\n",
    "            tokenizer: Tokenizer for encoding the source code\n",
    "            max_length: Maximum sequence length\n",
    "            split: \"train\" or \"val\" to specify which split to load\n",
    "            vulnerability_types: List of vulnerability types to consider\n",
    "        \"\"\"\n",
    "        self.tokenizer = tokenizer\n",
    "        self.max_length = max_length\n",
    "        self.split = split\n",
    "        self.vulnerability_types = vulnerability_types or [\n",
    "            'ARTHM', 'DOS', 'LE', 'RENT', 'TimeM', 'TimeO', 'Tx-Origin', 'UE'\n",
    "        ]\n",
    "        \n",
    "        # Load the dataset\n",
    "        self.data = self._load_dataset(data_path)\n",
    "        \n",
    "    def _load_dataset(self, data_path: str) -> List[Dict]:\n",
    "        \"\"\"Load and preprocess the dataset from CSV\"\"\"\n",
    "        dataset = []\n",
    "        \n",
    "        # Read the CSV file\n",
    "        df = pd.read_csv(data_path)\n",
    "        \n",
    "        # Split into train/val if needed\n",
    "        if self.split == \"train\":\n",
    "            df = df.sample(frac=0.8, random_state=42)\n",
    "        else:\n",
    "            df = df.sample(frac=0.2, random_state=42)\n",
    "        \n",
    "        # Process each contract\n",
    "        for _, row in df.iterrows():\n",
    "            try:\n",
    "                source_code = row['source_code']\n",
    "                contract_name = row['contract_name']\n",
    "                \n",
    "                # Parse AST and get paths\n",
    "                ast = parse_solidity_to_ast(source_code)\n",
    "                ast_paths = prepare_code2vec_input(ast) if ast else []\n",
    "                ast_path_text = ' '.join(ast_paths)\n",
    "                \n",
    "                # Split source code into lines\n",
    "                lines = source_code.split('\\n')\n",
    "                \n",
    "                # Create token-to-line mapping\n",
    "                token_to_line = []\n",
    "                current_line = 0\n",
    "                \n",
    "                # Tokenize each line separately to maintain mapping\n",
    "                for line in lines:\n",
    "                    line_tokens = self.tokenizer.encode(line, add_special_tokens=False)\n",
    "                    token_to_line.extend([current_line] * len(line_tokens))\n",
    "                    current_line += 1\n",
    "                \n",
    "                # Add special tokens\n",
    "                token_to_line = [0] + token_to_line + [0]  # [CLS] and [SEP] tokens\n",
    "                \n",
    "                # Truncate if too long\n",
    "                if len(token_to_line) > self.max_length:\n",
    "                    token_to_line = token_to_line[:self.max_length]\n",
    "                \n",
    "                # Pad if too short\n",
    "                if len(token_to_line) < self.max_length:\n",
    "                    token_to_line.extend([0] * (self.max_length - len(token_to_line)))\n",
    "                \n",
    "                # Create multi-label line labels for each vulnerability type\n",
    "                line_labels = self._create_multi_label_line_labels(source_code, row)\n",
    "                \n",
    "                # Create contract-level vulnerability labels\n",
    "                contract_labels = self._create_contract_vulnerability_labels(row)\n",
    "                \n",
    "                # Tokenize the source code\n",
    "                encoding = self.tokenizer(\n",
    "                    source_code,\n",
    "                    max_length=self.max_length,\n",
    "                    padding='max_length',\n",
    "                    truncation=True,\n",
    "                    return_tensors='pt'\n",
    "                )\n",
    "                \n",
    "                # Tokenize AST paths\n",
    "                ast_encoding = self.tokenizer(\n",
    "                    ast_path_text,\n",
    "                    max_length=self.max_length,\n",
    "                    padding='max_length',\n",
    "                    truncation=True,\n",
    "                    return_tensors='pt'\n",
    "                )\n",
    "                \n",
    "                # Convert line labels to tensor and ensure consistent shape\n",
    "                vuln_tensor = torch.zeros((len(self.vulnerability_types), self.max_length), dtype=torch.long)\n",
    "                for i, labels in enumerate(line_labels):\n",
    "                    if len(labels) > self.max_length:\n",
    "                        labels = labels[:self.max_length]\n",
    "                    vuln_tensor[i, :len(labels)] = torch.tensor(labels, dtype=torch.long)\n",
    "                \n",
    "                # Convert contract labels to tensor\n",
    "                contract_vuln_tensor = torch.tensor(contract_labels, dtype=torch.long)\n",
    "                \n",
    "                # Convert token_to_line to tensor\n",
    "                token_to_line_tensor = torch.tensor(token_to_line, dtype=torch.long)\n",
    "                \n",
    "                # Ensure attention masks are boolean\n",
    "                attention_mask = encoding['attention_mask'].squeeze(0).bool()\n",
    "                ast_attention_mask = ast_encoding['attention_mask'].squeeze(0).bool()\n",
    "                \n",
    "                # Ensure input_ids are the right length\n",
    "                input_ids = encoding['input_ids'].squeeze(0)\n",
    "                ast_input_ids = ast_encoding['input_ids'].squeeze(0)\n",
    "                \n",
    "                if len(input_ids) > self.max_length:\n",
    "                    input_ids = input_ids[:self.max_length]\n",
    "                if len(ast_input_ids) > self.max_length:\n",
    "                    ast_input_ids = ast_input_ids[:self.max_length]\n",
    "                \n",
    "                # Pad if necessary\n",
    "                if len(input_ids) < self.max_length:\n",
    "                    input_ids = torch.nn.functional.pad(input_ids, (0, self.max_length - len(input_ids)))\n",
    "                if len(ast_input_ids) < self.max_length:\n",
    "                    ast_input_ids = torch.nn.functional.pad(ast_input_ids, (0, self.max_length - len(ast_input_ids)))\n",
    "                \n",
    "                dataset.append({\n",
    "                    'input_ids': input_ids,\n",
    "                    'attention_mask': attention_mask,\n",
    "                    'ast_input_ids': ast_input_ids,\n",
    "                    'ast_attention_mask': ast_attention_mask,\n",
    "                    'vulnerable_lines': vuln_tensor,\n",
    "                    'contract_vulnerabilities': contract_vuln_tensor,\n",
    "                    'token_to_line': token_to_line_tensor,\n",
    "                    'source_code': source_code,\n",
    "                    'contract_name': contract_name\n",
    "                })\n",
    "            except Exception as e:\n",
    "                print(f\"Error processing contract {contract_name}: {str(e)}\")\n",
    "                continue\n",
    "        \n",
    "        return dataset\n",
    "    \n",
    "    def _create_contract_vulnerability_labels(self, row: pd.Series) -> List[int]:\n",
    "        \"\"\"Create contract-level vulnerability labels\"\"\"\n",
    "        contract_labels = []\n",
    "        for vuln_type in self.vulnerability_types:\n",
    "            # Check if contract has this vulnerability type\n",
    "            vuln_lines = row[f'{vuln_type}_lines']\n",
    "            if isinstance(vuln_lines, str):\n",
    "                try:\n",
    "                    vuln_lines = eval(vuln_lines)\n",
    "                except:\n",
    "                    vuln_lines = [vuln_lines]\n",
    "            \n",
    "            # Contract is vulnerable if it has any vulnerable lines\n",
    "            has_vulnerability = len(vuln_lines) > 0\n",
    "            contract_labels.append(1 if has_vulnerability else 0)\n",
    "        \n",
    "        return contract_labels\n",
    "    \n",
    "    def _create_multi_label_line_labels(self, source_code: str, row: pd.Series) -> List[List[int]]:\n",
    "        \"\"\"Create multi-label line labels for each vulnerability type\"\"\"\n",
    "        total_lines = len(source_code.split('\\n'))\n",
    "        line_labels = {vuln_type: [0] * total_lines for vuln_type in self.vulnerability_types}\n",
    "        \n",
    "        # Process each vulnerability type\n",
    "        for vuln_type in self.vulnerability_types:\n",
    "            vuln_lines = row[f'{vuln_type}_lines']\n",
    "            if isinstance(vuln_lines, str):\n",
    "                try:\n",
    "                    vuln_lines = eval(vuln_lines)\n",
    "                except:\n",
    "                    vuln_lines = [vuln_lines]\n",
    "            \n",
    "            # Process each vulnerable line/snippet\n",
    "            for line_or_snippet in vuln_lines:\n",
    "                if isinstance(line_or_snippet, int):\n",
    "                    # If it's a line number, mark that line\n",
    "                    if 0 <= line_or_snippet < total_lines:\n",
    "                        line_labels[vuln_type][line_or_snippet] = 1\n",
    "                else:\n",
    "                    # If it's a code snippet, find matching lines\n",
    "                    source_lines = source_code.split('\\n')\n",
    "                    for i, line in enumerate(source_lines):\n",
    "                        # Clean both the line and snippet for comparison\n",
    "                        clean_line = re.sub(r'\\s+', ' ', line.strip())\n",
    "                        clean_snippet = re.sub(r'\\s+', ' ', str(line_or_snippet).strip())\n",
    "                        if clean_snippet in clean_line:\n",
    "                            line_labels[vuln_type][i] = 1\n",
    "        \n",
    "        # Convert to list format\n",
    "        return [line_labels[vuln_type] for vuln_type in self.vulnerability_types]\n",
    "    \n",
    "    def __len__(self) -> int:\n",
    "        return len(self.data)\n",
    "    \n",
    "    def __getitem__(self, idx: int) -> Dict:\n",
    "        return self.data[idx]\n",
    "\n",
    "def custom_collate_fn(batch):\n",
    "    \"\"\"\n",
    "    Custom collate function to handle variable length inputs\n",
    "    \"\"\"\n",
    "    # Get the maximum length in this batch for each type of tensor\n",
    "    max_input_len = max(item['input_ids'].size(0) for item in batch)\n",
    "    \n",
    "    # Pad all tensors to their respective maximum lengths\n",
    "    padded_batch = {\n",
    "        'input_ids': torch.stack([\n",
    "            torch.nn.functional.pad(item['input_ids'], (0, max_input_len - item['input_ids'].size(0)))\n",
    "            for item in batch\n",
    "        ]),\n",
    "        'attention_mask': torch.stack([\n",
    "            torch.nn.functional.pad(item['attention_mask'], (0, max_input_len - item['attention_mask'].size(0)))\n",
    "            for item in batch\n",
    "        ]),\n",
    "        'ast_input_ids': torch.stack([item['ast_input_ids'] for item in batch]),\n",
    "        'ast_attention_mask': torch.stack([item['ast_attention_mask'] for item in batch]),\n",
    "        'vulnerable_lines': torch.stack([item['vulnerable_lines'] for item in batch]),\n",
    "        'contract_vulnerabilities': torch.stack([item['contract_vulnerabilities'] for item in batch]),\n",
    "        'token_to_line': torch.stack([item['token_to_line'] for item in batch]),\n",
    "        'source_code': [item['source_code'] for item in batch],\n",
    "        'contract_name': [item['contract_name'] for item in batch]\n",
    "    }\n",
    "    \n",
    "    return padded_batch\n",
    "\n",
    "def create_dataloaders(\n",
    "    data_path: str,\n",
    "    tokenizer: AutoTokenizer,\n",
    "    batch_size: int = 8,\n",
    "    max_length: int = 1024,\n",
    "    num_workers: int = 4,\n",
    "    vulnerability_types: List[str] = None\n",
    ") -> Tuple[torch.utils.data.DataLoader, torch.utils.data.DataLoader]:\n",
    "    \"\"\"\n",
    "    Create train and validation dataloaders\n",
    "    \n",
    "    Args:\n",
    "        data_path: Path to the CSV file containing the dataset\n",
    "        tokenizer: Tokenizer for encoding the source code\n",
    "        batch_size: Batch size for training\n",
    "        max_length: Maximum sequence length\n",
    "        num_workers: Number of workers for data loading\n",
    "        vulnerability_types: List of vulnerability types to consider\n",
    "    \n",
    "    Returns:\n",
    "        Tuple of (train_dataloader, val_dataloader)\n",
    "    \"\"\"\n",
    "    # Create datasets\n",
    "    train_dataset = SmartContractVulnerabilityDataset(\n",
    "        data_path=data_path,\n",
    "        tokenizer=tokenizer,\n",
    "        max_length=max_length,\n",
    "        split=\"train\",\n",
    "        vulnerability_types=vulnerability_types\n",
    "    )\n",
    "    \n",
    "    val_dataset = SmartContractVulnerabilityDataset(\n",
    "        data_path=data_path,\n",
    "        tokenizer=tokenizer,\n",
    "        max_length=max_length,\n",
    "        split=\"val\",\n",
    "        vulnerability_types=vulnerability_types\n",
    "    )\n",
    "    \n",
    "    # Create dataloaders with custom collate function\n",
    "    train_dataloader = torch.utils.data.DataLoader(\n",
    "        train_dataset,\n",
    "        batch_size=batch_size,\n",
    "        shuffle=True,\n",
    "        num_workers=num_workers,\n",
    "        pin_memory=True,\n",
    "        collate_fn=custom_collate_fn\n",
    "    )\n",
    "    \n",
    "    val_dataloader = torch.utils.data.DataLoader(\n",
    "        val_dataset,\n",
    "        batch_size=batch_size,\n",
    "        shuffle=False,\n",
    "        num_workers=num_workers,\n",
    "        pin_memory=True,\n",
    "        collate_fn=custom_collate_fn\n",
    "    )\n",
    "    \n",
    "    return train_dataloader, val_dataloader"
   ]
  },
  {
   "cell_type": "code",
   "execution_count": 5,
   "id": "f35cba34-ea45-434f-ad6d-9b4449db435a",
   "metadata": {},
   "outputs": [
    {
     "name": "stderr",
     "output_type": "stream",
     "text": [
      "Token indices sequence length is longer than the specified maximum sequence length for this model (1211 > 512). Running this sequence through the model will result in indexing errors\n"
     ]
    }
   ],
   "source": [
    "from transformers import AutoTokenizer\n",
    "\n",
    "# Initialize tokenizer\n",
    "tokenizer = AutoTokenizer.from_pretrained(\"microsoft/codebert-base\")\n",
    "\n",
    "# Create dataloaders\n",
    "train_dataloader, val_dataloader = create_dataloaders(\n",
    "    data_path=\"contract_sources_with_vulnerabilities_2048_token_size.csv\",\n",
    "    tokenizer=tokenizer,\n",
    "    batch_size=8,\n",
    "    max_length=1024,\n",
    "    vulnerability_types=['ARTHM', 'DOS', 'LE', 'RENT', 'TimeM', 'TimeO', 'Tx-Origin', 'UE']\n",
    ")"
   ]
  },
  {
   "cell_type": "code",
   "execution_count": 6,
   "id": "7fd90546-c363-4914-89bf-cc2ed0c53bde",
   "metadata": {},
   "outputs": [
    {
     "name": "stderr",
     "output_type": "stream",
     "text": [
      "/home/m20180848/pytorch_env/lib/python3.11/site-packages/torch/nn/modules/transformer.py:286: UserWarning: enable_nested_tensor is True, but self.use_nested_tensor is False because encoder_layer.norm_first was True\n",
      "  warnings.warn(f\"enable_nested_tensor is True, but self.use_nested_tensor is False because {why_not_sparsity_fast_path}\")\n",
      "/home/m20180848/pytorch_env/lib/python3.11/site-packages/torch/optim/lr_scheduler.py:28: UserWarning: The verbose parameter is deprecated. Please use get_last_lr() to access the learning rate.\n",
      "  warnings.warn(\"The verbose parameter is deprecated. Please use get_last_lr() \"\n"
     ]
    },
    {
     "name": "stdout",
     "output_type": "stream",
     "text": [
      "Initial learning rate: 0.01\n",
      "WARNING: Learning rate is too high! Setting to 1e-3\n",
      "\n",
      "Epoch 1/400\n"
     ]
    },
    {
     "name": "stderr",
     "output_type": "stream",
     "text": [
      "Epoch 0: 100%|██████████| 253/253 [03:31<00:00,  1.20it/s, gen_loss=4.0454, contract_vuln_loss=0.0252, line_vuln_loss=0.0004, lr=0.001000, grad_norm=0.40]\n"
     ]
    },
    {
     "name": "stdout",
     "output_type": "stream",
     "text": [
      "Train Loss: 5.7148\n",
      "Val Loss: 4.5698\n",
      "Contract Vulnerability Loss: 0.0255\n",
      "Line Vulnerability Loss: 0.0073\n",
      "Learning Rate: 0.001000\n",
      "🎉 New best validation loss! Saved checkpoint to checkpoints_v2_2048_output/best_model_epoch_1.pt\n",
      "\n",
      "Epoch 2/400\n"
     ]
    },
    {
     "name": "stderr",
     "output_type": "stream",
     "text": [
      "Epoch 1: 100%|██████████| 253/253 [03:32<00:00,  1.19it/s, gen_loss=3.3163, contract_vuln_loss=0.0199, line_vuln_loss=0.0004, lr=0.001000, grad_norm=0.32]\n"
     ]
    },
    {
     "name": "stdout",
     "output_type": "stream",
     "text": [
      "Train Loss: 3.8983\n",
      "Val Loss: 3.3172\n",
      "Contract Vulnerability Loss: 0.0227\n",
      "Line Vulnerability Loss: 0.0004\n",
      "Learning Rate: 0.001000\n",
      "🎉 New best validation loss! Saved checkpoint to checkpoints_v2_2048_output/best_model_epoch_2.pt\n",
      "\n",
      "Epoch 3/400\n"
     ]
    },
    {
     "name": "stderr",
     "output_type": "stream",
     "text": [
      "Epoch 2: 100%|██████████| 253/253 [03:31<00:00,  1.19it/s, gen_loss=3.3195, contract_vuln_loss=0.0300, line_vuln_loss=0.0004, lr=0.001000, grad_norm=0.38]\n"
     ]
    },
    {
     "name": "stdout",
     "output_type": "stream",
     "text": [
      "Train Loss: 3.1145\n",
      "Val Loss: 2.9461\n",
      "Contract Vulnerability Loss: 0.0228\n",
      "Line Vulnerability Loss: 0.0004\n",
      "Learning Rate: 0.001000\n",
      "🎉 New best validation loss! Saved checkpoint to checkpoints_v2_2048_output/best_model_epoch_3.pt\n",
      "\n",
      "Epoch 4/400\n"
     ]
    },
    {
     "name": "stderr",
     "output_type": "stream",
     "text": [
      "Epoch 3: 100%|██████████| 253/253 [03:31<00:00,  1.19it/s, gen_loss=3.2664, contract_vuln_loss=0.0402, line_vuln_loss=0.0004, lr=0.001000, grad_norm=0.54]\n"
     ]
    },
    {
     "name": "stdout",
     "output_type": "stream",
     "text": [
      "Train Loss: 2.8630\n",
      "Val Loss: 2.7486\n",
      "Contract Vulnerability Loss: 0.0227\n",
      "Line Vulnerability Loss: 0.0004\n",
      "Learning Rate: 0.001000\n",
      "🎉 New best validation loss! Saved checkpoint to checkpoints_v2_2048_output/best_model_epoch_4.pt\n",
      "\n",
      "Epoch 5/400\n"
     ]
    },
    {
     "name": "stderr",
     "output_type": "stream",
     "text": [
      "Epoch 4: 100%|██████████| 253/253 [03:32<00:00,  1.19it/s, gen_loss=2.9030, contract_vuln_loss=0.0296, line_vuln_loss=0.0003, lr=0.001000, grad_norm=0.40]\n"
     ]
    },
    {
     "name": "stdout",
     "output_type": "stream",
     "text": [
      "Train Loss: 2.7105\n",
      "Val Loss: 2.5856\n",
      "Contract Vulnerability Loss: 0.0227\n",
      "Line Vulnerability Loss: 0.0004\n",
      "Learning Rate: 0.001000\n",
      "🎉 New best validation loss! Saved checkpoint to checkpoints_v2_2048_output/best_model_epoch_5.pt\n",
      "\n",
      "Epoch 6/400\n"
     ]
    },
    {
     "name": "stderr",
     "output_type": "stream",
     "text": [
      "Epoch 5: 100%|██████████| 253/253 [03:32<00:00,  1.19it/s, gen_loss=2.3392, contract_vuln_loss=0.0221, line_vuln_loss=0.0005, lr=0.001000, grad_norm=0.20]\n"
     ]
    },
    {
     "name": "stdout",
     "output_type": "stream",
     "text": [
      "Train Loss: 2.5816\n",
      "Val Loss: 2.4701\n",
      "Contract Vulnerability Loss: 0.0227\n",
      "Line Vulnerability Loss: 0.0004\n",
      "Learning Rate: 0.001000\n",
      "🎉 New best validation loss! Saved checkpoint to checkpoints_v2_2048_output/best_model_epoch_6.pt\n",
      "\n",
      "Epoch 7/400\n"
     ]
    },
    {
     "name": "stderr",
     "output_type": "stream",
     "text": [
      "Epoch 6: 100%|██████████| 253/253 [03:32<00:00,  1.19it/s, gen_loss=2.4676, contract_vuln_loss=0.0158, line_vuln_loss=0.0004, lr=0.001000, grad_norm=0.39]\n"
     ]
    },
    {
     "name": "stdout",
     "output_type": "stream",
     "text": [
      "Train Loss: 2.4781\n",
      "Val Loss: 2.3776\n",
      "Contract Vulnerability Loss: 0.0227\n",
      "Line Vulnerability Loss: 0.0004\n",
      "Learning Rate: 0.001000\n",
      "🎉 New best validation loss! Saved checkpoint to checkpoints_v2_2048_output/best_model_epoch_7.pt\n",
      "\n",
      "Epoch 8/400\n"
     ]
    },
    {
     "name": "stderr",
     "output_type": "stream",
     "text": [
      "Epoch 7: 100%|██████████| 253/253 [03:31<00:00,  1.19it/s, gen_loss=2.3322, contract_vuln_loss=0.0262, line_vuln_loss=0.0005, lr=0.001000, grad_norm=0.41]\n"
     ]
    },
    {
     "name": "stdout",
     "output_type": "stream",
     "text": [
      "Train Loss: 2.4005\n",
      "Val Loss: 2.2867\n",
      "Contract Vulnerability Loss: 0.0227\n",
      "Line Vulnerability Loss: 0.0004\n",
      "Learning Rate: 0.001000\n",
      "🎉 New best validation loss! Saved checkpoint to checkpoints_v2_2048_output/best_model_epoch_8.pt\n",
      "\n",
      "Epoch 9/400\n"
     ]
    },
    {
     "name": "stderr",
     "output_type": "stream",
     "text": [
      "Epoch 8: 100%|██████████| 253/253 [03:22<00:00,  1.25it/s, gen_loss=2.3350, contract_vuln_loss=0.0257, line_vuln_loss=0.0004, lr=0.001000, grad_norm=0.34]\n"
     ]
    },
    {
     "name": "stdout",
     "output_type": "stream",
     "text": [
      "Train Loss: 2.3359\n",
      "Val Loss: 2.2343\n",
      "Contract Vulnerability Loss: 0.0227\n",
      "Line Vulnerability Loss: 0.0004\n",
      "Learning Rate: 0.001000\n",
      "🎉 New best validation loss! Saved checkpoint to checkpoints_v2_2048_output/best_model_epoch_9.pt\n",
      "\n",
      "Epoch 10/400\n"
     ]
    },
    {
     "name": "stderr",
     "output_type": "stream",
     "text": [
      "Epoch 9: 100%|██████████| 253/253 [03:31<00:00,  1.20it/s, gen_loss=2.2550, contract_vuln_loss=0.0292, line_vuln_loss=0.0002, lr=0.001000, grad_norm=0.25]\n"
     ]
    },
    {
     "name": "stdout",
     "output_type": "stream",
     "text": [
      "Train Loss: 2.2784\n",
      "Val Loss: 2.1723\n",
      "Contract Vulnerability Loss: 0.0227\n",
      "Line Vulnerability Loss: 0.0004\n",
      "Learning Rate: 0.001000\n",
      "🎉 New best validation loss! Saved checkpoint to checkpoints_v2_2048_output/best_model_epoch_10.pt\n",
      "\n",
      "Epoch 11/400\n"
     ]
    },
    {
     "name": "stderr",
     "output_type": "stream",
     "text": [
      "Epoch 10: 100%|██████████| 253/253 [03:30<00:00,  1.20it/s, gen_loss=2.1922, contract_vuln_loss=0.0257, line_vuln_loss=0.0004, lr=0.001000, grad_norm=0.25]\n"
     ]
    },
    {
     "name": "stdout",
     "output_type": "stream",
     "text": [
      "Train Loss: 2.2267\n",
      "Val Loss: 2.0999\n",
      "Contract Vulnerability Loss: 0.0227\n",
      "Line Vulnerability Loss: 0.0004\n",
      "Learning Rate: 0.001000\n",
      "🎉 New best validation loss! Saved checkpoint to checkpoints_v2_2048_output/best_model_epoch_11.pt\n",
      "\n",
      "Epoch 12/400\n"
     ]
    },
    {
     "name": "stderr",
     "output_type": "stream",
     "text": [
      "Epoch 11: 100%|██████████| 253/253 [03:30<00:00,  1.20it/s, gen_loss=1.9724, contract_vuln_loss=0.0186, line_vuln_loss=0.0005, lr=0.001000, grad_norm=0.23]\n"
     ]
    },
    {
     "name": "stdout",
     "output_type": "stream",
     "text": [
      "Train Loss: 2.1761\n",
      "Val Loss: 2.0488\n",
      "Contract Vulnerability Loss: 0.0227\n",
      "Line Vulnerability Loss: 0.0004\n",
      "Learning Rate: 0.001000\n",
      "🎉 New best validation loss! Saved checkpoint to checkpoints_v2_2048_output/best_model_epoch_12.pt\n",
      "\n",
      "Epoch 13/400\n"
     ]
    },
    {
     "name": "stderr",
     "output_type": "stream",
     "text": [
      "Epoch 12: 100%|██████████| 253/253 [03:30<00:00,  1.20it/s, gen_loss=2.1813, contract_vuln_loss=0.0212, line_vuln_loss=0.0003, lr=0.001000, grad_norm=0.28]\n"
     ]
    },
    {
     "name": "stdout",
     "output_type": "stream",
     "text": [
      "Train Loss: 2.1338\n",
      "Val Loss: 2.0102\n",
      "Contract Vulnerability Loss: 0.0227\n",
      "Line Vulnerability Loss: 0.0004\n",
      "Learning Rate: 0.001000\n",
      "🎉 New best validation loss! Saved checkpoint to checkpoints_v2_2048_output/best_model_epoch_13.pt\n",
      "\n",
      "Epoch 14/400\n"
     ]
    },
    {
     "name": "stderr",
     "output_type": "stream",
     "text": [
      "Epoch 13: 100%|██████████| 253/253 [03:30<00:00,  1.20it/s, gen_loss=2.0196, contract_vuln_loss=0.0247, line_vuln_loss=0.0006, lr=0.001000, grad_norm=0.19]\n"
     ]
    },
    {
     "name": "stdout",
     "output_type": "stream",
     "text": [
      "Train Loss: 2.0954\n",
      "Val Loss: 1.9607\n",
      "Contract Vulnerability Loss: 0.0227\n",
      "Line Vulnerability Loss: 0.0004\n",
      "Learning Rate: 0.001000\n",
      "🎉 New best validation loss! Saved checkpoint to checkpoints_v2_2048_output/best_model_epoch_14.pt\n",
      "\n",
      "Epoch 15/400\n"
     ]
    },
    {
     "name": "stderr",
     "output_type": "stream",
     "text": [
      "Epoch 14: 100%|██████████| 253/253 [03:32<00:00,  1.19it/s, gen_loss=1.9382, contract_vuln_loss=0.0235, line_vuln_loss=0.0004, lr=0.001000, grad_norm=0.27]\n"
     ]
    },
    {
     "name": "stdout",
     "output_type": "stream",
     "text": [
      "Train Loss: 2.0600\n",
      "Val Loss: 1.9329\n",
      "Contract Vulnerability Loss: 0.0227\n",
      "Line Vulnerability Loss: 0.0004\n",
      "Learning Rate: 0.001000\n",
      "🎉 New best validation loss! Saved checkpoint to checkpoints_v2_2048_output/best_model_epoch_15.pt\n",
      "\n",
      "Epoch 16/400\n"
     ]
    },
    {
     "name": "stderr",
     "output_type": "stream",
     "text": [
      "Epoch 15: 100%|██████████| 253/253 [03:30<00:00,  1.20it/s, gen_loss=2.0836, contract_vuln_loss=0.0142, line_vuln_loss=0.0003, lr=0.001000, grad_norm=0.23]\n"
     ]
    },
    {
     "name": "stdout",
     "output_type": "stream",
     "text": [
      "Train Loss: 2.0267\n",
      "Val Loss: 1.8937\n",
      "Contract Vulnerability Loss: 0.0227\n",
      "Line Vulnerability Loss: 0.0004\n",
      "Learning Rate: 0.001000\n",
      "🎉 New best validation loss! Saved checkpoint to checkpoints_v2_2048_output/best_model_epoch_16.pt\n",
      "\n",
      "Epoch 17/400\n"
     ]
    },
    {
     "name": "stderr",
     "output_type": "stream",
     "text": [
      "Epoch 16: 100%|██████████| 253/253 [03:30<00:00,  1.20it/s, gen_loss=2.1255, contract_vuln_loss=0.0253, line_vuln_loss=0.0004, lr=0.001000, grad_norm=0.18]\n"
     ]
    },
    {
     "name": "stdout",
     "output_type": "stream",
     "text": [
      "Train Loss: 1.9990\n",
      "Val Loss: 1.8688\n",
      "Contract Vulnerability Loss: 0.0227\n",
      "Line Vulnerability Loss: 0.0004\n",
      "Learning Rate: 0.001000\n",
      "🎉 New best validation loss! Saved checkpoint to checkpoints_v2_2048_output/best_model_epoch_17.pt\n",
      "\n",
      "Epoch 18/400\n"
     ]
    },
    {
     "name": "stderr",
     "output_type": "stream",
     "text": [
      "Epoch 17: 100%|██████████| 253/253 [03:31<00:00,  1.20it/s, gen_loss=1.9387, contract_vuln_loss=0.0219, line_vuln_loss=0.0003, lr=0.001000, grad_norm=0.23]\n"
     ]
    },
    {
     "name": "stdout",
     "output_type": "stream",
     "text": [
      "Train Loss: 1.9682\n",
      "Val Loss: 1.8464\n",
      "Contract Vulnerability Loss: 0.0227\n",
      "Line Vulnerability Loss: 0.0004\n",
      "Learning Rate: 0.001000\n",
      "🎉 New best validation loss! Saved checkpoint to checkpoints_v2_2048_output/best_model_epoch_18.pt\n",
      "\n",
      "Epoch 19/400\n"
     ]
    },
    {
     "name": "stderr",
     "output_type": "stream",
     "text": [
      "Epoch 18: 100%|██████████| 253/253 [03:30<00:00,  1.20it/s, gen_loss=1.9910, contract_vuln_loss=0.0220, line_vuln_loss=0.0003, lr=0.001000, grad_norm=0.24]\n"
     ]
    },
    {
     "name": "stdout",
     "output_type": "stream",
     "text": [
      "Train Loss: 1.9440\n",
      "Val Loss: 1.8215\n",
      "Contract Vulnerability Loss: 0.0227\n",
      "Line Vulnerability Loss: 0.0004\n",
      "Learning Rate: 0.001000\n",
      "🎉 New best validation loss! Saved checkpoint to checkpoints_v2_2048_output/best_model_epoch_19.pt\n",
      "\n",
      "Epoch 20/400\n"
     ]
    },
    {
     "name": "stderr",
     "output_type": "stream",
     "text": [
      "Epoch 19: 100%|██████████| 253/253 [03:31<00:00,  1.20it/s, gen_loss=1.7560, contract_vuln_loss=0.0209, line_vuln_loss=0.0004, lr=0.001000, grad_norm=0.22]\n"
     ]
    },
    {
     "name": "stdout",
     "output_type": "stream",
     "text": [
      "Train Loss: 1.9210\n",
      "Val Loss: 1.7981\n",
      "Contract Vulnerability Loss: 0.0227\n",
      "Line Vulnerability Loss: 0.0004\n",
      "Learning Rate: 0.001000\n",
      "🎉 New best validation loss! Saved checkpoint to checkpoints_v2_2048_output/best_model_epoch_20.pt\n",
      "\n",
      "Epoch 21/400\n"
     ]
    },
    {
     "name": "stderr",
     "output_type": "stream",
     "text": [
      "Epoch 20: 100%|██████████| 253/253 [03:30<00:00,  1.20it/s, gen_loss=1.7604, contract_vuln_loss=0.0185, line_vuln_loss=0.0003, lr=0.001000, grad_norm=0.21]\n"
     ]
    },
    {
     "name": "stdout",
     "output_type": "stream",
     "text": [
      "Train Loss: 1.8969\n",
      "Val Loss: 1.7790\n",
      "Contract Vulnerability Loss: 0.0227\n",
      "Line Vulnerability Loss: 0.0004\n",
      "Learning Rate: 0.001000\n",
      "🎉 New best validation loss! Saved checkpoint to checkpoints_v2_2048_output/best_model_epoch_21.pt\n",
      "\n",
      "Epoch 22/400\n"
     ]
    },
    {
     "name": "stderr",
     "output_type": "stream",
     "text": [
      "Epoch 21: 100%|██████████| 253/253 [03:15<00:00,  1.29it/s, gen_loss=1.8763, contract_vuln_loss=0.0219, line_vuln_loss=0.0004, lr=0.001000, grad_norm=0.23]\n"
     ]
    },
    {
     "name": "stdout",
     "output_type": "stream",
     "text": [
      "Train Loss: 1.8772\n",
      "Val Loss: 1.7587\n",
      "Contract Vulnerability Loss: 0.0227\n",
      "Line Vulnerability Loss: 0.0004\n",
      "Learning Rate: 0.001000\n",
      "🎉 New best validation loss! Saved checkpoint to checkpoints_v2_2048_output/best_model_epoch_22.pt\n",
      "\n",
      "Epoch 23/400\n"
     ]
    },
    {
     "name": "stderr",
     "output_type": "stream",
     "text": [
      "Epoch 22: 100%|██████████| 253/253 [02:55<00:00,  1.44it/s, gen_loss=1.8296, contract_vuln_loss=0.0227, line_vuln_loss=0.0004, lr=0.001000, grad_norm=0.23]\n"
     ]
    },
    {
     "name": "stdout",
     "output_type": "stream",
     "text": [
      "Train Loss: 1.8584\n",
      "Val Loss: 1.7355\n",
      "Contract Vulnerability Loss: 0.0227\n",
      "Line Vulnerability Loss: 0.0004\n",
      "Learning Rate: 0.001000\n",
      "🎉 New best validation loss! Saved checkpoint to checkpoints_v2_2048_output/best_model_epoch_23.pt\n",
      "\n",
      "Epoch 24/400\n"
     ]
    },
    {
     "name": "stderr",
     "output_type": "stream",
     "text": [
      "Epoch 23: 100%|██████████| 253/253 [02:56<00:00,  1.44it/s, gen_loss=1.7791, contract_vuln_loss=0.0253, line_vuln_loss=0.0004, lr=0.001000, grad_norm=0.15]\n"
     ]
    },
    {
     "name": "stdout",
     "output_type": "stream",
     "text": [
      "Train Loss: 1.8398\n",
      "Val Loss: 1.7195\n",
      "Contract Vulnerability Loss: 0.0227\n",
      "Line Vulnerability Loss: 0.0004\n",
      "Learning Rate: 0.001000\n",
      "🎉 New best validation loss! Saved checkpoint to checkpoints_v2_2048_output/best_model_epoch_24.pt\n",
      "\n",
      "Epoch 25/400\n"
     ]
    },
    {
     "name": "stderr",
     "output_type": "stream",
     "text": [
      "Epoch 24: 100%|██████████| 253/253 [02:55<00:00,  1.44it/s, gen_loss=1.7106, contract_vuln_loss=0.0272, line_vuln_loss=0.0004, lr=0.001000, grad_norm=0.22]\n"
     ]
    },
    {
     "name": "stdout",
     "output_type": "stream",
     "text": [
      "Train Loss: 1.8231\n",
      "Val Loss: 1.7173\n",
      "Contract Vulnerability Loss: 0.0227\n",
      "Line Vulnerability Loss: 0.0004\n",
      "Learning Rate: 0.001000\n",
      "🎉 New best validation loss! Saved checkpoint to checkpoints_v2_2048_output/best_model_epoch_25.pt\n",
      "\n",
      "Epoch 26/400\n"
     ]
    },
    {
     "name": "stderr",
     "output_type": "stream",
     "text": [
      "Epoch 25: 100%|██████████| 253/253 [02:55<00:00,  1.44it/s, gen_loss=1.8245, contract_vuln_loss=0.0182, line_vuln_loss=0.0004, lr=0.001000, grad_norm=0.21]\n"
     ]
    },
    {
     "name": "stdout",
     "output_type": "stream",
     "text": [
      "Train Loss: 1.8037\n",
      "Val Loss: 1.6961\n",
      "Contract Vulnerability Loss: 0.0227\n",
      "Line Vulnerability Loss: 0.0004\n",
      "Learning Rate: 0.001000\n",
      "🎉 New best validation loss! Saved checkpoint to checkpoints_v2_2048_output/best_model_epoch_26.pt\n",
      "\n",
      "Epoch 27/400\n"
     ]
    },
    {
     "name": "stderr",
     "output_type": "stream",
     "text": [
      "Epoch 26: 100%|██████████| 253/253 [02:55<00:00,  1.44it/s, gen_loss=1.7376, contract_vuln_loss=0.0205, line_vuln_loss=0.0003, lr=0.001000, grad_norm=0.21]\n"
     ]
    },
    {
     "name": "stdout",
     "output_type": "stream",
     "text": [
      "Train Loss: 1.7828\n",
      "Val Loss: 1.6600\n",
      "Contract Vulnerability Loss: 0.0227\n",
      "Line Vulnerability Loss: 0.0004\n",
      "Learning Rate: 0.001000\n",
      "🎉 New best validation loss! Saved checkpoint to checkpoints_v2_2048_output/best_model_epoch_27.pt\n",
      "\n",
      "Epoch 28/400\n"
     ]
    },
    {
     "name": "stderr",
     "output_type": "stream",
     "text": [
      "Epoch 27: 100%|██████████| 253/253 [02:56<00:00,  1.44it/s, gen_loss=1.8504, contract_vuln_loss=0.0229, line_vuln_loss=0.0004, lr=0.001000, grad_norm=0.23]\n"
     ]
    },
    {
     "name": "stdout",
     "output_type": "stream",
     "text": [
      "Train Loss: 1.7586\n",
      "Val Loss: 1.6370\n",
      "Contract Vulnerability Loss: 0.0227\n",
      "Line Vulnerability Loss: 0.0004\n",
      "Learning Rate: 0.001000\n",
      "🎉 New best validation loss! Saved checkpoint to checkpoints_v2_2048_output/best_model_epoch_28.pt\n",
      "\n",
      "Epoch 29/400\n"
     ]
    },
    {
     "name": "stderr",
     "output_type": "stream",
     "text": [
      "Epoch 28: 100%|██████████| 253/253 [02:56<00:00,  1.44it/s, gen_loss=1.6954, contract_vuln_loss=0.0155, line_vuln_loss=0.0004, lr=0.001000, grad_norm=0.23]\n"
     ]
    },
    {
     "name": "stdout",
     "output_type": "stream",
     "text": [
      "Train Loss: 1.7356\n",
      "Val Loss: 1.6286\n",
      "Contract Vulnerability Loss: 0.0227\n",
      "Line Vulnerability Loss: 0.0004\n",
      "Learning Rate: 0.001000\n",
      "🎉 New best validation loss! Saved checkpoint to checkpoints_v2_2048_output/best_model_epoch_29.pt\n",
      "\n",
      "Epoch 30/400\n"
     ]
    },
    {
     "name": "stderr",
     "output_type": "stream",
     "text": [
      "Epoch 29: 100%|██████████| 253/253 [02:56<00:00,  1.44it/s, gen_loss=1.7600, contract_vuln_loss=0.0373, line_vuln_loss=0.0006, lr=0.001000, grad_norm=0.27]\n"
     ]
    },
    {
     "name": "stdout",
     "output_type": "stream",
     "text": [
      "Train Loss: 1.7124\n",
      "Val Loss: 1.6081\n",
      "Contract Vulnerability Loss: 0.0227\n",
      "Line Vulnerability Loss: 0.0004\n",
      "Learning Rate: 0.001000\n",
      "🎉 New best validation loss! Saved checkpoint to checkpoints_v2_2048_output/best_model_epoch_30.pt\n",
      "\n",
      "Epoch 31/400\n"
     ]
    },
    {
     "name": "stderr",
     "output_type": "stream",
     "text": [
      "Epoch 30: 100%|██████████| 253/253 [02:55<00:00,  1.44it/s, gen_loss=1.6145, contract_vuln_loss=0.0221, line_vuln_loss=0.0003, lr=0.001000, grad_norm=0.18]\n"
     ]
    },
    {
     "name": "stdout",
     "output_type": "stream",
     "text": [
      "Train Loss: 1.6922\n",
      "Val Loss: 1.5894\n",
      "Contract Vulnerability Loss: 0.0227\n",
      "Line Vulnerability Loss: 0.0004\n",
      "Learning Rate: 0.001000\n",
      "🎉 New best validation loss! Saved checkpoint to checkpoints_v2_2048_output/best_model_epoch_31.pt\n",
      "\n",
      "Epoch 32/400\n"
     ]
    },
    {
     "name": "stderr",
     "output_type": "stream",
     "text": [
      "Epoch 31: 100%|██████████| 253/253 [02:56<00:00,  1.44it/s, gen_loss=1.6418, contract_vuln_loss=0.0207, line_vuln_loss=0.0003, lr=0.001000, grad_norm=0.27]\n"
     ]
    },
    {
     "name": "stdout",
     "output_type": "stream",
     "text": [
      "Train Loss: 1.6700\n",
      "Val Loss: 1.5726\n",
      "Contract Vulnerability Loss: 0.0227\n",
      "Line Vulnerability Loss: 0.0004\n",
      "Learning Rate: 0.001000\n",
      "🎉 New best validation loss! Saved checkpoint to checkpoints_v2_2048_output/best_model_epoch_32.pt\n",
      "\n",
      "Epoch 33/400\n"
     ]
    },
    {
     "name": "stderr",
     "output_type": "stream",
     "text": [
      "Epoch 32: 100%|██████████| 253/253 [02:56<00:00,  1.44it/s, gen_loss=1.7813, contract_vuln_loss=0.0241, line_vuln_loss=0.0004, lr=0.001000, grad_norm=0.34]\n"
     ]
    },
    {
     "name": "stdout",
     "output_type": "stream",
     "text": [
      "Train Loss: 1.6524\n",
      "Val Loss: 1.5598\n",
      "Contract Vulnerability Loss: 0.0227\n",
      "Line Vulnerability Loss: 0.0004\n",
      "Learning Rate: 0.001000\n",
      "🎉 New best validation loss! Saved checkpoint to checkpoints_v2_2048_output/best_model_epoch_33.pt\n",
      "\n",
      "Epoch 34/400\n"
     ]
    },
    {
     "name": "stderr",
     "output_type": "stream",
     "text": [
      "Epoch 33: 100%|██████████| 253/253 [02:55<00:00,  1.44it/s, gen_loss=1.6632, contract_vuln_loss=0.0223, line_vuln_loss=0.0004, lr=0.001000, grad_norm=0.28]\n"
     ]
    },
    {
     "name": "stdout",
     "output_type": "stream",
     "text": [
      "Train Loss: 1.6361\n",
      "Val Loss: 1.5447\n",
      "Contract Vulnerability Loss: 0.0227\n",
      "Line Vulnerability Loss: 0.0004\n",
      "Learning Rate: 0.001000\n",
      "🎉 New best validation loss! Saved checkpoint to checkpoints_v2_2048_output/best_model_epoch_34.pt\n",
      "\n",
      "Epoch 35/400\n"
     ]
    },
    {
     "name": "stderr",
     "output_type": "stream",
     "text": [
      "Epoch 34: 100%|██████████| 253/253 [02:55<00:00,  1.44it/s, gen_loss=1.6376, contract_vuln_loss=0.0238, line_vuln_loss=0.0004, lr=0.001000, grad_norm=0.28]\n"
     ]
    },
    {
     "name": "stdout",
     "output_type": "stream",
     "text": [
      "Train Loss: 1.6188\n",
      "Val Loss: 1.5353\n",
      "Contract Vulnerability Loss: 0.0227\n",
      "Line Vulnerability Loss: 0.0004\n",
      "Learning Rate: 0.001000\n",
      "🎉 New best validation loss! Saved checkpoint to checkpoints_v2_2048_output/best_model_epoch_35.pt\n",
      "\n",
      "Epoch 36/400\n"
     ]
    },
    {
     "name": "stderr",
     "output_type": "stream",
     "text": [
      "Epoch 35: 100%|██████████| 253/253 [02:55<00:00,  1.44it/s, gen_loss=1.5964, contract_vuln_loss=0.0212, line_vuln_loss=0.0005, lr=0.001000, grad_norm=0.27]\n"
     ]
    },
    {
     "name": "stdout",
     "output_type": "stream",
     "text": [
      "Train Loss: 1.6047\n",
      "Val Loss: 1.5287\n",
      "Contract Vulnerability Loss: 0.0227\n",
      "Line Vulnerability Loss: 0.0004\n",
      "Learning Rate: 0.001000\n",
      "🎉 New best validation loss! Saved checkpoint to checkpoints_v2_2048_output/best_model_epoch_36.pt\n",
      "\n",
      "Epoch 37/400\n"
     ]
    },
    {
     "name": "stderr",
     "output_type": "stream",
     "text": [
      "Epoch 36: 100%|██████████| 253/253 [02:55<00:00,  1.44it/s, gen_loss=1.7082, contract_vuln_loss=0.0292, line_vuln_loss=0.0003, lr=0.001000, grad_norm=0.40]\n"
     ]
    },
    {
     "name": "stdout",
     "output_type": "stream",
     "text": [
      "Train Loss: 1.5919\n",
      "Val Loss: 1.5311\n",
      "Contract Vulnerability Loss: 0.0227\n",
      "Line Vulnerability Loss: 0.0004\n",
      "Learning Rate: 0.001000\n",
      "No improvement for 1 epochs\n",
      "\n",
      "Epoch 38/400\n"
     ]
    },
    {
     "name": "stderr",
     "output_type": "stream",
     "text": [
      "Epoch 37: 100%|██████████| 253/253 [02:55<00:00,  1.44it/s, gen_loss=1.6149, contract_vuln_loss=0.0244, line_vuln_loss=0.0004, lr=0.001000, grad_norm=0.47]\n"
     ]
    },
    {
     "name": "stdout",
     "output_type": "stream",
     "text": [
      "Train Loss: 1.5820\n",
      "Val Loss: 1.5297\n",
      "Contract Vulnerability Loss: 0.0227\n",
      "Line Vulnerability Loss: 0.0004\n",
      "Learning Rate: 0.001000\n",
      "No improvement for 2 epochs\n",
      "\n",
      "Epoch 39/400\n"
     ]
    },
    {
     "name": "stderr",
     "output_type": "stream",
     "text": [
      "Epoch 38: 100%|██████████| 253/253 [02:55<00:00,  1.44it/s, gen_loss=1.5091, contract_vuln_loss=0.0195, line_vuln_loss=0.0003, lr=0.001000, grad_norm=0.19]\n"
     ]
    },
    {
     "name": "stdout",
     "output_type": "stream",
     "text": [
      "Train Loss: 1.5729\n",
      "Val Loss: 1.5264\n",
      "Contract Vulnerability Loss: 0.0227\n",
      "Line Vulnerability Loss: 0.0004\n",
      "Learning Rate: 0.001000\n",
      "🎉 New best validation loss! Saved checkpoint to checkpoints_v2_2048_output/best_model_epoch_39.pt\n",
      "\n",
      "Epoch 40/400\n"
     ]
    },
    {
     "name": "stderr",
     "output_type": "stream",
     "text": [
      "Epoch 39: 100%|██████████| 253/253 [02:55<00:00,  1.44it/s, gen_loss=1.6037, contract_vuln_loss=0.0157, line_vuln_loss=0.0003, lr=0.001000, grad_norm=0.35]\n"
     ]
    },
    {
     "name": "stdout",
     "output_type": "stream",
     "text": [
      "Train Loss: 1.5662\n",
      "Val Loss: 1.5138\n",
      "Contract Vulnerability Loss: 0.0227\n",
      "Line Vulnerability Loss: 0.0004\n",
      "Learning Rate: 0.001000\n",
      "🎉 New best validation loss! Saved checkpoint to checkpoints_v2_2048_output/best_model_epoch_40.pt\n",
      "\n",
      "Epoch 41/400\n"
     ]
    },
    {
     "name": "stderr",
     "output_type": "stream",
     "text": [
      "Epoch 40: 100%|██████████| 253/253 [02:55<00:00,  1.44it/s, gen_loss=1.5683, contract_vuln_loss=0.0155, line_vuln_loss=0.0002, lr=0.001000, grad_norm=0.38]\n"
     ]
    },
    {
     "name": "stdout",
     "output_type": "stream",
     "text": [
      "Train Loss: 1.5602\n",
      "Val Loss: 1.5212\n",
      "Contract Vulnerability Loss: 0.0227\n",
      "Line Vulnerability Loss: 0.0004\n",
      "Learning Rate: 0.001000\n",
      "No improvement for 1 epochs\n",
      "\n",
      "Epoch 42/400\n"
     ]
    },
    {
     "name": "stderr",
     "output_type": "stream",
     "text": [
      "Epoch 41: 100%|██████████| 253/253 [02:55<00:00,  1.44it/s, gen_loss=1.5611, contract_vuln_loss=0.0344, line_vuln_loss=0.0005, lr=0.001000, grad_norm=0.31]\n"
     ]
    },
    {
     "name": "stdout",
     "output_type": "stream",
     "text": [
      "Train Loss: 1.5533\n",
      "Val Loss: 1.5005\n",
      "Contract Vulnerability Loss: 0.0227\n",
      "Line Vulnerability Loss: 0.0004\n",
      "Learning Rate: 0.001000\n",
      "🎉 New best validation loss! Saved checkpoint to checkpoints_v2_2048_output/best_model_epoch_42.pt\n",
      "\n",
      "Epoch 43/400\n"
     ]
    },
    {
     "name": "stderr",
     "output_type": "stream",
     "text": [
      "Epoch 42: 100%|██████████| 253/253 [02:55<00:00,  1.44it/s, gen_loss=1.5404, contract_vuln_loss=0.0142, line_vuln_loss=0.0004, lr=0.001000, grad_norm=0.33]\n"
     ]
    },
    {
     "name": "stdout",
     "output_type": "stream",
     "text": [
      "Train Loss: 1.5467\n",
      "Val Loss: 1.5061\n",
      "Contract Vulnerability Loss: 0.0228\n",
      "Line Vulnerability Loss: 0.0004\n",
      "Learning Rate: 0.001000\n",
      "No improvement for 1 epochs\n",
      "\n",
      "Epoch 44/400\n"
     ]
    },
    {
     "name": "stderr",
     "output_type": "stream",
     "text": [
      "Epoch 43: 100%|██████████| 253/253 [02:55<00:00,  1.44it/s, gen_loss=1.5371, contract_vuln_loss=0.0258, line_vuln_loss=0.0004, lr=0.001000, grad_norm=0.34]\n"
     ]
    },
    {
     "name": "stdout",
     "output_type": "stream",
     "text": [
      "Train Loss: 1.5406\n",
      "Val Loss: 1.5021\n",
      "Contract Vulnerability Loss: 0.0227\n",
      "Line Vulnerability Loss: 0.0004\n",
      "Learning Rate: 0.001000\n",
      "No improvement for 2 epochs\n",
      "\n",
      "Epoch 45/400\n"
     ]
    },
    {
     "name": "stderr",
     "output_type": "stream",
     "text": [
      "Epoch 44: 100%|██████████| 253/253 [02:55<00:00,  1.44it/s, gen_loss=1.4965, contract_vuln_loss=0.0285, line_vuln_loss=0.0004, lr=0.001000, grad_norm=0.28]\n"
     ]
    },
    {
     "name": "stdout",
     "output_type": "stream",
     "text": [
      "Train Loss: 1.5350\n",
      "Val Loss: 1.4974\n",
      "Contract Vulnerability Loss: 0.0227\n",
      "Line Vulnerability Loss: 0.0004\n",
      "Learning Rate: 0.001000\n",
      "🎉 New best validation loss! Saved checkpoint to checkpoints_v2_2048_output/best_model_epoch_45.pt\n",
      "\n",
      "Epoch 46/400\n"
     ]
    },
    {
     "name": "stderr",
     "output_type": "stream",
     "text": [
      "Epoch 45: 100%|██████████| 253/253 [02:55<00:00,  1.44it/s, gen_loss=1.5612, contract_vuln_loss=0.0286, line_vuln_loss=0.0004, lr=0.001000, grad_norm=0.37]\n"
     ]
    },
    {
     "name": "stdout",
     "output_type": "stream",
     "text": [
      "Train Loss: 1.5295\n",
      "Val Loss: 1.4996\n",
      "Contract Vulnerability Loss: 0.0227\n",
      "Line Vulnerability Loss: 0.0004\n",
      "Learning Rate: 0.001000\n",
      "No improvement for 1 epochs\n",
      "\n",
      "Epoch 47/400\n"
     ]
    },
    {
     "name": "stderr",
     "output_type": "stream",
     "text": [
      "Epoch 46: 100%|██████████| 253/253 [02:55<00:00,  1.44it/s, gen_loss=1.5023, contract_vuln_loss=0.0188, line_vuln_loss=0.0003, lr=0.001000, grad_norm=0.31]\n"
     ]
    },
    {
     "name": "stdout",
     "output_type": "stream",
     "text": [
      "Train Loss: 1.5253\n",
      "Val Loss: 1.5030\n",
      "Contract Vulnerability Loss: 0.0227\n",
      "Line Vulnerability Loss: 0.0004\n",
      "Learning Rate: 0.001000\n",
      "No improvement for 2 epochs\n",
      "\n",
      "Epoch 48/400\n"
     ]
    },
    {
     "name": "stderr",
     "output_type": "stream",
     "text": [
      "Epoch 47: 100%|██████████| 253/253 [02:55<00:00,  1.44it/s, gen_loss=1.5020, contract_vuln_loss=0.0228, line_vuln_loss=0.0004, lr=0.001000, grad_norm=0.37]\n"
     ]
    },
    {
     "name": "stdout",
     "output_type": "stream",
     "text": [
      "Train Loss: 1.5203\n",
      "Val Loss: 1.4943\n",
      "Contract Vulnerability Loss: 0.0227\n",
      "Line Vulnerability Loss: 0.0004\n",
      "Learning Rate: 0.001000\n",
      "🎉 New best validation loss! Saved checkpoint to checkpoints_v2_2048_output/best_model_epoch_48.pt\n",
      "\n",
      "Epoch 49/400\n"
     ]
    },
    {
     "name": "stderr",
     "output_type": "stream",
     "text": [
      "Epoch 48: 100%|██████████| 253/253 [02:55<00:00,  1.44it/s, gen_loss=1.4942, contract_vuln_loss=0.0181, line_vuln_loss=0.0003, lr=0.001000, grad_norm=0.30]\n"
     ]
    },
    {
     "name": "stdout",
     "output_type": "stream",
     "text": [
      "Train Loss: 1.5170\n",
      "Val Loss: 1.5038\n",
      "Contract Vulnerability Loss: 0.0227\n",
      "Line Vulnerability Loss: 0.0004\n",
      "Learning Rate: 0.001000\n",
      "No improvement for 1 epochs\n",
      "\n",
      "Epoch 50/400\n"
     ]
    },
    {
     "name": "stderr",
     "output_type": "stream",
     "text": [
      "Epoch 49: 100%|██████████| 253/253 [02:55<00:00,  1.44it/s, gen_loss=1.4934, contract_vuln_loss=0.0200, line_vuln_loss=0.0004, lr=0.001000, grad_norm=0.28]\n"
     ]
    },
    {
     "name": "stdout",
     "output_type": "stream",
     "text": [
      "Train Loss: 1.5130\n",
      "Val Loss: 1.4929\n",
      "Contract Vulnerability Loss: 0.0227\n",
      "Line Vulnerability Loss: 0.0004\n",
      "Learning Rate: 0.001000\n",
      "🎉 New best validation loss! Saved checkpoint to checkpoints_v2_2048_output/best_model_epoch_50.pt\n",
      "\n",
      "Epoch 51/400\n"
     ]
    },
    {
     "name": "stderr",
     "output_type": "stream",
     "text": [
      "Epoch 50: 100%|██████████| 253/253 [02:55<00:00,  1.44it/s, gen_loss=1.5571, contract_vuln_loss=0.0191, line_vuln_loss=0.0003, lr=0.001000, grad_norm=0.50]\n"
     ]
    },
    {
     "name": "stdout",
     "output_type": "stream",
     "text": [
      "Train Loss: 1.5109\n",
      "Val Loss: 1.4883\n",
      "Contract Vulnerability Loss: 0.0227\n",
      "Line Vulnerability Loss: 0.0004\n",
      "Learning Rate: 0.001000\n",
      "🎉 New best validation loss! Saved checkpoint to checkpoints_v2_2048_output/best_model_epoch_51.pt\n",
      "\n",
      "Epoch 52/400\n"
     ]
    },
    {
     "name": "stderr",
     "output_type": "stream",
     "text": [
      "Epoch 51: 100%|██████████| 253/253 [02:55<00:00,  1.44it/s, gen_loss=1.5300, contract_vuln_loss=0.0190, line_vuln_loss=0.0006, lr=0.001000, grad_norm=0.40]\n"
     ]
    },
    {
     "name": "stdout",
     "output_type": "stream",
     "text": [
      "Train Loss: 1.5087\n",
      "Val Loss: 1.4891\n",
      "Contract Vulnerability Loss: 0.0227\n",
      "Line Vulnerability Loss: 0.0004\n",
      "Learning Rate: 0.001000\n",
      "No improvement for 1 epochs\n",
      "\n",
      "Epoch 53/400\n"
     ]
    },
    {
     "name": "stderr",
     "output_type": "stream",
     "text": [
      "Epoch 52: 100%|██████████| 253/253 [02:55<00:00,  1.44it/s, gen_loss=1.5137, contract_vuln_loss=0.0168, line_vuln_loss=0.0004, lr=0.001000, grad_norm=0.36]\n"
     ]
    },
    {
     "name": "stdout",
     "output_type": "stream",
     "text": [
      "Train Loss: 1.5058\n",
      "Val Loss: 1.4936\n",
      "Contract Vulnerability Loss: 0.0227\n",
      "Line Vulnerability Loss: 0.0004\n",
      "Learning Rate: 0.001000\n",
      "No improvement for 2 epochs\n",
      "\n",
      "Epoch 54/400\n"
     ]
    },
    {
     "name": "stderr",
     "output_type": "stream",
     "text": [
      "Epoch 53: 100%|██████████| 253/253 [02:55<00:00,  1.44it/s, gen_loss=1.5455, contract_vuln_loss=0.0302, line_vuln_loss=0.0007, lr=0.001000, grad_norm=0.39]\n"
     ]
    },
    {
     "name": "stdout",
     "output_type": "stream",
     "text": [
      "Train Loss: 1.5037\n",
      "Val Loss: 1.4907\n",
      "Contract Vulnerability Loss: 0.0227\n",
      "Line Vulnerability Loss: 0.0004\n",
      "Learning Rate: 0.001000\n",
      "No improvement for 3 epochs\n",
      "\n",
      "Epoch 55/400\n"
     ]
    },
    {
     "name": "stderr",
     "output_type": "stream",
     "text": [
      "Epoch 54: 100%|██████████| 253/253 [02:55<00:00,  1.44it/s, gen_loss=1.4820, contract_vuln_loss=0.0333, line_vuln_loss=0.0003, lr=0.001000, grad_norm=0.39]\n"
     ]
    },
    {
     "name": "stdout",
     "output_type": "stream",
     "text": [
      "Train Loss: 1.5009\n",
      "Val Loss: 1.4936\n",
      "Contract Vulnerability Loss: 0.0227\n",
      "Line Vulnerability Loss: 0.0004\n",
      "Learning Rate: 0.001000\n",
      "No improvement for 4 epochs\n",
      "\n",
      "Epoch 56/400\n"
     ]
    },
    {
     "name": "stderr",
     "output_type": "stream",
     "text": [
      "Epoch 55: 100%|██████████| 253/253 [02:55<00:00,  1.44it/s, gen_loss=1.4841, contract_vuln_loss=0.0263, line_vuln_loss=0.0004, lr=0.001000, grad_norm=0.34]\n"
     ]
    },
    {
     "name": "stdout",
     "output_type": "stream",
     "text": [
      "Train Loss: 1.4991\n",
      "Val Loss: 1.4881\n",
      "Contract Vulnerability Loss: 0.0227\n",
      "Line Vulnerability Loss: 0.0004\n",
      "Learning Rate: 0.001000\n",
      "🎉 New best validation loss! Saved checkpoint to checkpoints_v2_2048_output/best_model_epoch_56.pt\n",
      "\n",
      "Epoch 57/400\n"
     ]
    },
    {
     "name": "stderr",
     "output_type": "stream",
     "text": [
      "Epoch 56: 100%|██████████| 253/253 [02:55<00:00,  1.44it/s, gen_loss=1.4847, contract_vuln_loss=0.0212, line_vuln_loss=0.0004, lr=0.001000, grad_norm=0.34]\n"
     ]
    },
    {
     "name": "stdout",
     "output_type": "stream",
     "text": [
      "Train Loss: 1.4971\n",
      "Val Loss: 1.4890\n",
      "Contract Vulnerability Loss: 0.0227\n",
      "Line Vulnerability Loss: 0.0004\n",
      "Learning Rate: 0.001000\n",
      "No improvement for 1 epochs\n",
      "\n",
      "Epoch 58/400\n"
     ]
    },
    {
     "name": "stderr",
     "output_type": "stream",
     "text": [
      "Epoch 57: 100%|██████████| 253/253 [02:55<00:00,  1.44it/s, gen_loss=1.4950, contract_vuln_loss=0.0256, line_vuln_loss=0.0004, lr=0.001000, grad_norm=0.40]\n"
     ]
    },
    {
     "name": "stdout",
     "output_type": "stream",
     "text": [
      "Train Loss: 1.4961\n",
      "Val Loss: 1.4868\n",
      "Contract Vulnerability Loss: 0.0227\n",
      "Line Vulnerability Loss: 0.0004\n",
      "Learning Rate: 0.001000\n",
      "🎉 New best validation loss! Saved checkpoint to checkpoints_v2_2048_output/best_model_epoch_58.pt\n",
      "\n",
      "Epoch 59/400\n"
     ]
    },
    {
     "name": "stderr",
     "output_type": "stream",
     "text": [
      "Epoch 58: 100%|██████████| 253/253 [02:55<00:00,  1.44it/s, gen_loss=1.4703, contract_vuln_loss=0.0214, line_vuln_loss=0.0003, lr=0.001000, grad_norm=0.35]\n"
     ]
    },
    {
     "name": "stdout",
     "output_type": "stream",
     "text": [
      "Train Loss: 1.4941\n",
      "Val Loss: 1.4808\n",
      "Contract Vulnerability Loss: 0.0227\n",
      "Line Vulnerability Loss: 0.0004\n",
      "Learning Rate: 0.001000\n",
      "🎉 New best validation loss! Saved checkpoint to checkpoints_v2_2048_output/best_model_epoch_59.pt\n",
      "\n",
      "Epoch 60/400\n"
     ]
    },
    {
     "name": "stderr",
     "output_type": "stream",
     "text": [
      "Epoch 59: 100%|██████████| 253/253 [02:55<00:00,  1.44it/s, gen_loss=1.4784, contract_vuln_loss=0.0243, line_vuln_loss=0.0004, lr=0.001000, grad_norm=0.33]\n"
     ]
    },
    {
     "name": "stdout",
     "output_type": "stream",
     "text": [
      "Train Loss: 1.4930\n",
      "Val Loss: 1.4773\n",
      "Contract Vulnerability Loss: 0.0227\n",
      "Line Vulnerability Loss: 0.0004\n",
      "Learning Rate: 0.001000\n",
      "🎉 New best validation loss! Saved checkpoint to checkpoints_v2_2048_output/best_model_epoch_60.pt\n",
      "\n",
      "Epoch 61/400\n"
     ]
    },
    {
     "name": "stderr",
     "output_type": "stream",
     "text": [
      "Epoch 60: 100%|██████████| 253/253 [02:55<00:00,  1.44it/s, gen_loss=1.4806, contract_vuln_loss=0.0162, line_vuln_loss=0.0003, lr=0.001000, grad_norm=0.41]\n"
     ]
    },
    {
     "name": "stdout",
     "output_type": "stream",
     "text": [
      "Train Loss: 1.4924\n",
      "Val Loss: 1.4832\n",
      "Contract Vulnerability Loss: 0.0227\n",
      "Line Vulnerability Loss: 0.0004\n",
      "Learning Rate: 0.001000\n",
      "No improvement for 1 epochs\n",
      "\n",
      "Epoch 62/400\n"
     ]
    },
    {
     "name": "stderr",
     "output_type": "stream",
     "text": [
      "Epoch 61: 100%|██████████| 253/253 [02:55<00:00,  1.44it/s, gen_loss=1.5037, contract_vuln_loss=0.0178, line_vuln_loss=0.0004, lr=0.001000, grad_norm=0.53]\n"
     ]
    },
    {
     "name": "stdout",
     "output_type": "stream",
     "text": [
      "Train Loss: 1.4916\n",
      "Val Loss: 1.4743\n",
      "Contract Vulnerability Loss: 0.0227\n",
      "Line Vulnerability Loss: 0.0004\n",
      "Learning Rate: 0.001000\n",
      "🎉 New best validation loss! Saved checkpoint to checkpoints_v2_2048_output/best_model_epoch_62.pt\n",
      "\n",
      "Epoch 63/400\n"
     ]
    },
    {
     "name": "stderr",
     "output_type": "stream",
     "text": [
      "Epoch 62: 100%|██████████| 253/253 [02:55<00:00,  1.44it/s, gen_loss=1.5145, contract_vuln_loss=0.0207, line_vuln_loss=0.0004, lr=0.001000, grad_norm=0.43]\n"
     ]
    },
    {
     "name": "stdout",
     "output_type": "stream",
     "text": [
      "Train Loss: 1.4892\n",
      "Val Loss: 1.4751\n",
      "Contract Vulnerability Loss: 0.0227\n",
      "Line Vulnerability Loss: 0.0004\n",
      "Learning Rate: 0.001000\n",
      "No improvement for 1 epochs\n",
      "\n",
      "Epoch 64/400\n"
     ]
    },
    {
     "name": "stderr",
     "output_type": "stream",
     "text": [
      "Epoch 63: 100%|██████████| 253/253 [02:55<00:00,  1.44it/s, gen_loss=1.4975, contract_vuln_loss=0.0171, line_vuln_loss=0.0004, lr=0.001000, grad_norm=0.46]\n"
     ]
    },
    {
     "name": "stdout",
     "output_type": "stream",
     "text": [
      "Train Loss: 1.4893\n",
      "Val Loss: 1.4860\n",
      "Contract Vulnerability Loss: 0.0227\n",
      "Line Vulnerability Loss: 0.0004\n",
      "Learning Rate: 0.001000\n",
      "No improvement for 2 epochs\n",
      "\n",
      "Epoch 65/400\n"
     ]
    },
    {
     "name": "stderr",
     "output_type": "stream",
     "text": [
      "Epoch 64: 100%|██████████| 253/253 [02:55<00:00,  1.44it/s, gen_loss=1.4655, contract_vuln_loss=0.0133, line_vuln_loss=0.0006, lr=0.001000, grad_norm=0.38]\n"
     ]
    },
    {
     "name": "stdout",
     "output_type": "stream",
     "text": [
      "Train Loss: 1.4881\n",
      "Val Loss: 1.4782\n",
      "Contract Vulnerability Loss: 0.0228\n",
      "Line Vulnerability Loss: 0.0004\n",
      "Learning Rate: 0.001000\n",
      "No improvement for 3 epochs\n",
      "\n",
      "Epoch 66/400\n"
     ]
    },
    {
     "name": "stderr",
     "output_type": "stream",
     "text": [
      "Epoch 65: 100%|██████████| 253/253 [02:55<00:00,  1.44it/s, gen_loss=1.5326, contract_vuln_loss=0.0241, line_vuln_loss=0.0002, lr=0.001000, grad_norm=0.63]\n"
     ]
    },
    {
     "name": "stdout",
     "output_type": "stream",
     "text": [
      "Train Loss: 1.4864\n",
      "Val Loss: 1.4734\n",
      "Contract Vulnerability Loss: 0.0227\n",
      "Line Vulnerability Loss: 0.0004\n",
      "Learning Rate: 0.001000\n",
      "🎉 New best validation loss! Saved checkpoint to checkpoints_v2_2048_output/best_model_epoch_66.pt\n",
      "\n",
      "Epoch 67/400\n"
     ]
    },
    {
     "name": "stderr",
     "output_type": "stream",
     "text": [
      "Epoch 66: 100%|██████████| 253/253 [02:55<00:00,  1.44it/s, gen_loss=1.5211, contract_vuln_loss=0.0351, line_vuln_loss=0.0004, lr=0.001000, grad_norm=0.57]\n"
     ]
    },
    {
     "name": "stdout",
     "output_type": "stream",
     "text": [
      "Train Loss: 1.4859\n",
      "Val Loss: 1.4845\n",
      "Contract Vulnerability Loss: 0.0227\n",
      "Line Vulnerability Loss: 0.0004\n",
      "Learning Rate: 0.001000\n",
      "No improvement for 1 epochs\n",
      "\n",
      "Epoch 68/400\n"
     ]
    },
    {
     "name": "stderr",
     "output_type": "stream",
     "text": [
      "Epoch 67: 100%|██████████| 253/253 [02:55<00:00,  1.44it/s, gen_loss=1.5260, contract_vuln_loss=0.0262, line_vuln_loss=0.0004, lr=0.001000, grad_norm=0.77]\n"
     ]
    },
    {
     "name": "stdout",
     "output_type": "stream",
     "text": [
      "Train Loss: 1.4846\n",
      "Val Loss: 1.4766\n",
      "Contract Vulnerability Loss: 0.0227\n",
      "Line Vulnerability Loss: 0.0004\n",
      "Learning Rate: 0.001000\n",
      "No improvement for 2 epochs\n",
      "\n",
      "Epoch 69/400\n"
     ]
    },
    {
     "name": "stderr",
     "output_type": "stream",
     "text": [
      "Epoch 68: 100%|██████████| 253/253 [02:55<00:00,  1.44it/s, gen_loss=1.5014, contract_vuln_loss=0.0212, line_vuln_loss=0.0004, lr=0.001000, grad_norm=0.34]\n"
     ]
    },
    {
     "name": "stdout",
     "output_type": "stream",
     "text": [
      "Train Loss: 1.4832\n",
      "Val Loss: 1.4730\n",
      "Contract Vulnerability Loss: 0.0227\n",
      "Line Vulnerability Loss: 0.0004\n",
      "Learning Rate: 0.001000\n",
      "🎉 New best validation loss! Saved checkpoint to checkpoints_v2_2048_output/best_model_epoch_69.pt\n",
      "\n",
      "Epoch 70/400\n"
     ]
    },
    {
     "name": "stderr",
     "output_type": "stream",
     "text": [
      "Epoch 69: 100%|██████████| 253/253 [02:55<00:00,  1.44it/s, gen_loss=1.5096, contract_vuln_loss=0.0388, line_vuln_loss=0.0005, lr=0.001000, grad_norm=0.81]\n"
     ]
    },
    {
     "name": "stdout",
     "output_type": "stream",
     "text": [
      "Train Loss: 1.4814\n",
      "Val Loss: 1.4791\n",
      "Contract Vulnerability Loss: 0.0227\n",
      "Line Vulnerability Loss: 0.0004\n",
      "Learning Rate: 0.001000\n",
      "No improvement for 1 epochs\n",
      "\n",
      "Epoch 71/400\n"
     ]
    },
    {
     "name": "stderr",
     "output_type": "stream",
     "text": [
      "Epoch 70: 100%|██████████| 253/253 [02:55<00:00,  1.44it/s, gen_loss=1.5215, contract_vuln_loss=0.0174, line_vuln_loss=0.0005, lr=0.001000, grad_norm=0.57]\n"
     ]
    },
    {
     "name": "stdout",
     "output_type": "stream",
     "text": [
      "Train Loss: 1.4803\n",
      "Val Loss: 1.4763\n",
      "Contract Vulnerability Loss: 0.0227\n",
      "Line Vulnerability Loss: 0.0004\n",
      "Learning Rate: 0.001000\n",
      "No improvement for 2 epochs\n",
      "\n",
      "Epoch 72/400\n"
     ]
    },
    {
     "name": "stderr",
     "output_type": "stream",
     "text": [
      "Epoch 71: 100%|██████████| 253/253 [02:55<00:00,  1.44it/s, gen_loss=1.4853, contract_vuln_loss=0.0252, line_vuln_loss=0.0004, lr=0.001000, grad_norm=0.59]\n"
     ]
    },
    {
     "name": "stdout",
     "output_type": "stream",
     "text": [
      "Train Loss: 1.4804\n",
      "Val Loss: 1.4750\n",
      "Contract Vulnerability Loss: 0.0227\n",
      "Line Vulnerability Loss: 0.0004\n",
      "Learning Rate: 0.001000\n",
      "No improvement for 3 epochs\n",
      "\n",
      "Epoch 73/400\n"
     ]
    },
    {
     "name": "stderr",
     "output_type": "stream",
     "text": [
      "Epoch 72: 100%|██████████| 253/253 [02:55<00:00,  1.44it/s, gen_loss=1.5016, contract_vuln_loss=0.0278, line_vuln_loss=0.0004, lr=0.001000, grad_norm=0.54]\n"
     ]
    },
    {
     "name": "stdout",
     "output_type": "stream",
     "text": [
      "Train Loss: 1.4787\n",
      "Val Loss: 1.4727\n",
      "Contract Vulnerability Loss: 0.0227\n",
      "Line Vulnerability Loss: 0.0004\n",
      "Learning Rate: 0.001000\n",
      "🎉 New best validation loss! Saved checkpoint to checkpoints_v2_2048_output/best_model_epoch_73.pt\n",
      "\n",
      "Epoch 74/400\n"
     ]
    },
    {
     "name": "stderr",
     "output_type": "stream",
     "text": [
      "Epoch 73: 100%|██████████| 253/253 [02:55<00:00,  1.44it/s, gen_loss=1.4784, contract_vuln_loss=0.0220, line_vuln_loss=0.0004, lr=0.001000, grad_norm=0.38]\n"
     ]
    },
    {
     "name": "stdout",
     "output_type": "stream",
     "text": [
      "Train Loss: 1.4794\n",
      "Val Loss: 1.4656\n",
      "Contract Vulnerability Loss: 0.0227\n",
      "Line Vulnerability Loss: 0.0004\n",
      "Learning Rate: 0.001000\n",
      "🎉 New best validation loss! Saved checkpoint to checkpoints_v2_2048_output/best_model_epoch_74.pt\n",
      "\n",
      "Epoch 75/400\n"
     ]
    },
    {
     "name": "stderr",
     "output_type": "stream",
     "text": [
      "Epoch 74: 100%|██████████| 253/253 [02:55<00:00,  1.44it/s, gen_loss=1.4538, contract_vuln_loss=0.0219, line_vuln_loss=0.0004, lr=0.001000, grad_norm=0.36]\n"
     ]
    },
    {
     "name": "stdout",
     "output_type": "stream",
     "text": [
      "Train Loss: 1.4775\n",
      "Val Loss: 1.4760\n",
      "Contract Vulnerability Loss: 0.0227\n",
      "Line Vulnerability Loss: 0.0004\n",
      "Learning Rate: 0.001000\n",
      "No improvement for 1 epochs\n",
      "\n",
      "Epoch 76/400\n"
     ]
    },
    {
     "name": "stderr",
     "output_type": "stream",
     "text": [
      "Epoch 75: 100%|██████████| 253/253 [02:55<00:00,  1.44it/s, gen_loss=1.4536, contract_vuln_loss=0.0163, line_vuln_loss=0.0004, lr=0.001000, grad_norm=0.35]\n"
     ]
    },
    {
     "name": "stdout",
     "output_type": "stream",
     "text": [
      "Train Loss: 1.4779\n",
      "Val Loss: 1.4708\n",
      "Contract Vulnerability Loss: 0.0227\n",
      "Line Vulnerability Loss: 0.0004\n",
      "Learning Rate: 0.001000\n",
      "No improvement for 2 epochs\n",
      "\n",
      "Epoch 77/400\n"
     ]
    },
    {
     "name": "stderr",
     "output_type": "stream",
     "text": [
      "Epoch 76: 100%|██████████| 253/253 [02:55<00:00,  1.45it/s, gen_loss=1.4577, contract_vuln_loss=0.0190, line_vuln_loss=0.0005, lr=0.001000, grad_norm=0.42]\n"
     ]
    },
    {
     "name": "stdout",
     "output_type": "stream",
     "text": [
      "Train Loss: 1.4779\n",
      "Val Loss: 1.4748\n",
      "Contract Vulnerability Loss: 0.0227\n",
      "Line Vulnerability Loss: 0.0004\n",
      "Learning Rate: 0.001000\n",
      "No improvement for 3 epochs\n",
      "\n",
      "Epoch 78/400\n"
     ]
    },
    {
     "name": "stderr",
     "output_type": "stream",
     "text": [
      "Epoch 77: 100%|██████████| 253/253 [02:55<00:00,  1.45it/s, gen_loss=1.4721, contract_vuln_loss=0.0237, line_vuln_loss=0.0004, lr=0.001000, grad_norm=0.56]\n"
     ]
    },
    {
     "name": "stdout",
     "output_type": "stream",
     "text": [
      "Train Loss: 1.4772\n",
      "Val Loss: 1.4733\n",
      "Contract Vulnerability Loss: 0.0227\n",
      "Line Vulnerability Loss: 0.0004\n",
      "Learning Rate: 0.001000\n",
      "No improvement for 4 epochs\n",
      "\n",
      "Epoch 79/400\n"
     ]
    },
    {
     "name": "stderr",
     "output_type": "stream",
     "text": [
      "Epoch 78: 100%|██████████| 253/253 [02:55<00:00,  1.44it/s, gen_loss=1.4957, contract_vuln_loss=0.0209, line_vuln_loss=0.0006, lr=0.001000, grad_norm=0.58]\n"
     ]
    },
    {
     "name": "stdout",
     "output_type": "stream",
     "text": [
      "Train Loss: 1.4762\n",
      "Val Loss: 1.4704\n",
      "Contract Vulnerability Loss: 0.0227\n",
      "Line Vulnerability Loss: 0.0004\n",
      "Learning Rate: 0.001000\n",
      "No improvement for 5 epochs\n",
      "\n",
      "Epoch 80/400\n"
     ]
    },
    {
     "name": "stderr",
     "output_type": "stream",
     "text": [
      "Epoch 79: 100%|██████████| 253/253 [02:55<00:00,  1.44it/s, gen_loss=1.4694, contract_vuln_loss=0.0140, line_vuln_loss=0.0003, lr=0.001000, grad_norm=0.38]\n"
     ]
    },
    {
     "name": "stdout",
     "output_type": "stream",
     "text": [
      "Train Loss: 1.4765\n",
      "Val Loss: 1.4722\n",
      "Contract Vulnerability Loss: 0.0227\n",
      "Line Vulnerability Loss: 0.0004\n",
      "Learning Rate: 0.001000\n",
      "No improvement for 6 epochs\n",
      "\n",
      "Epoch 81/400\n"
     ]
    },
    {
     "name": "stderr",
     "output_type": "stream",
     "text": [
      "Epoch 80: 100%|██████████| 253/253 [02:55<00:00,  1.44it/s, gen_loss=1.4900, contract_vuln_loss=0.0193, line_vuln_loss=0.0004, lr=0.000500, grad_norm=0.42]\n"
     ]
    },
    {
     "name": "stdout",
     "output_type": "stream",
     "text": [
      "Train Loss: 1.4567\n",
      "Val Loss: 1.4639\n",
      "Contract Vulnerability Loss: 0.0227\n",
      "Line Vulnerability Loss: 0.0004\n",
      "Learning Rate: 0.000500\n",
      "🎉 New best validation loss! Saved checkpoint to checkpoints_v2_2048_output/best_model_epoch_81.pt\n",
      "\n",
      "Epoch 82/400\n"
     ]
    },
    {
     "name": "stderr",
     "output_type": "stream",
     "text": [
      "Epoch 81: 100%|██████████| 253/253 [02:55<00:00,  1.44it/s, gen_loss=1.4486, contract_vuln_loss=0.0176, line_vuln_loss=0.0003, lr=0.000500, grad_norm=0.35]\n"
     ]
    },
    {
     "name": "stdout",
     "output_type": "stream",
     "text": [
      "Train Loss: 1.4530\n",
      "Val Loss: 1.4593\n",
      "Contract Vulnerability Loss: 0.0227\n",
      "Line Vulnerability Loss: 0.0004\n",
      "Learning Rate: 0.000500\n",
      "🎉 New best validation loss! Saved checkpoint to checkpoints_v2_2048_output/best_model_epoch_82.pt\n",
      "\n",
      "Epoch 83/400\n"
     ]
    },
    {
     "name": "stderr",
     "output_type": "stream",
     "text": [
      "Epoch 82: 100%|██████████| 253/253 [02:55<00:00,  1.44it/s, gen_loss=1.4657, contract_vuln_loss=0.0217, line_vuln_loss=0.0006, lr=0.000500, grad_norm=0.46]\n"
     ]
    },
    {
     "name": "stdout",
     "output_type": "stream",
     "text": [
      "Train Loss: 1.4527\n",
      "Val Loss: 1.4615\n",
      "Contract Vulnerability Loss: 0.0227\n",
      "Line Vulnerability Loss: 0.0004\n",
      "Learning Rate: 0.000500\n",
      "No improvement for 1 epochs\n",
      "\n",
      "Epoch 84/400\n"
     ]
    },
    {
     "name": "stderr",
     "output_type": "stream",
     "text": [
      "Epoch 83: 100%|██████████| 253/253 [02:55<00:00,  1.44it/s, gen_loss=1.4527, contract_vuln_loss=0.0238, line_vuln_loss=0.0002, lr=0.000500, grad_norm=0.27]\n"
     ]
    },
    {
     "name": "stdout",
     "output_type": "stream",
     "text": [
      "Train Loss: 1.4517\n",
      "Val Loss: 1.4543\n",
      "Contract Vulnerability Loss: 0.0227\n",
      "Line Vulnerability Loss: 0.0004\n",
      "Learning Rate: 0.000500\n",
      "🎉 New best validation loss! Saved checkpoint to checkpoints_v2_2048_output/best_model_epoch_84.pt\n",
      "\n",
      "Epoch 85/400\n"
     ]
    },
    {
     "name": "stderr",
     "output_type": "stream",
     "text": [
      "Epoch 84: 100%|██████████| 253/253 [02:55<00:00,  1.44it/s, gen_loss=1.4497, contract_vuln_loss=0.0147, line_vuln_loss=0.0005, lr=0.000500, grad_norm=0.30]\n"
     ]
    },
    {
     "name": "stdout",
     "output_type": "stream",
     "text": [
      "Train Loss: 1.4510\n",
      "Val Loss: 1.4588\n",
      "Contract Vulnerability Loss: 0.0227\n",
      "Line Vulnerability Loss: 0.0004\n",
      "Learning Rate: 0.000500\n",
      "No improvement for 1 epochs\n",
      "\n",
      "Epoch 86/400\n"
     ]
    },
    {
     "name": "stderr",
     "output_type": "stream",
     "text": [
      "Epoch 85: 100%|██████████| 253/253 [02:55<00:00,  1.44it/s, gen_loss=1.4804, contract_vuln_loss=0.0364, line_vuln_loss=0.0004, lr=0.000500, grad_norm=0.54]\n"
     ]
    },
    {
     "name": "stdout",
     "output_type": "stream",
     "text": [
      "Train Loss: 1.4509\n",
      "Val Loss: 1.4597\n",
      "Contract Vulnerability Loss: 0.0227\n",
      "Line Vulnerability Loss: 0.0004\n",
      "Learning Rate: 0.000500\n",
      "No improvement for 2 epochs\n",
      "\n",
      "Epoch 87/400\n"
     ]
    },
    {
     "name": "stderr",
     "output_type": "stream",
     "text": [
      "Epoch 86: 100%|██████████| 253/253 [02:55<00:00,  1.44it/s, gen_loss=1.4562, contract_vuln_loss=0.0252, line_vuln_loss=0.0004, lr=0.000500, grad_norm=0.30]\n"
     ]
    },
    {
     "name": "stdout",
     "output_type": "stream",
     "text": [
      "Train Loss: 1.4501\n",
      "Val Loss: 1.4573\n",
      "Contract Vulnerability Loss: 0.0227\n",
      "Line Vulnerability Loss: 0.0004\n",
      "Learning Rate: 0.000500\n",
      "No improvement for 3 epochs\n",
      "\n",
      "Epoch 88/400\n"
     ]
    },
    {
     "name": "stderr",
     "output_type": "stream",
     "text": [
      "Epoch 87: 100%|██████████| 253/253 [02:55<00:00,  1.44it/s, gen_loss=1.4496, contract_vuln_loss=0.0253, line_vuln_loss=0.0003, lr=0.000500, grad_norm=0.46]\n"
     ]
    },
    {
     "name": "stdout",
     "output_type": "stream",
     "text": [
      "Train Loss: 1.4499\n",
      "Val Loss: 1.4586\n",
      "Contract Vulnerability Loss: 0.0227\n",
      "Line Vulnerability Loss: 0.0004\n",
      "Learning Rate: 0.000500\n",
      "No improvement for 4 epochs\n",
      "\n",
      "Epoch 89/400\n"
     ]
    },
    {
     "name": "stderr",
     "output_type": "stream",
     "text": [
      "Epoch 88: 100%|██████████| 253/253 [02:55<00:00,  1.45it/s, gen_loss=1.4667, contract_vuln_loss=0.0212, line_vuln_loss=0.0003, lr=0.000500, grad_norm=0.42]\n"
     ]
    },
    {
     "name": "stdout",
     "output_type": "stream",
     "text": [
      "Train Loss: 1.4496\n",
      "Val Loss: 1.4579\n",
      "Contract Vulnerability Loss: 0.0227\n",
      "Line Vulnerability Loss: 0.0004\n",
      "Learning Rate: 0.000500\n",
      "No improvement for 5 epochs\n",
      "\n",
      "Epoch 90/400\n"
     ]
    },
    {
     "name": "stderr",
     "output_type": "stream",
     "text": [
      "Epoch 89: 100%|██████████| 253/253 [02:55<00:00,  1.45it/s, gen_loss=1.4685, contract_vuln_loss=0.0364, line_vuln_loss=0.0004, lr=0.000500, grad_norm=0.52]\n"
     ]
    },
    {
     "name": "stdout",
     "output_type": "stream",
     "text": [
      "Train Loss: 1.4492\n",
      "Val Loss: 1.4619\n",
      "Contract Vulnerability Loss: 0.0227\n",
      "Line Vulnerability Loss: 0.0004\n",
      "Learning Rate: 0.000500\n",
      "No improvement for 6 epochs\n",
      "\n",
      "Epoch 91/400\n"
     ]
    },
    {
     "name": "stderr",
     "output_type": "stream",
     "text": [
      "Epoch 90: 100%|██████████| 253/253 [02:54<00:00,  1.45it/s, gen_loss=1.4442, contract_vuln_loss=0.0214, line_vuln_loss=0.0004, lr=0.000250, grad_norm=0.28]\n"
     ]
    },
    {
     "name": "stdout",
     "output_type": "stream",
     "text": [
      "Train Loss: 1.4409\n",
      "Val Loss: 1.4527\n",
      "Contract Vulnerability Loss: 0.0227\n",
      "Line Vulnerability Loss: 0.0004\n",
      "Learning Rate: 0.000250\n",
      "🎉 New best validation loss! Saved checkpoint to checkpoints_v2_2048_output/best_model_epoch_91.pt\n",
      "\n",
      "Epoch 92/400\n"
     ]
    },
    {
     "name": "stderr",
     "output_type": "stream",
     "text": [
      "Epoch 91: 100%|██████████| 253/253 [02:55<00:00,  1.44it/s, gen_loss=1.4339, contract_vuln_loss=0.0246, line_vuln_loss=0.0004, lr=0.000250, grad_norm=0.22]\n"
     ]
    },
    {
     "name": "stdout",
     "output_type": "stream",
     "text": [
      "Train Loss: 1.4395\n",
      "Val Loss: 1.4513\n",
      "Contract Vulnerability Loss: 0.0227\n",
      "Line Vulnerability Loss: 0.0004\n",
      "Learning Rate: 0.000250\n",
      "🎉 New best validation loss! Saved checkpoint to checkpoints_v2_2048_output/best_model_epoch_92.pt\n",
      "\n",
      "Epoch 93/400\n"
     ]
    },
    {
     "name": "stderr",
     "output_type": "stream",
     "text": [
      "Epoch 92: 100%|██████████| 253/253 [02:55<00:00,  1.44it/s, gen_loss=1.4636, contract_vuln_loss=0.0193, line_vuln_loss=0.0003, lr=0.000250, grad_norm=0.51]\n"
     ]
    },
    {
     "name": "stdout",
     "output_type": "stream",
     "text": [
      "Train Loss: 1.4391\n",
      "Val Loss: 1.4546\n",
      "Contract Vulnerability Loss: 0.0226\n",
      "Line Vulnerability Loss: 0.0004\n",
      "Learning Rate: 0.000250\n",
      "No improvement for 1 epochs\n",
      "\n",
      "Epoch 94/400\n"
     ]
    },
    {
     "name": "stderr",
     "output_type": "stream",
     "text": [
      "Epoch 93: 100%|██████████| 253/253 [02:55<00:00,  1.45it/s, gen_loss=1.4438, contract_vuln_loss=0.0209, line_vuln_loss=0.0006, lr=0.000250, grad_norm=0.25]\n"
     ]
    },
    {
     "name": "stdout",
     "output_type": "stream",
     "text": [
      "Train Loss: 1.4394\n",
      "Val Loss: 1.4536\n",
      "Contract Vulnerability Loss: 0.0227\n",
      "Line Vulnerability Loss: 0.0004\n",
      "Learning Rate: 0.000250\n",
      "No improvement for 2 epochs\n",
      "\n",
      "Epoch 95/400\n"
     ]
    },
    {
     "name": "stderr",
     "output_type": "stream",
     "text": [
      "Epoch 94: 100%|██████████| 253/253 [02:54<00:00,  1.45it/s, gen_loss=1.4325, contract_vuln_loss=0.0159, line_vuln_loss=0.0003, lr=0.000250, grad_norm=0.35]\n"
     ]
    },
    {
     "name": "stdout",
     "output_type": "stream",
     "text": [
      "Train Loss: 1.4386\n",
      "Val Loss: 1.4534\n",
      "Contract Vulnerability Loss: 0.0227\n",
      "Line Vulnerability Loss: 0.0004\n",
      "Learning Rate: 0.000250\n",
      "No improvement for 3 epochs\n",
      "\n",
      "Epoch 96/400\n"
     ]
    },
    {
     "name": "stderr",
     "output_type": "stream",
     "text": [
      "Epoch 95: 100%|██████████| 253/253 [02:54<00:00,  1.45it/s, gen_loss=1.4375, contract_vuln_loss=0.0180, line_vuln_loss=0.0003, lr=0.000250, grad_norm=0.23]\n"
     ]
    },
    {
     "name": "stdout",
     "output_type": "stream",
     "text": [
      "Train Loss: 1.4382\n",
      "Val Loss: 1.4513\n",
      "Contract Vulnerability Loss: 0.0227\n",
      "Line Vulnerability Loss: 0.0004\n",
      "Learning Rate: 0.000250\n",
      "🎉 New best validation loss! Saved checkpoint to checkpoints_v2_2048_output/best_model_epoch_96.pt\n",
      "\n",
      "Epoch 97/400\n"
     ]
    },
    {
     "name": "stderr",
     "output_type": "stream",
     "text": [
      "Epoch 96: 100%|██████████| 253/253 [02:55<00:00,  1.44it/s, gen_loss=1.4352, contract_vuln_loss=0.0114, line_vuln_loss=0.0003, lr=0.000250, grad_norm=0.32]\n"
     ]
    },
    {
     "name": "stdout",
     "output_type": "stream",
     "text": [
      "Train Loss: 1.4381\n",
      "Val Loss: 1.4518\n",
      "Contract Vulnerability Loss: 0.0227\n",
      "Line Vulnerability Loss: 0.0004\n",
      "Learning Rate: 0.000250\n",
      "No improvement for 1 epochs\n",
      "\n",
      "Epoch 98/400\n"
     ]
    },
    {
     "name": "stderr",
     "output_type": "stream",
     "text": [
      "Epoch 97: 100%|██████████| 253/253 [02:55<00:00,  1.44it/s, gen_loss=1.4394, contract_vuln_loss=0.0228, line_vuln_loss=0.0004, lr=0.000250, grad_norm=0.25]\n"
     ]
    },
    {
     "name": "stdout",
     "output_type": "stream",
     "text": [
      "Train Loss: 1.4381\n",
      "Val Loss: 1.4512\n",
      "Contract Vulnerability Loss: 0.0227\n",
      "Line Vulnerability Loss: 0.0004\n",
      "Learning Rate: 0.000250\n",
      "🎉 New best validation loss! Saved checkpoint to checkpoints_v2_2048_output/best_model_epoch_98.pt\n",
      "\n",
      "Epoch 99/400\n"
     ]
    },
    {
     "name": "stderr",
     "output_type": "stream",
     "text": [
      "Epoch 98: 100%|██████████| 253/253 [02:55<00:00,  1.44it/s, gen_loss=1.4292, contract_vuln_loss=0.0204, line_vuln_loss=0.0003, lr=0.000125, grad_norm=0.65]\n"
     ]
    },
    {
     "name": "stdout",
     "output_type": "stream",
     "text": [
      "Train Loss: 1.4342\n",
      "Val Loss: 1.4501\n",
      "Contract Vulnerability Loss: 0.0226\n",
      "Line Vulnerability Loss: 0.0004\n",
      "Learning Rate: 0.000125\n",
      "🎉 New best validation loss! Saved checkpoint to checkpoints_v2_2048_output/best_model_epoch_99.pt\n",
      "\n",
      "Epoch 100/400\n"
     ]
    },
    {
     "name": "stderr",
     "output_type": "stream",
     "text": [
      "Epoch 99: 100%|██████████| 253/253 [02:54<00:00,  1.45it/s, gen_loss=1.4313, contract_vuln_loss=0.0177, line_vuln_loss=0.0003, lr=0.000125, grad_norm=0.17]\n"
     ]
    },
    {
     "name": "stdout",
     "output_type": "stream",
     "text": [
      "Train Loss: 1.4336\n",
      "Val Loss: 1.4503\n",
      "Contract Vulnerability Loss: 0.0226\n",
      "Line Vulnerability Loss: 0.0004\n",
      "Learning Rate: 0.000125\n",
      "No improvement for 1 epochs\n",
      "\n",
      "Epoch 101/400\n"
     ]
    },
    {
     "name": "stderr",
     "output_type": "stream",
     "text": [
      "Epoch 100: 100%|██████████| 253/253 [02:55<00:00,  1.45it/s, gen_loss=1.4411, contract_vuln_loss=0.0243, line_vuln_loss=0.0004, lr=0.000125, grad_norm=0.40]\n"
     ]
    },
    {
     "name": "stdout",
     "output_type": "stream",
     "text": [
      "Train Loss: 1.4336\n",
      "Val Loss: 1.4501\n",
      "Contract Vulnerability Loss: 0.0226\n",
      "Line Vulnerability Loss: 0.0004\n",
      "Learning Rate: 0.000125\n",
      "No improvement for 2 epochs\n",
      "\n",
      "Epoch 102/400\n"
     ]
    },
    {
     "name": "stderr",
     "output_type": "stream",
     "text": [
      "Epoch 101: 100%|██████████| 253/253 [5:54:44<00:00, 84.13s/it, gen_loss=1.4306, contract_vuln_loss=0.0139, line_vuln_loss=0.0003, lr=0.000125, grad_norm=0.17]   \n"
     ]
    },
    {
     "name": "stdout",
     "output_type": "stream",
     "text": [
      "Train Loss: 1.4334\n",
      "Val Loss: 1.4498\n",
      "Contract Vulnerability Loss: 0.0226\n",
      "Line Vulnerability Loss: 0.0004\n",
      "Learning Rate: 0.000125\n",
      "🎉 New best validation loss! Saved checkpoint to checkpoints_v2_2048_output/best_model_epoch_102.pt\n",
      "\n",
      "Epoch 103/400\n"
     ]
    },
    {
     "name": "stderr",
     "output_type": "stream",
     "text": [
      "Epoch 102: 100%|██████████| 253/253 [02:55<00:00,  1.44it/s, gen_loss=1.4339, contract_vuln_loss=0.0262, line_vuln_loss=0.0003, lr=0.000125, grad_norm=0.32]\n"
     ]
    },
    {
     "name": "stdout",
     "output_type": "stream",
     "text": [
      "Train Loss: 1.4331\n",
      "Val Loss: 1.4506\n",
      "Contract Vulnerability Loss: 0.0226\n",
      "Line Vulnerability Loss: 0.0004\n",
      "Learning Rate: 0.000125\n",
      "No improvement for 1 epochs\n",
      "\n",
      "Epoch 104/400\n"
     ]
    },
    {
     "name": "stderr",
     "output_type": "stream",
     "text": [
      "Epoch 103: 100%|██████████| 253/253 [02:54<00:00,  1.45it/s, gen_loss=1.4446, contract_vuln_loss=0.0197, line_vuln_loss=0.0003, lr=0.000125, grad_norm=0.37]\n"
     ]
    },
    {
     "name": "stdout",
     "output_type": "stream",
     "text": [
      "Train Loss: 1.4330\n",
      "Val Loss: 1.4503\n",
      "Contract Vulnerability Loss: 0.0226\n",
      "Line Vulnerability Loss: 0.0004\n",
      "Learning Rate: 0.000125\n",
      "No improvement for 2 epochs\n",
      "\n",
      "Epoch 105/400\n"
     ]
    },
    {
     "name": "stderr",
     "output_type": "stream",
     "text": [
      "Epoch 104: 100%|██████████| 253/253 [02:54<00:00,  1.45it/s, gen_loss=1.4457, contract_vuln_loss=0.0277, line_vuln_loss=0.0003, lr=0.000125, grad_norm=0.25]\n"
     ]
    },
    {
     "name": "stdout",
     "output_type": "stream",
     "text": [
      "Train Loss: 1.4329\n",
      "Val Loss: 1.4501\n",
      "Contract Vulnerability Loss: 0.0227\n",
      "Line Vulnerability Loss: 0.0004\n",
      "Learning Rate: 0.000125\n",
      "No improvement for 3 epochs\n",
      "\n",
      "Epoch 106/400\n"
     ]
    },
    {
     "name": "stderr",
     "output_type": "stream",
     "text": [
      "Epoch 105: 100%|██████████| 253/253 [02:54<00:00,  1.45it/s, gen_loss=1.4304, contract_vuln_loss=0.0158, line_vuln_loss=0.0006, lr=0.000125, grad_norm=0.34]\n"
     ]
    },
    {
     "name": "stdout",
     "output_type": "stream",
     "text": [
      "Train Loss: 1.4329\n",
      "Val Loss: 1.4502\n",
      "Contract Vulnerability Loss: 0.0227\n",
      "Line Vulnerability Loss: 0.0004\n",
      "Learning Rate: 0.000125\n",
      "No improvement for 4 epochs\n",
      "\n",
      "Epoch 107/400\n"
     ]
    },
    {
     "name": "stderr",
     "output_type": "stream",
     "text": [
      "Epoch 106: 100%|██████████| 253/253 [02:54<00:00,  1.45it/s, gen_loss=1.4346, contract_vuln_loss=0.0215, line_vuln_loss=0.0002, lr=0.000125, grad_norm=0.18]\n"
     ]
    },
    {
     "name": "stdout",
     "output_type": "stream",
     "text": [
      "Train Loss: 1.4328\n",
      "Val Loss: 1.4499\n",
      "Contract Vulnerability Loss: 0.0227\n",
      "Line Vulnerability Loss: 0.0004\n",
      "Learning Rate: 0.000125\n",
      "No improvement for 5 epochs\n",
      "\n",
      "Epoch 108/400\n"
     ]
    },
    {
     "name": "stderr",
     "output_type": "stream",
     "text": [
      "Epoch 107: 100%|██████████| 253/253 [02:54<00:00,  1.45it/s, gen_loss=1.4298, contract_vuln_loss=0.0235, line_vuln_loss=0.0004, lr=0.000125, grad_norm=0.19]\n"
     ]
    },
    {
     "name": "stdout",
     "output_type": "stream",
     "text": [
      "Train Loss: 1.4324\n",
      "Val Loss: 1.4498\n",
      "Contract Vulnerability Loss: 0.0226\n",
      "Line Vulnerability Loss: 0.0004\n",
      "Learning Rate: 0.000125\n",
      "No improvement for 6 epochs\n",
      "\n",
      "Epoch 109/400\n"
     ]
    },
    {
     "name": "stderr",
     "output_type": "stream",
     "text": [
      "Epoch 108: 100%|██████████| 253/253 [02:54<00:00,  1.45it/s, gen_loss=1.4338, contract_vuln_loss=0.0309, line_vuln_loss=0.0005, lr=0.000063, grad_norm=0.25]\n"
     ]
    },
    {
     "name": "stdout",
     "output_type": "stream",
     "text": [
      "Train Loss: 1.4308\n",
      "Val Loss: 1.4498\n",
      "Contract Vulnerability Loss: 0.0227\n",
      "Line Vulnerability Loss: 0.0004\n",
      "Learning Rate: 0.000063\n",
      "No improvement for 7 epochs\n",
      "\n",
      "Epoch 110/400\n"
     ]
    },
    {
     "name": "stderr",
     "output_type": "stream",
     "text": [
      "Epoch 109: 100%|██████████| 253/253 [02:54<00:00,  1.45it/s, gen_loss=1.4375, contract_vuln_loss=0.0114, line_vuln_loss=0.0004, lr=0.000063, grad_norm=0.16]\n"
     ]
    },
    {
     "name": "stdout",
     "output_type": "stream",
     "text": [
      "Train Loss: 1.4308\n",
      "Val Loss: 1.4493\n",
      "Contract Vulnerability Loss: 0.0226\n",
      "Line Vulnerability Loss: 0.0004\n",
      "Learning Rate: 0.000063\n",
      "🎉 New best validation loss! Saved checkpoint to checkpoints_v2_2048_output/best_model_epoch_110.pt\n",
      "\n",
      "Epoch 111/400\n"
     ]
    },
    {
     "name": "stderr",
     "output_type": "stream",
     "text": [
      "Epoch 110: 100%|██████████| 253/253 [02:54<00:00,  1.45it/s, gen_loss=1.4656, contract_vuln_loss=0.0221, line_vuln_loss=0.0004, lr=0.000063, grad_norm=0.30]\n"
     ]
    },
    {
     "name": "stdout",
     "output_type": "stream",
     "text": [
      "Train Loss: 1.4306\n",
      "Val Loss: 1.4495\n",
      "Contract Vulnerability Loss: 0.0226\n",
      "Line Vulnerability Loss: 0.0004\n",
      "Learning Rate: 0.000063\n",
      "No improvement for 1 epochs\n",
      "\n",
      "Epoch 112/400\n"
     ]
    },
    {
     "name": "stderr",
     "output_type": "stream",
     "text": [
      "Epoch 111: 100%|██████████| 253/253 [02:54<00:00,  1.45it/s, gen_loss=1.4256, contract_vuln_loss=0.0175, line_vuln_loss=0.0004, lr=0.000063, grad_norm=0.18]\n"
     ]
    },
    {
     "name": "stdout",
     "output_type": "stream",
     "text": [
      "Train Loss: 1.4304\n",
      "Val Loss: 1.4496\n",
      "Contract Vulnerability Loss: 0.0226\n",
      "Line Vulnerability Loss: 0.0004\n",
      "Learning Rate: 0.000063\n",
      "No improvement for 2 epochs\n",
      "\n",
      "Epoch 113/400\n"
     ]
    },
    {
     "name": "stderr",
     "output_type": "stream",
     "text": [
      "Epoch 112: 100%|██████████| 253/253 [02:54<00:00,  1.45it/s, gen_loss=1.4391, contract_vuln_loss=0.0236, line_vuln_loss=0.0003, lr=0.000063, grad_norm=0.17]\n"
     ]
    },
    {
     "name": "stdout",
     "output_type": "stream",
     "text": [
      "Train Loss: 1.4305\n",
      "Val Loss: 1.4492\n",
      "Contract Vulnerability Loss: 0.0227\n",
      "Line Vulnerability Loss: 0.0004\n",
      "Learning Rate: 0.000063\n",
      "🎉 New best validation loss! Saved checkpoint to checkpoints_v2_2048_output/best_model_epoch_113.pt\n",
      "\n",
      "Epoch 114/400\n"
     ]
    },
    {
     "name": "stderr",
     "output_type": "stream",
     "text": [
      "Epoch 113: 100%|██████████| 253/253 [02:54<00:00,  1.45it/s, gen_loss=1.4448, contract_vuln_loss=0.0220, line_vuln_loss=0.0004, lr=0.000063, grad_norm=0.29]\n"
     ]
    },
    {
     "name": "stdout",
     "output_type": "stream",
     "text": [
      "Train Loss: 1.4304\n",
      "Val Loss: 1.4495\n",
      "Contract Vulnerability Loss: 0.0227\n",
      "Line Vulnerability Loss: 0.0004\n",
      "Learning Rate: 0.000063\n",
      "No improvement for 1 epochs\n",
      "\n",
      "Epoch 115/400\n"
     ]
    },
    {
     "name": "stderr",
     "output_type": "stream",
     "text": [
      "Epoch 114: 100%|██████████| 253/253 [02:54<00:00,  1.45it/s, gen_loss=1.4419, contract_vuln_loss=0.0237, line_vuln_loss=0.0004, lr=0.000063, grad_norm=0.31]\n"
     ]
    },
    {
     "name": "stdout",
     "output_type": "stream",
     "text": [
      "Train Loss: 1.4304\n",
      "Val Loss: 1.4494\n",
      "Contract Vulnerability Loss: 0.0227\n",
      "Line Vulnerability Loss: 0.0004\n",
      "Learning Rate: 0.000063\n",
      "No improvement for 2 epochs\n",
      "\n",
      "Epoch 116/400\n"
     ]
    },
    {
     "name": "stderr",
     "output_type": "stream",
     "text": [
      "Epoch 115: 100%|██████████| 253/253 [02:54<00:00,  1.45it/s, gen_loss=1.4241, contract_vuln_loss=0.0171, line_vuln_loss=0.0003, lr=0.000063, grad_norm=0.07]\n"
     ]
    },
    {
     "name": "stdout",
     "output_type": "stream",
     "text": [
      "Train Loss: 1.4304\n",
      "Val Loss: 1.4494\n",
      "Contract Vulnerability Loss: 0.0227\n",
      "Line Vulnerability Loss: 0.0004\n",
      "Learning Rate: 0.000063\n",
      "No improvement for 3 epochs\n",
      "\n",
      "Epoch 117/400\n"
     ]
    },
    {
     "name": "stderr",
     "output_type": "stream",
     "text": [
      "Epoch 116: 100%|██████████| 253/253 [02:54<00:00,  1.45it/s, gen_loss=1.4387, contract_vuln_loss=0.0205, line_vuln_loss=0.0003, lr=0.000031, grad_norm=0.14]\n"
     ]
    },
    {
     "name": "stdout",
     "output_type": "stream",
     "text": [
      "Train Loss: 1.4297\n",
      "Val Loss: 1.4490\n",
      "Contract Vulnerability Loss: 0.0226\n",
      "Line Vulnerability Loss: 0.0004\n",
      "Learning Rate: 0.000031\n",
      "🎉 New best validation loss! Saved checkpoint to checkpoints_v2_2048_output/best_model_epoch_117.pt\n",
      "\n",
      "Epoch 118/400\n"
     ]
    },
    {
     "name": "stderr",
     "output_type": "stream",
     "text": [
      "Epoch 117: 100%|██████████| 253/253 [02:54<00:00,  1.45it/s, gen_loss=1.4395, contract_vuln_loss=0.0219, line_vuln_loss=0.0004, lr=0.000031, grad_norm=0.27]\n"
     ]
    },
    {
     "name": "stdout",
     "output_type": "stream",
     "text": [
      "Train Loss: 1.4295\n",
      "Val Loss: 1.4490\n",
      "Contract Vulnerability Loss: 0.0226\n",
      "Line Vulnerability Loss: 0.0004\n",
      "Learning Rate: 0.000031\n",
      "🎉 New best validation loss! Saved checkpoint to checkpoints_v2_2048_output/best_model_epoch_118.pt\n",
      "\n",
      "Epoch 119/400\n"
     ]
    },
    {
     "name": "stderr",
     "output_type": "stream",
     "text": [
      "Epoch 118: 100%|██████████| 253/253 [02:54<00:00,  1.45it/s, gen_loss=1.4429, contract_vuln_loss=0.0328, line_vuln_loss=0.0005, lr=0.000031, grad_norm=0.24]\n"
     ]
    },
    {
     "name": "stdout",
     "output_type": "stream",
     "text": [
      "Train Loss: 1.4294\n",
      "Val Loss: 1.4491\n",
      "Contract Vulnerability Loss: 0.0227\n",
      "Line Vulnerability Loss: 0.0004\n",
      "Learning Rate: 0.000031\n",
      "No improvement for 1 epochs\n",
      "\n",
      "Epoch 120/400\n"
     ]
    },
    {
     "name": "stderr",
     "output_type": "stream",
     "text": [
      "Epoch 119: 100%|██████████| 253/253 [02:54<00:00,  1.45it/s, gen_loss=1.4355, contract_vuln_loss=0.0288, line_vuln_loss=0.0004, lr=0.000031, grad_norm=0.25]\n"
     ]
    },
    {
     "name": "stdout",
     "output_type": "stream",
     "text": [
      "Train Loss: 1.4295\n",
      "Val Loss: 1.4492\n",
      "Contract Vulnerability Loss: 0.0227\n",
      "Line Vulnerability Loss: 0.0004\n",
      "Learning Rate: 0.000031\n",
      "No improvement for 2 epochs\n",
      "\n",
      "Epoch 121/400\n"
     ]
    },
    {
     "name": "stderr",
     "output_type": "stream",
     "text": [
      "Epoch 120: 100%|██████████| 253/253 [02:54<00:00,  1.45it/s, gen_loss=1.4294, contract_vuln_loss=0.0183, line_vuln_loss=0.0005, lr=0.000031, grad_norm=0.15]\n"
     ]
    },
    {
     "name": "stdout",
     "output_type": "stream",
     "text": [
      "Train Loss: 1.4292\n",
      "Val Loss: 1.4492\n",
      "Contract Vulnerability Loss: 0.0227\n",
      "Line Vulnerability Loss: 0.0004\n",
      "Learning Rate: 0.000031\n",
      "No improvement for 3 epochs\n",
      "\n",
      "Epoch 122/400\n"
     ]
    },
    {
     "name": "stderr",
     "output_type": "stream",
     "text": [
      "Epoch 121: 100%|██████████| 253/253 [02:54<00:00,  1.45it/s, gen_loss=1.4404, contract_vuln_loss=0.0267, line_vuln_loss=0.0002, lr=0.000031, grad_norm=0.22]\n"
     ]
    },
    {
     "name": "stdout",
     "output_type": "stream",
     "text": [
      "Train Loss: 1.4294\n",
      "Val Loss: 1.4491\n",
      "Contract Vulnerability Loss: 0.0227\n",
      "Line Vulnerability Loss: 0.0004\n",
      "Learning Rate: 0.000031\n",
      "No improvement for 4 epochs\n",
      "\n",
      "Epoch 123/400\n"
     ]
    },
    {
     "name": "stderr",
     "output_type": "stream",
     "text": [
      "Epoch 122: 100%|██████████| 253/253 [02:54<00:00,  1.45it/s, gen_loss=1.4220, contract_vuln_loss=0.0191, line_vuln_loss=0.0004, lr=0.000031, grad_norm=0.07]\n"
     ]
    },
    {
     "name": "stdout",
     "output_type": "stream",
     "text": [
      "Train Loss: 1.4293\n",
      "Val Loss: 1.4491\n",
      "Contract Vulnerability Loss: 0.0226\n",
      "Line Vulnerability Loss: 0.0004\n",
      "Learning Rate: 0.000031\n",
      "No improvement for 5 epochs\n",
      "\n",
      "Epoch 124/400\n"
     ]
    },
    {
     "name": "stderr",
     "output_type": "stream",
     "text": [
      "Epoch 123: 100%|██████████| 253/253 [02:54<00:00,  1.45it/s, gen_loss=1.4294, contract_vuln_loss=0.0258, line_vuln_loss=0.0004, lr=0.000016, grad_norm=0.28]\n"
     ]
    },
    {
     "name": "stdout",
     "output_type": "stream",
     "text": [
      "Train Loss: 1.4291\n",
      "Val Loss: 1.4490\n",
      "Contract Vulnerability Loss: 0.0226\n",
      "Line Vulnerability Loss: 0.0004\n",
      "Learning Rate: 0.000016\n",
      "No improvement for 6 epochs\n",
      "\n",
      "Epoch 125/400\n"
     ]
    },
    {
     "name": "stderr",
     "output_type": "stream",
     "text": [
      "Epoch 124: 100%|██████████| 253/253 [02:54<00:00,  1.45it/s, gen_loss=1.4298, contract_vuln_loss=0.0244, line_vuln_loss=0.0005, lr=0.000016, grad_norm=0.20]\n"
     ]
    },
    {
     "name": "stdout",
     "output_type": "stream",
     "text": [
      "Train Loss: 1.4290\n",
      "Val Loss: 1.4491\n",
      "Contract Vulnerability Loss: 0.0226\n",
      "Line Vulnerability Loss: 0.0004\n",
      "Learning Rate: 0.000016\n",
      "No improvement for 7 epochs\n",
      "\n",
      "Epoch 126/400\n"
     ]
    },
    {
     "name": "stderr",
     "output_type": "stream",
     "text": [
      "Epoch 125: 100%|██████████| 253/253 [02:54<00:00,  1.45it/s, gen_loss=1.4280, contract_vuln_loss=0.0198, line_vuln_loss=0.0004, lr=0.000016, grad_norm=0.18]\n"
     ]
    },
    {
     "name": "stdout",
     "output_type": "stream",
     "text": [
      "Train Loss: 1.4287\n",
      "Val Loss: 1.4488\n",
      "Contract Vulnerability Loss: 0.0227\n",
      "Line Vulnerability Loss: 0.0004\n",
      "Learning Rate: 0.000016\n",
      "🎉 New best validation loss! Saved checkpoint to checkpoints_v2_2048_output/best_model_epoch_126.pt\n",
      "\n",
      "Epoch 127/400\n"
     ]
    },
    {
     "name": "stderr",
     "output_type": "stream",
     "text": [
      "Epoch 126: 100%|██████████| 253/253 [02:54<00:00,  1.45it/s, gen_loss=1.4275, contract_vuln_loss=0.0210, line_vuln_loss=0.0005, lr=0.000016, grad_norm=0.26]\n"
     ]
    },
    {
     "name": "stdout",
     "output_type": "stream",
     "text": [
      "Train Loss: 1.4289\n",
      "Val Loss: 1.4490\n",
      "Contract Vulnerability Loss: 0.0226\n",
      "Line Vulnerability Loss: 0.0004\n",
      "Learning Rate: 0.000016\n",
      "No improvement for 1 epochs\n",
      "\n",
      "Epoch 128/400\n"
     ]
    },
    {
     "name": "stderr",
     "output_type": "stream",
     "text": [
      "Epoch 127: 100%|██████████| 253/253 [02:54<00:00,  1.45it/s, gen_loss=1.4276, contract_vuln_loss=0.0232, line_vuln_loss=0.0004, lr=0.000016, grad_norm=0.21]\n"
     ]
    },
    {
     "name": "stdout",
     "output_type": "stream",
     "text": [
      "Train Loss: 1.4289\n",
      "Val Loss: 1.4489\n",
      "Contract Vulnerability Loss: 0.0226\n",
      "Line Vulnerability Loss: 0.0004\n",
      "Learning Rate: 0.000016\n",
      "No improvement for 2 epochs\n",
      "\n",
      "Epoch 129/400\n"
     ]
    },
    {
     "name": "stderr",
     "output_type": "stream",
     "text": [
      "Epoch 128: 100%|██████████| 253/253 [02:54<00:00,  1.45it/s, gen_loss=1.4238, contract_vuln_loss=0.0203, line_vuln_loss=0.0005, lr=0.000016, grad_norm=0.14]\n"
     ]
    },
    {
     "name": "stdout",
     "output_type": "stream",
     "text": [
      "Train Loss: 1.4288\n",
      "Val Loss: 1.4492\n",
      "Contract Vulnerability Loss: 0.0227\n",
      "Line Vulnerability Loss: 0.0004\n",
      "Learning Rate: 0.000016\n",
      "No improvement for 3 epochs\n",
      "\n",
      "Epoch 130/400\n"
     ]
    },
    {
     "name": "stderr",
     "output_type": "stream",
     "text": [
      "Epoch 129: 100%|██████████| 253/253 [02:54<00:00,  1.45it/s, gen_loss=1.4497, contract_vuln_loss=0.0219, line_vuln_loss=0.0004, lr=0.000016, grad_norm=0.31]\n"
     ]
    },
    {
     "name": "stdout",
     "output_type": "stream",
     "text": [
      "Train Loss: 1.4287\n",
      "Val Loss: 1.4492\n",
      "Contract Vulnerability Loss: 0.0226\n",
      "Line Vulnerability Loss: 0.0004\n",
      "Learning Rate: 0.000016\n",
      "No improvement for 4 epochs\n",
      "\n",
      "Epoch 131/400\n"
     ]
    },
    {
     "name": "stderr",
     "output_type": "stream",
     "text": [
      "Epoch 130: 100%|██████████| 253/253 [02:54<00:00,  1.45it/s, gen_loss=1.4330, contract_vuln_loss=0.0269, line_vuln_loss=0.0005, lr=0.000016, grad_norm=0.19]\n"
     ]
    },
    {
     "name": "stdout",
     "output_type": "stream",
     "text": [
      "Train Loss: 1.4289\n",
      "Val Loss: 1.4492\n",
      "Contract Vulnerability Loss: 0.0226\n",
      "Line Vulnerability Loss: 0.0004\n",
      "Learning Rate: 0.000016\n",
      "No improvement for 5 epochs\n",
      "\n",
      "Epoch 132/400\n"
     ]
    },
    {
     "name": "stderr",
     "output_type": "stream",
     "text": [
      "Epoch 131: 100%|██████████| 253/253 [02:54<00:00,  1.45it/s, gen_loss=1.4303, contract_vuln_loss=0.0178, line_vuln_loss=0.0005, lr=0.000016, grad_norm=0.36]\n"
     ]
    },
    {
     "name": "stdout",
     "output_type": "stream",
     "text": [
      "Train Loss: 1.4288\n",
      "Val Loss: 1.4491\n",
      "Contract Vulnerability Loss: 0.0227\n",
      "Line Vulnerability Loss: 0.0004\n",
      "Learning Rate: 0.000016\n",
      "No improvement for 6 epochs\n",
      "\n",
      "Epoch 133/400\n"
     ]
    },
    {
     "name": "stderr",
     "output_type": "stream",
     "text": [
      "Epoch 132: 100%|██████████| 253/253 [02:54<00:00,  1.45it/s, gen_loss=1.4247, contract_vuln_loss=0.0197, line_vuln_loss=0.0005, lr=0.000008, grad_norm=0.17]\n"
     ]
    },
    {
     "name": "stdout",
     "output_type": "stream",
     "text": [
      "Train Loss: 1.4287\n",
      "Val Loss: 1.4490\n",
      "Contract Vulnerability Loss: 0.0226\n",
      "Line Vulnerability Loss: 0.0004\n",
      "Learning Rate: 0.000008\n",
      "No improvement for 7 epochs\n",
      "\n",
      "Epoch 134/400\n"
     ]
    },
    {
     "name": "stderr",
     "output_type": "stream",
     "text": [
      "Epoch 133: 100%|██████████| 253/253 [02:54<00:00,  1.45it/s, gen_loss=1.4264, contract_vuln_loss=0.0255, line_vuln_loss=0.0004, lr=0.000008, grad_norm=0.10]\n"
     ]
    },
    {
     "name": "stdout",
     "output_type": "stream",
     "text": [
      "Train Loss: 1.4287\n",
      "Val Loss: 1.4491\n",
      "Contract Vulnerability Loss: 0.0226\n",
      "Line Vulnerability Loss: 0.0004\n",
      "Learning Rate: 0.000008\n",
      "No improvement for 8 epochs\n",
      "\n",
      "Epoch 135/400\n"
     ]
    },
    {
     "name": "stderr",
     "output_type": "stream",
     "text": [
      "Epoch 134: 100%|██████████| 253/253 [02:54<00:00,  1.45it/s, gen_loss=1.4236, contract_vuln_loss=0.0253, line_vuln_loss=0.0005, lr=0.000008, grad_norm=0.25]\n"
     ]
    },
    {
     "name": "stdout",
     "output_type": "stream",
     "text": [
      "Train Loss: 1.4285\n",
      "Val Loss: 1.4491\n",
      "Contract Vulnerability Loss: 0.0226\n",
      "Line Vulnerability Loss: 0.0004\n",
      "Learning Rate: 0.000008\n",
      "No improvement for 9 epochs\n",
      "\n",
      "Epoch 136/400\n"
     ]
    },
    {
     "name": "stderr",
     "output_type": "stream",
     "text": [
      "Epoch 135: 100%|██████████| 253/253 [02:54<00:00,  1.45it/s, gen_loss=1.4298, contract_vuln_loss=0.0173, line_vuln_loss=0.0004, lr=0.000008, grad_norm=0.18]\n"
     ]
    },
    {
     "name": "stdout",
     "output_type": "stream",
     "text": [
      "Train Loss: 1.4286\n",
      "Val Loss: 1.4490\n",
      "Contract Vulnerability Loss: 0.0227\n",
      "Line Vulnerability Loss: 0.0004\n",
      "Learning Rate: 0.000008\n",
      "No improvement for 10 epochs\n",
      "Early stopping triggered after 10 epochs without improvement\n"
     ]
    }
   ],
   "source": [
    "model = SmartContractTransformer()\n",
    "\n",
    "trainer = SmartContractTrainer(\n",
    "    model=model,\n",
    "    train_dataloader=train_dataloader,\n",
    "    val_dataloader=val_dataloader,\n",
    "    tokenizer=tokenizer,\n",
    "    learning_rate=0.01,\n",
    "    weight_decay=0.001,\n",
    "    max_grad_norm= 1.0\n",
    ")\n",
    "\n",
    "# Start training\n",
    "trainer.train(num_epochs=400, checkpoint_dir='checkpoints_v2_2048_output')"
   ]
  },
  {
   "cell_type": "code",
   "execution_count": 8,
   "id": "e2cbc0e8-e189-41a4-95f5-4d65a9c2e5e9",
   "metadata": {},
   "outputs": [
    {
     "name": "stdout",
     "output_type": "stream",
     "text": [
      "Done\n"
     ]
    }
   ],
   "source": [
    "print(\"Done\")"
   ]
  },
  {
   "cell_type": "markdown",
   "id": "0aeac150-5016-4f26-ac9c-e8345e61a804",
   "metadata": {},
   "source": [
    "## Re-trainning phase"
   ]
  },
  {
   "cell_type": "code",
   "execution_count": null,
   "id": "1c5b8776-c9b0-4d6c-91e2-495414474d6e",
   "metadata": {},
   "outputs": [],
   "source": []
  },
  {
   "cell_type": "code",
   "execution_count": 24,
   "id": "5ed63565-adb9-4465-9bfe-7b9f1939ad16",
   "metadata": {
    "scrolled": true
   },
   "outputs": [
    {
     "name": "stdout",
     "output_type": "stream",
     "text": [
      "Loaded model from epoch 40\n",
      "Validation loss: 4.5804\n",
      "Reset learning rate to 0.002\n"
     ]
    }
   ],
   "source": [
    "def load_trained_model(checkpoint_path):\n",
    "    \"\"\"\n",
    "    Load a trained model and discriminator from checkpoint\n",
    "    \"\"\"\n",
    "\n",
    "    device = torch.device('cuda:1')\n",
    "    \n",
    "    # Initialize model and discriminator\n",
    "    model = SmartContractTransformer()\n",
    "    discriminator = Discriminator()\n",
    "    \n",
    "    model = model.to(device)\n",
    "    discriminator = discriminator.to(device)\n",
    "    \n",
    "    # Load checkpoint\n",
    "    checkpoint = torch.load(checkpoint_path, map_location=device)\n",
    "    \n",
    "    # Load model and discriminator states\n",
    "    model.load_state_dict(checkpoint['model_state_dict'])\n",
    "    discriminator.load_state_dict(checkpoint['discriminator_state_dict'])\n",
    "\n",
    "    if 'optimizer_state_dict' in checkpoint:\n",
    "        for param_group in checkpoint['optimizer_state_dict']['param_groups']:\n",
    "            param_group['lr'] = 0.02\n",
    "    if 'discriminator_optimizer_state_dict' in checkpoint:\n",
    "        for param_group in checkpoint['discriminator_optimizer_state_dict']['param_groups']:\n",
    "            param_group['lr'] = 0.02\n",
    "    \n",
    "    print(f\"Loaded model from epoch {checkpoint['epoch']}\")\n",
    "    print(f\"Validation loss: {checkpoint['val_loss']:.4f}\")\n",
    "    print(f\"Reset learning rate to 0.02\")\n",
    "    \n",
    "    return model, discriminator, checkpoint\n",
    "\n",
    "# Load pre-trained model\n",
    "checkpoint_path = 'checkpoints_v1_512_output/best_model_epoch_40.pt'  \n",
    "model, discriminator, checkpoint = load_trained_model(checkpoint_path)"
   ]
  },
  {
   "cell_type": "code",
   "execution_count": 27,
   "id": "a9013060-daab-41aa-b7c1-67f564808280",
   "metadata": {
    "scrolled": true
   },
   "outputs": [
    {
     "name": "stderr",
     "output_type": "stream",
     "text": [
      "/home/m20180848/pytorch_env/lib/python3.11/site-packages/torch/optim/lr_scheduler.py:28: UserWarning: The verbose parameter is deprecated. Please use get_last_lr() to access the learning rate.\n",
      "  warnings.warn(\"The verbose parameter is deprecated. Please use get_last_lr() \"\n"
     ]
    },
    {
     "name": "stdout",
     "output_type": "stream",
     "text": [
      "\n",
      "Epoch 1/200\n"
     ]
    },
    {
     "name": "stderr",
     "output_type": "stream",
     "text": [
      "Training: 100%|██████████| 88/88 [05:39<00:00,  3.85s/it, gen_loss=3.78, vuln_loss=0.377, synth_loss=0.766, diversity_loss=-0, d_penalty=0, g_penalty=0, is_synthetic=0]         \n"
     ]
    },
    {
     "name": "stdout",
     "output_type": "stream",
     "text": [
      "Train Loss: 0.0873\n",
      "Val Loss: 4.6308\n",
      "Vulnerability Loss: 9.4490\n",
      "Synthetic Loss: 23.9306\n",
      "Learning Rate: 0.020000\n",
      "Saved checkpoint to checkpoints_v1_512_retrain/best_model_epoch_1.pt\n",
      "\n",
      "Epoch 2/200\n"
     ]
    },
    {
     "name": "stderr",
     "output_type": "stream",
     "text": [
      "Training: 100%|██████████| 88/88 [05:47<00:00,  3.95s/it, gen_loss=4.87, vuln_loss=0.378, synth_loss=0.317, diversity_loss=-0, d_penalty=0, g_penalty=0, is_synthetic=1]\n"
     ]
    },
    {
     "name": "stdout",
     "output_type": "stream",
     "text": [
      "Train Loss: 0.1122\n",
      "Val Loss: 4.6044\n",
      "Vulnerability Loss: 0.3398\n",
      "Synthetic Loss: 0.5832\n",
      "Learning Rate: 0.020000\n",
      "Saved checkpoint to checkpoints_v1_512_retrain/best_model_epoch_2.pt\n",
      "\n",
      "Epoch 3/200\n"
     ]
    },
    {
     "name": "stderr",
     "output_type": "stream",
     "text": [
      "Training: 100%|██████████| 88/88 [05:29<00:00,  3.74s/it, gen_loss=4.2, vuln_loss=0.246, synth_loss=0.84, diversity_loss=-0, d_penalty=0, g_penalty=0, is_synthetic=0]  \n"
     ]
    },
    {
     "name": "stdout",
     "output_type": "stream",
     "text": [
      "Train Loss: 0.0973\n",
      "Val Loss: 4.6069\n",
      "Vulnerability Loss: 0.3393\n",
      "Synthetic Loss: 0.5637\n",
      "Learning Rate: 0.020000\n",
      "\n",
      "Epoch 4/200\n"
     ]
    },
    {
     "name": "stderr",
     "output_type": "stream",
     "text": [
      "Training: 100%|██████████| 88/88 [05:19<00:00,  3.64s/it, gen_loss=3.8, vuln_loss=0.247, synth_loss=0.258, diversity_loss=-0, d_penalty=0, g_penalty=0, is_synthetic=1] \n"
     ]
    },
    {
     "name": "stdout",
     "output_type": "stream",
     "text": [
      "Train Loss: 0.0883\n",
      "Val Loss: 4.6367\n",
      "Vulnerability Loss: 0.3413\n",
      "Synthetic Loss: 0.5390\n",
      "Learning Rate: 0.020000\n",
      "\n",
      "Epoch 5/200\n"
     ]
    },
    {
     "name": "stderr",
     "output_type": "stream",
     "text": [
      "Training:   6%|▌         | 5/88 [00:22<06:18,  4.57s/it, gen_loss=4.96, vuln_loss=0.444, synth_loss=0.864, diversity_loss=-0, d_penalty=0, g_penalty=0, is_synthetic=0]\n"
     ]
    },
    {
     "ename": "KeyboardInterrupt",
     "evalue": "",
     "output_type": "error",
     "traceback": [
      "\u001b[31m---------------------------------------------------------------------------\u001b[39m",
      "\u001b[31mKeyboardInterrupt\u001b[39m                         Traceback (most recent call last)",
      "\u001b[36mCell\u001b[39m\u001b[36m \u001b[39m\u001b[32mIn[27]\u001b[39m\u001b[32m, line 18\u001b[39m\n\u001b[32m     15\u001b[39m     trainer.discriminator_optimizer.load_state_dict(checkpoint[\u001b[33m'\u001b[39m\u001b[33mdiscriminator_optimizer_state_dict\u001b[39m\u001b[33m'\u001b[39m])\n\u001b[32m     17\u001b[39m \u001b[38;5;66;03m# Start training\u001b[39;00m\n\u001b[32m---> \u001b[39m\u001b[32m18\u001b[39m \u001b[43mtrainer\u001b[49m\u001b[43m.\u001b[49m\u001b[43mtrain\u001b[49m\u001b[43m(\u001b[49m\u001b[43mnum_epochs\u001b[49m\u001b[43m=\u001b[49m\u001b[32;43m200\u001b[39;49m\u001b[43m,\u001b[49m\u001b[43m \u001b[49m\u001b[43mcheckpoint_dir\u001b[49m\u001b[43m=\u001b[49m\u001b[33;43m'\u001b[39;49m\u001b[33;43mcheckpoints_v1_512_retrain/\u001b[39;49m\u001b[33;43m'\u001b[39;49m\u001b[43m)\u001b[49m \n",
      "\u001b[36mFile \u001b[39m\u001b[32m~/smrt-transformer/02. Research-model/train.py:370\u001b[39m, in \u001b[36mSmartContractTrainer.train\u001b[39m\u001b[34m(self, num_epochs, checkpoint_dir)\u001b[39m\n\u001b[32m    367\u001b[39m \u001b[38;5;28mprint\u001b[39m(\u001b[33mf\u001b[39m\u001b[33m\"\u001b[39m\u001b[38;5;130;01m\\n\u001b[39;00m\u001b[33mEpoch \u001b[39m\u001b[38;5;132;01m{\u001b[39;00mepoch\u001b[38;5;250m \u001b[39m+\u001b[38;5;250m \u001b[39m\u001b[32m1\u001b[39m\u001b[38;5;132;01m}\u001b[39;00m\u001b[33m/\u001b[39m\u001b[38;5;132;01m{\u001b[39;00mnum_epochs\u001b[38;5;132;01m}\u001b[39;00m\u001b[33m\"\u001b[39m)\n\u001b[32m    369\u001b[39m \u001b[38;5;66;03m# Training phase\u001b[39;00m\n\u001b[32m--> \u001b[39m\u001b[32m370\u001b[39m train_metrics = \u001b[38;5;28;43mself\u001b[39;49m\u001b[43m.\u001b[49m\u001b[43mtrain_epoch\u001b[49m\u001b[43m(\u001b[49m\u001b[43m)\u001b[49m\n\u001b[32m    372\u001b[39m \u001b[38;5;66;03m# Validation phase\u001b[39;00m\n\u001b[32m    373\u001b[39m val_metrics = \u001b[38;5;28mself\u001b[39m.validate()\n",
      "\u001b[36mFile \u001b[39m\u001b[32m~/smrt-transformer/02. Research-model/train.py:174\u001b[39m, in \u001b[36mSmartContractTrainer.train_epoch\u001b[39m\u001b[34m(self)\u001b[39m\n\u001b[32m    172\u001b[39m \u001b[38;5;66;03m# Generate synthetic data\u001b[39;00m\n\u001b[32m    173\u001b[39m \u001b[38;5;28;01mwith\u001b[39;00m torch.no_grad():\n\u001b[32m--> \u001b[39m\u001b[32m174\u001b[39m     synthetic_outputs = \u001b[38;5;28;43mself\u001b[39;49m\u001b[43m.\u001b[49m\u001b[43mmodel\u001b[49m\u001b[43m(\u001b[49m\n\u001b[32m    175\u001b[39m \u001b[43m        \u001b[49m\u001b[43minput_ids\u001b[49m\u001b[43m=\u001b[49m\u001b[43minput_ids\u001b[49m\u001b[43m,\u001b[49m\n\u001b[32m    176\u001b[39m \u001b[43m        \u001b[49m\u001b[43mattention_mask\u001b[49m\u001b[43m=\u001b[49m\u001b[43mattention_mask\u001b[49m\u001b[43m,\u001b[49m\n\u001b[32m    177\u001b[39m \u001b[43m        \u001b[49m\u001b[43mpath_input_ids\u001b[49m\u001b[43m=\u001b[49m\u001b[43mpath_input_ids\u001b[49m\u001b[43m,\u001b[49m\n\u001b[32m    178\u001b[39m \u001b[43m        \u001b[49m\u001b[43mpath_attention_mask\u001b[49m\u001b[43m=\u001b[49m\u001b[43mpath_attention_mask\u001b[49m\u001b[43m,\u001b[49m\n\u001b[32m    179\u001b[39m \u001b[43m        \u001b[49m\u001b[43mtarget_ids\u001b[49m\u001b[43m=\u001b[49m\u001b[38;5;28;43;01mNone\u001b[39;49;00m\n\u001b[32m    180\u001b[39m \u001b[43m    \u001b[49m\u001b[43m)\u001b[49m\n\u001b[32m    181\u001b[39m     synthetic_encoder_output = synthetic_outputs[\u001b[33m'\u001b[39m\u001b[33mencoder_output\u001b[39m\u001b[33m'\u001b[39m]\n\u001b[32m    183\u001b[39m \u001b[38;5;66;03m# Train discriminator on synthetic data\u001b[39;00m\n",
      "\u001b[36mFile \u001b[39m\u001b[32m~/pytorch_env/lib/python3.11/site-packages/torch/nn/modules/module.py:1511\u001b[39m, in \u001b[36mModule._wrapped_call_impl\u001b[39m\u001b[34m(self, *args, **kwargs)\u001b[39m\n\u001b[32m   1509\u001b[39m     \u001b[38;5;28;01mreturn\u001b[39;00m \u001b[38;5;28mself\u001b[39m._compiled_call_impl(*args, **kwargs)  \u001b[38;5;66;03m# type: ignore[misc]\u001b[39;00m\n\u001b[32m   1510\u001b[39m \u001b[38;5;28;01melse\u001b[39;00m:\n\u001b[32m-> \u001b[39m\u001b[32m1511\u001b[39m     \u001b[38;5;28;01mreturn\u001b[39;00m \u001b[38;5;28;43mself\u001b[39;49m\u001b[43m.\u001b[49m\u001b[43m_call_impl\u001b[49m\u001b[43m(\u001b[49m\u001b[43m*\u001b[49m\u001b[43margs\u001b[49m\u001b[43m,\u001b[49m\u001b[43m \u001b[49m\u001b[43m*\u001b[49m\u001b[43m*\u001b[49m\u001b[43mkwargs\u001b[49m\u001b[43m)\u001b[49m\n",
      "\u001b[36mFile \u001b[39m\u001b[32m~/pytorch_env/lib/python3.11/site-packages/torch/nn/modules/module.py:1520\u001b[39m, in \u001b[36mModule._call_impl\u001b[39m\u001b[34m(self, *args, **kwargs)\u001b[39m\n\u001b[32m   1515\u001b[39m \u001b[38;5;66;03m# If we don't have any hooks, we want to skip the rest of the logic in\u001b[39;00m\n\u001b[32m   1516\u001b[39m \u001b[38;5;66;03m# this function, and just call forward.\u001b[39;00m\n\u001b[32m   1517\u001b[39m \u001b[38;5;28;01mif\u001b[39;00m \u001b[38;5;129;01mnot\u001b[39;00m (\u001b[38;5;28mself\u001b[39m._backward_hooks \u001b[38;5;129;01mor\u001b[39;00m \u001b[38;5;28mself\u001b[39m._backward_pre_hooks \u001b[38;5;129;01mor\u001b[39;00m \u001b[38;5;28mself\u001b[39m._forward_hooks \u001b[38;5;129;01mor\u001b[39;00m \u001b[38;5;28mself\u001b[39m._forward_pre_hooks\n\u001b[32m   1518\u001b[39m         \u001b[38;5;129;01mor\u001b[39;00m _global_backward_pre_hooks \u001b[38;5;129;01mor\u001b[39;00m _global_backward_hooks\n\u001b[32m   1519\u001b[39m         \u001b[38;5;129;01mor\u001b[39;00m _global_forward_hooks \u001b[38;5;129;01mor\u001b[39;00m _global_forward_pre_hooks):\n\u001b[32m-> \u001b[39m\u001b[32m1520\u001b[39m     \u001b[38;5;28;01mreturn\u001b[39;00m \u001b[43mforward_call\u001b[49m\u001b[43m(\u001b[49m\u001b[43m*\u001b[49m\u001b[43margs\u001b[49m\u001b[43m,\u001b[49m\u001b[43m \u001b[49m\u001b[43m*\u001b[49m\u001b[43m*\u001b[49m\u001b[43mkwargs\u001b[49m\u001b[43m)\u001b[49m\n\u001b[32m   1522\u001b[39m \u001b[38;5;28;01mtry\u001b[39;00m:\n\u001b[32m   1523\u001b[39m     result = \u001b[38;5;28;01mNone\u001b[39;00m\n",
      "\u001b[36mFile \u001b[39m\u001b[32m~/smrt-transformer/02. Research-model/model.py:138\u001b[39m, in \u001b[36mSmartContractTransformer.forward\u001b[39m\u001b[34m(self, input_ids, attention_mask, path_input_ids, path_attention_mask, target_ids)\u001b[39m\n\u001b[32m    135\u001b[39m max_len = \u001b[38;5;28mmin\u001b[39m(\u001b[38;5;28mself\u001b[39m.max_length, \u001b[32m50\u001b[39m)  \u001b[38;5;66;03m# Limit generation length to prevent infinite loops\u001b[39;00m\n\u001b[32m    137\u001b[39m \u001b[38;5;28;01mfor\u001b[39;00m _ \u001b[38;5;129;01min\u001b[39;00m \u001b[38;5;28mrange\u001b[39m(max_len - \u001b[32m1\u001b[39m):\n\u001b[32m--> \u001b[39m\u001b[32m138\u001b[39m     tgt_mask = \u001b[38;5;28;43mself\u001b[39;49m\u001b[43m.\u001b[49m\u001b[43mgenerate_square_subsequent_mask\u001b[49m\u001b[43m(\u001b[49m\u001b[43mtgt\u001b[49m\u001b[43m.\u001b[49m\u001b[43msize\u001b[49m\u001b[43m(\u001b[49m\u001b[32;43m1\u001b[39;49m\u001b[43m)\u001b[49m\u001b[43m)\u001b[49m.to(device)\n\u001b[32m    139\u001b[39m     tgt_pos = torch.arange(\u001b[32m0\u001b[39m, tgt.size(\u001b[32m1\u001b[39m), device=device).unsqueeze(\u001b[32m0\u001b[39m).expand(batch_size, -\u001b[32m1\u001b[39m)\n\u001b[32m    141\u001b[39m     tgt_emb = \u001b[38;5;28mself\u001b[39m.embedding(tgt) * (\u001b[38;5;28mself\u001b[39m.d_model ** \u001b[32m0.5\u001b[39m)\n",
      "\u001b[36mFile \u001b[39m\u001b[32m~/smrt-transformer/02. Research-model/model.py:72\u001b[39m, in \u001b[36mSmartContractTransformer.generate_square_subsequent_mask\u001b[39m\u001b[34m(self, sz)\u001b[39m\n\u001b[32m     70\u001b[39m \u001b[38;5;28;01mdef\u001b[39;00m\u001b[38;5;250m \u001b[39m\u001b[34mgenerate_square_subsequent_mask\u001b[39m(\u001b[38;5;28mself\u001b[39m, sz):\n\u001b[32m     71\u001b[39m \u001b[38;5;250m    \u001b[39m\u001b[33;03m\"\"\"Generate a square mask for the sequence\"\"\"\u001b[39;00m\n\u001b[32m---> \u001b[39m\u001b[32m72\u001b[39m     mask = (\u001b[43mtorch\u001b[49m\u001b[43m.\u001b[49m\u001b[43mtriu\u001b[49m\u001b[43m(\u001b[49m\u001b[43mtorch\u001b[49m\u001b[43m.\u001b[49m\u001b[43mones\u001b[49m\u001b[43m(\u001b[49m\u001b[43msz\u001b[49m\u001b[43m,\u001b[49m\u001b[43m \u001b[49m\u001b[43msz\u001b[49m\u001b[43m)\u001b[49m\u001b[43m)\u001b[49m == \u001b[32m1\u001b[39m).transpose(\u001b[32m0\u001b[39m, \u001b[32m1\u001b[39m)\n\u001b[32m     73\u001b[39m     mask = mask.float().masked_fill(mask == \u001b[32m0\u001b[39m, \u001b[38;5;28mfloat\u001b[39m(\u001b[33m'\u001b[39m\u001b[33m-inf\u001b[39m\u001b[33m'\u001b[39m)).masked_fill(mask == \u001b[32m1\u001b[39m, \u001b[38;5;28mfloat\u001b[39m(\u001b[32m0.0\u001b[39m))\n\u001b[32m     74\u001b[39m     \u001b[38;5;28;01mreturn\u001b[39;00m mask\n",
      "\u001b[31mKeyboardInterrupt\u001b[39m: "
     ]
    }
   ],
   "source": [
    "trainer = SmartContractTrainer(\n",
    "    model=model,\n",
    "    train_dataloader=train_dataloader,\n",
    "    val_dataloader=val_dataloader,\n",
    "    learning_rate=0.02,\n",
    "    weight_decay=0.002,\n",
    "    max_grad_norm=1.0,\n",
    "    gpu_id=1\n",
    ")\n",
    "\n",
    "# Load optimizer states if available\n",
    "if 'optimizer_state_dict' in checkpoint:\n",
    "    trainer.optimizer.load_state_dict(checkpoint['optimizer_state_dict'])\n",
    "if 'discriminator_optimizer_state_dict' in checkpoint:\n",
    "    trainer.discriminator_optimizer.load_state_dict(checkpoint['discriminator_optimizer_state_dict'])\n",
    "\n",
    "# Start training\n",
    "trainer.train(num_epochs=200, checkpoint_dir='checkpoints_v1_512_retrain/') "
   ]
  },
  {
   "cell_type": "code",
   "execution_count": null,
   "id": "0915c3b0-0b6d-46bc-99af-bf58c4d2f506",
   "metadata": {},
   "outputs": [],
   "source": [
    "print(\"Done\")"
   ]
  },
  {
   "cell_type": "code",
   "execution_count": 11,
   "id": "e226c989-7536-4937-bd16-6d8ed7c5a181",
   "metadata": {},
   "outputs": [
    {
     "data": {
      "text/plain": [
       "{'train_loss': [5.714763154154238,\n",
       "  3.898336564128107,\n",
       "  3.114519550866289,\n",
       "  2.8629532830988467,\n",
       "  2.710476746201044,\n",
       "  2.5816148477109526,\n",
       "  2.478081943489346,\n",
       "  2.4004833038616558,\n",
       "  2.3359127299116533,\n",
       "  2.278445080334961,\n",
       "  2.226736070610318,\n",
       "  2.176064258507589,\n",
       "  2.133767006896701,\n",
       "  2.0953575744930464,\n",
       "  2.059959278747498,\n",
       "  2.0266608089326397,\n",
       "  1.9989639464103186,\n",
       "  1.96819977703773,\n",
       "  1.9439609291054043,\n",
       "  1.920995210941601,\n",
       "  1.8968769354311374,\n",
       "  1.877222005557637,\n",
       "  1.8584496979656897,\n",
       "  1.8397725193868042,\n",
       "  1.8230667844591404,\n",
       "  1.803662594128032,\n",
       "  1.7828009001351157,\n",
       "  1.7586080471988723,\n",
       "  1.7356457554775735,\n",
       "  1.7124147005231956,\n",
       "  1.6921908695236025,\n",
       "  1.6700494166890623,\n",
       "  1.6523505355058452,\n",
       "  1.6360928625928555,\n",
       "  1.6187931600766692,\n",
       "  1.6047024387615942,\n",
       "  1.5919291949554866,\n",
       "  1.5820124040950427,\n",
       "  1.5728680969698157,\n",
       "  1.5661580242187139,\n",
       "  1.560153073001756,\n",
       "  1.553331805783298,\n",
       "  1.5466893115062488,\n",
       "  1.540573139435689,\n",
       "  1.5350496019770505,\n",
       "  1.529484899147697,\n",
       "  1.525331354423945,\n",
       "  1.5202832325645115,\n",
       "  1.5170413576095942,\n",
       "  1.5129811452782673,\n",
       "  1.5109079383578696,\n",
       "  1.5086980539819468,\n",
       "  1.505758800996622,\n",
       "  1.5036841800561536,\n",
       "  1.5009469081290625,\n",
       "  1.4990620377506663,\n",
       "  1.497122821129358,\n",
       "  1.4960700937881772,\n",
       "  1.4941040503648901,\n",
       "  1.4930102603708801,\n",
       "  1.4924381688649475,\n",
       "  1.491629820567346,\n",
       "  1.4892306469174712,\n",
       "  1.489339700329445,\n",
       "  1.4881300841395564,\n",
       "  1.486363574450195,\n",
       "  1.4858707726708513,\n",
       "  1.484618207211551,\n",
       "  1.483211068767804,\n",
       "  1.4813852475094702,\n",
       "  1.4803031291886282,\n",
       "  1.4803517321824085,\n",
       "  1.4786603375385872,\n",
       "  1.4793856893132327,\n",
       "  1.4774583257705327,\n",
       "  1.4778869764606943,\n",
       "  1.4778828324065378,\n",
       "  1.4772464856799883,\n",
       "  1.4762270643777056,\n",
       "  1.4765104319267122,\n",
       "  1.4567231882231038,\n",
       "  1.4529858526033845,\n",
       "  1.4527218836569504,\n",
       "  1.4516811441527053,\n",
       "  1.4509816617362583,\n",
       "  1.4509448939161338,\n",
       "  1.4501252334579648,\n",
       "  1.4499009027782637,\n",
       "  1.4495947295026816,\n",
       "  1.4492156948496702,\n",
       "  1.4408768500263982,\n",
       "  1.439543883791083,\n",
       "  1.4390656651244333,\n",
       "  1.4393862669646975,\n",
       "  1.4386324778847073,\n",
       "  1.4382277091030076,\n",
       "  1.4381309380173213,\n",
       "  1.4380882389460627,\n",
       "  1.4342162147341038,\n",
       "  1.4335752080080537,\n",
       "  1.4336234783466626,\n",
       "  1.4334049130616924,\n",
       "  1.4331109698110889,\n",
       "  1.4329729009522751,\n",
       "  1.4329336278523381,\n",
       "  1.4329222558515344,\n",
       "  1.4327569747630786,\n",
       "  1.4324472793948508,\n",
       "  1.4308124573334404,\n",
       "  1.4308223710229746,\n",
       "  1.4306438327306816,\n",
       "  1.430414132449938,\n",
       "  1.4305071783631216,\n",
       "  1.4304476608871943,\n",
       "  1.4303834334663723,\n",
       "  1.4303653979961108,\n",
       "  1.4296575530244429,\n",
       "  1.4295242958860435,\n",
       "  1.429404311500519,\n",
       "  1.4294759911510784,\n",
       "  1.4291893050604658,\n",
       "  1.4294376783220193,\n",
       "  1.4292976375625068,\n",
       "  1.4290626204532126,\n",
       "  1.4289905063719617,\n",
       "  1.4287454214963047,\n",
       "  1.428941427483389,\n",
       "  1.4289201799588713,\n",
       "  1.4288446130488701,\n",
       "  1.4287344514145681,\n",
       "  1.428909230609185,\n",
       "  1.428786999623295,\n",
       "  1.4286535568388083,\n",
       "  1.4287059066795078,\n",
       "  1.4285205974880415,\n",
       "  1.4285972146648662],\n",
       " 'val_loss': [4.569788109511137,\n",
       "  3.3172163777053356,\n",
       "  2.9460654444992542,\n",
       "  2.748626656830311,\n",
       "  2.5855635963380337,\n",
       "  2.470141179859638,\n",
       "  2.3775800988078117,\n",
       "  2.286674350500107,\n",
       "  2.2343258932232857,\n",
       "  2.1722591519355774,\n",
       "  2.099857000634074,\n",
       "  2.0488332360982895,\n",
       "  2.0101976171135902,\n",
       "  1.9607390351593494,\n",
       "  1.9329051729291677,\n",
       "  1.8937088176608086,\n",
       "  1.8688418976962566,\n",
       "  1.8463642038404942,\n",
       "  1.8214576430618763,\n",
       "  1.7981350664049387,\n",
       "  1.7789932563900948,\n",
       "  1.758696036413312,\n",
       "  1.735545575618744,\n",
       "  1.719496250152588,\n",
       "  1.7173063661903143,\n",
       "  1.6961412504315376,\n",
       "  1.6600014604628086,\n",
       "  1.637044845148921,\n",
       "  1.6286408118903637,\n",
       "  1.6080755237489939,\n",
       "  1.589432803913951,\n",
       "  1.5725995022803545,\n",
       "  1.5597865357995033,\n",
       "  1.544653134420514,\n",
       "  1.5352830924093723,\n",
       "  1.5286907609552145,\n",
       "  1.5310860238969326,\n",
       "  1.5296916756778955,\n",
       "  1.526393610984087,\n",
       "  1.5137705691158772,\n",
       "  1.5211698655039072,\n",
       "  1.500455379486084,\n",
       "  1.5061101578176022,\n",
       "  1.5020876303315163,\n",
       "  1.4973610900342464,\n",
       "  1.4995757266879082,\n",
       "  1.5030089654028416,\n",
       "  1.4942582659423351,\n",
       "  1.5038392022252083,\n",
       "  1.4929310195147991,\n",
       "  1.4882628303021193,\n",
       "  1.4890762772411108,\n",
       "  1.4935882166028023,\n",
       "  1.4907204490154982,\n",
       "  1.493597811087966,\n",
       "  1.4881037715822458,\n",
       "  1.4890065621584654,\n",
       "  1.486839883029461,\n",
       "  1.480757337063551,\n",
       "  1.477338895201683,\n",
       "  1.4831950180232525,\n",
       "  1.4743375070393085,\n",
       "  1.4751391299068928,\n",
       "  1.4859788734465837,\n",
       "  1.4781673327088356,\n",
       "  1.4734110943973064,\n",
       "  1.4845246765762568,\n",
       "  1.4765803646296263,\n",
       "  1.4730436373502016,\n",
       "  1.4790857508778572,\n",
       "  1.4762633703649044,\n",
       "  1.4749655313789845,\n",
       "  1.4727130606770515,\n",
       "  1.46557847969234,\n",
       "  1.476034689694643,\n",
       "  1.4708253350108862,\n",
       "  1.474815085530281,\n",
       "  1.4733268581330776,\n",
       "  1.470391470938921,\n",
       "  1.4722155760973692,\n",
       "  1.4639015104621649,\n",
       "  1.4593322854489088,\n",
       "  1.4615103658288717,\n",
       "  1.4542944766581059,\n",
       "  1.458794740960002,\n",
       "  1.459693169221282,\n",
       "  1.4572679717093706,\n",
       "  1.4585966896265745,\n",
       "  1.4579156842082739,\n",
       "  1.461875956505537,\n",
       "  1.4526603277772665,\n",
       "  1.451333075761795,\n",
       "  1.4545704238116741,\n",
       "  1.4536266550421715,\n",
       "  1.4534063693135977,\n",
       "  1.4513319302350283,\n",
       "  1.4517639353871346,\n",
       "  1.4511886220425367,\n",
       "  1.450055480003357,\n",
       "  1.4503355789929628,\n",
       "  1.4500991888344288,\n",
       "  1.4497654400765896,\n",
       "  1.4505800511687994,\n",
       "  1.4502953384071589,\n",
       "  1.4500595666468143,\n",
       "  1.4501823354512453,\n",
       "  1.4499141536653042,\n",
       "  1.449816182255745,\n",
       "  1.449805235490203,\n",
       "  1.449262471869588,\n",
       "  1.4495046455413103,\n",
       "  1.4496306218206882,\n",
       "  1.4492274299263954,\n",
       "  1.4494899287819862,\n",
       "  1.4493901524692774,\n",
       "  1.4493707213550806,\n",
       "  1.4489901941269636,\n",
       "  1.4489601496607065,\n",
       "  1.4490810222923756,\n",
       "  1.4492072202265263,\n",
       "  1.4491811841726303,\n",
       "  1.4491117987781763,\n",
       "  1.4491137322038412,\n",
       "  1.4489741660654545,\n",
       "  1.4490795005112886,\n",
       "  1.448835600167513,\n",
       "  1.4489763416349888,\n",
       "  1.4488502703607082,\n",
       "  1.4491836596280336,\n",
       "  1.4492255877703428,\n",
       "  1.4491680935025215,\n",
       "  1.4490576069802046,\n",
       "  1.449041772633791,\n",
       "  1.4490887857973576,\n",
       "  1.4490729551762342,\n",
       "  1.4489745441824198],\n",
       " 'contract_vuln_loss': [0.02549472167764021,\n",
       "  0.022737455631609962,\n",
       "  0.022755987728714,\n",
       "  0.022700513492194797,\n",
       "  0.022662370495144794,\n",
       "  0.022718636061363068,\n",
       "  0.02273131331259554,\n",
       "  0.022710617985061035,\n",
       "  0.022724525123216183,\n",
       "  0.02271048593603575,\n",
       "  0.0227046967171162,\n",
       "  0.02270844541931812,\n",
       "  0.022719862557977085,\n",
       "  0.022704649749745728,\n",
       "  0.022725366667030827,\n",
       "  0.02272182377607455,\n",
       "  0.0227038770796282,\n",
       "  0.022703884640642307,\n",
       "  0.022663203877923283,\n",
       "  0.02270967703268462,\n",
       "  0.022723490699919552,\n",
       "  0.02270472416720489,\n",
       "  0.02270738360114955,\n",
       "  0.02272058727786593,\n",
       "  0.022734554178953877,\n",
       "  0.022712310371191605,\n",
       "  0.02271220767171133,\n",
       "  0.022743216811462116,\n",
       "  0.02273995488911514,\n",
       "  0.02273132698794481,\n",
       "  0.02269701551454576,\n",
       "  0.02273434122634146,\n",
       "  0.02274039057874868,\n",
       "  0.022723224978496433,\n",
       "  0.022722634906501404,\n",
       "  0.022689365030895817,\n",
       "  0.02271885669278533,\n",
       "  0.02271685867456226,\n",
       "  0.022689045145518696,\n",
       "  0.02272085051821626,\n",
       "  0.02270231750451411,\n",
       "  0.022713076444747654,\n",
       "  0.022753774921001182,\n",
       "  0.022694483134350758,\n",
       "  0.022700640137340477,\n",
       "  0.022711450186201,\n",
       "  0.02270672205658887,\n",
       "  0.022696122681729408,\n",
       "  0.02269498376992969,\n",
       "  0.022739685114782318,\n",
       "  0.022681204274502903,\n",
       "  0.022674060007005104,\n",
       "  0.022690652567790195,\n",
       "  0.022709947937120327,\n",
       "  0.02271369113237137,\n",
       "  0.022716062294370808,\n",
       "  0.022687678483016643,\n",
       "  0.022678878180417618,\n",
       "  0.02272050442328684,\n",
       "  0.022719045217506027,\n",
       "  0.0226920179566258,\n",
       "  0.022721346003912655,\n",
       "  0.022727913079643437,\n",
       "  0.02271634119419241,\n",
       "  0.022754478665885952,\n",
       "  0.02268588403423902,\n",
       "  0.022704207758040062,\n",
       "  0.02268866050929538,\n",
       "  0.022717672841910553,\n",
       "  0.02269279797793377,\n",
       "  0.022735084211932342,\n",
       "  0.022662296033512226,\n",
       "  0.022731244236436993,\n",
       "  0.022679313630778564,\n",
       "  0.02270784588317155,\n",
       "  0.02270036645734263,\n",
       "  0.02272144151785275,\n",
       "  0.022716802176780144,\n",
       "  0.022693365348480907,\n",
       "  0.022697223387216862,\n",
       "  0.022650564814597485,\n",
       "  0.022663228169613678,\n",
       "  0.022660245879630562,\n",
       "  0.022656836035282246,\n",
       "  0.02265429267799666,\n",
       "  0.02271220493296036,\n",
       "  0.022683088597749534,\n",
       "  0.022675728708829567,\n",
       "  0.022678510039279114,\n",
       "  0.02266056006295761,\n",
       "  0.022687300439673687,\n",
       "  0.022662412485645222,\n",
       "  0.022649231090729416,\n",
       "  0.022671505554833195,\n",
       "  0.022668437454334125,\n",
       "  0.02266807725704588,\n",
       "  0.02267669252830414,\n",
       "  0.022669932050372772,\n",
       "  0.02264915035279254,\n",
       "  0.022647821484317657,\n",
       "  0.022638131304839146,\n",
       "  0.022634959124440968,\n",
       "  0.02264419592651925,\n",
       "  0.02263375023829018,\n",
       "  0.022698839342317326,\n",
       "  0.022666735412633938,\n",
       "  0.022666429213649433,\n",
       "  0.02264900984456063,\n",
       "  0.02265494151902293,\n",
       "  0.022648831531258205,\n",
       "  0.0226223526610864,\n",
       "  0.02262879206463989,\n",
       "  0.022658924266637077,\n",
       "  0.02267136648959911,\n",
       "  0.022659980445334564,\n",
       "  0.022682720515508896,\n",
       "  0.022643456795057762,\n",
       "  0.022621098445662163,\n",
       "  0.02265301258432064,\n",
       "  0.022655410519083263,\n",
       "  0.02265176636060118,\n",
       "  0.02265457174714964,\n",
       "  0.022630995069538418,\n",
       "  0.02264345693862132,\n",
       "  0.022640387027012737,\n",
       "  0.022661860958625206,\n",
       "  0.022617046953189987,\n",
       "  0.02263844230400008,\n",
       "  0.02265744716326592,\n",
       "  0.02264198051257567,\n",
       "  0.022624688465958057,\n",
       "  0.022659717407445663,\n",
       "  0.022628439656594997,\n",
       "  0.02263797150019247,\n",
       "  0.02264242142203297,\n",
       "  0.022675817604121483],\n",
       " 'line_vuln_loss': [0.007299088952918408,\n",
       "  0.0003897672565791962,\n",
       "  0.0003894617620684398,\n",
       "  0.00038909551699272185,\n",
       "  0.0003891972857831127,\n",
       "  0.0003896983321516852,\n",
       "  0.0003893747289615348,\n",
       "  0.00038928237146414494,\n",
       "  0.0003890668356279463,\n",
       "  0.0003896216199187591,\n",
       "  0.000389227179903353,\n",
       "  0.0003893830281546111,\n",
       "  0.00038958318422690195,\n",
       "  0.0003893423346151955,\n",
       "  0.00038930279240260643,\n",
       "  0.0003893524794282554,\n",
       "  0.00038968627856448,\n",
       "  0.00038922876301368797,\n",
       "  0.0003894830361057419,\n",
       "  0.0003893872851362312,\n",
       "  0.0003892761009115829,\n",
       "  0.000389397042281668,\n",
       "  0.0003896151056647551,\n",
       "  0.0003893862991145602,\n",
       "  0.00038943168176420903,\n",
       "  0.00038893930735931593,\n",
       "  0.00038915635774504733,\n",
       "  0.0003895933940921995,\n",
       "  0.00038948896155359495,\n",
       "  0.000389391559660674,\n",
       "  0.0003893204893145651,\n",
       "  0.0003891549815249854,\n",
       "  0.00038913797907873607,\n",
       "  0.00038899245354201526,\n",
       "  0.00038906462172372085,\n",
       "  0.000389261145223845,\n",
       "  0.0003891406463930317,\n",
       "  0.00038937327014641255,\n",
       "  0.0003889317049901645,\n",
       "  0.00038923279481448543,\n",
       "  0.00038897124317653197,\n",
       "  0.0003895028241796846,\n",
       "  0.0003891746562320312,\n",
       "  0.00038921028098851633,\n",
       "  0.00038911422120780856,\n",
       "  0.00038908293366978836,\n",
       "  0.00038928838543135583,\n",
       "  0.00038951055780366033,\n",
       "  0.000389371914230011,\n",
       "  0.0003888217432414303,\n",
       "  0.000388994210642641,\n",
       "  0.00038896236386243993,\n",
       "  0.0003895975504757969,\n",
       "  0.0003890425739616612,\n",
       "  0.00038910951317433387,\n",
       "  0.0003890712510701453,\n",
       "  0.00038937702787655365,\n",
       "  0.00038901402051569784,\n",
       "  0.00038942833143017685,\n",
       "  0.00038946592052266544,\n",
       "  0.0003887833336624961,\n",
       "  0.00038944315034141505,\n",
       "  0.00038896023077023375,\n",
       "  0.0003894429484551603,\n",
       "  0.00038918084068096835,\n",
       "  0.0003890166827109403,\n",
       "  0.0003890090880491274,\n",
       "  0.00038907467980046385,\n",
       "  0.0003891397402055834,\n",
       "  0.0003889906195405569,\n",
       "  0.0003891777219121959,\n",
       "  0.0003889697737781986,\n",
       "  0.0003887559230307765,\n",
       "  0.0003891861895163702,\n",
       "  0.00038951793729268723,\n",
       "  0.00038866871438060957,\n",
       "  0.0003891905995519287,\n",
       "  0.0003892106888447649,\n",
       "  0.0003888039446961348,\n",
       "  0.0003888801649247808,\n",
       "  0.0003885021654676403,\n",
       "  0.00038858968402183587,\n",
       "  0.00038905992134006715,\n",
       "  0.00038845516197620833,\n",
       "  0.0003885570617338363,\n",
       "  0.00038868941105773354,\n",
       "  0.00038885124739334947,\n",
       "  0.0003886543449682548,\n",
       "  0.0003888277087214296,\n",
       "  0.00038860378649569827,\n",
       "  0.00038878946346985435,\n",
       "  0.0003888042938270654,\n",
       "  0.00038860040464210266,\n",
       "  0.0003887068125025439,\n",
       "  0.00038860616466976524,\n",
       "  0.00038848845365230847,\n",
       "  0.0003887153768510716,\n",
       "  0.0003884973020795291,\n",
       "  0.00038854549716000366,\n",
       "  0.0003883662659365669,\n",
       "  0.00038845788226407683,\n",
       "  0.00038854308746637327,\n",
       "  0.00038855953015278465,\n",
       "  0.0003888179874093651,\n",
       "  0.0003884733818943535,\n",
       "  0.0003884686906559746,\n",
       "  0.00038853542188554263,\n",
       "  0.00038855437382829297,\n",
       "  0.00038851482770451724,\n",
       "  0.0003883557561752773,\n",
       "  0.00038847177917056757,\n",
       "  0.0003883396367944608,\n",
       "  0.0003885552851347945,\n",
       "  0.00038852183597591215,\n",
       "  0.000388261073189806,\n",
       "  0.0003882901194452938,\n",
       "  0.0003887176685188915,\n",
       "  0.00038835685912992716,\n",
       "  0.0003881276045763026,\n",
       "  0.00038845153400543785,\n",
       "  0.0003886427281110588,\n",
       "  0.000388431299020897,\n",
       "  0.0003883677146861352,\n",
       "  0.0003885617835139819,\n",
       "  0.000388295576240952,\n",
       "  0.00038854990995639986,\n",
       "  0.00038826757260430753,\n",
       "  0.0003882793178979727,\n",
       "  0.00038879233169260806,\n",
       "  0.000388582743908621,\n",
       "  0.00038829713036249143,\n",
       "  0.00038850641163597953,\n",
       "  0.00038846101293896174,\n",
       "  0.00038816933256708336,\n",
       "  0.00038847347075881606,\n",
       "  0.0003885729374132108],\n",
       " 'learning_rate': [0.001,\n",
       "  0.001,\n",
       "  0.001,\n",
       "  0.001,\n",
       "  0.001,\n",
       "  0.001,\n",
       "  0.001,\n",
       "  0.001,\n",
       "  0.001,\n",
       "  0.001,\n",
       "  0.001,\n",
       "  0.001,\n",
       "  0.001,\n",
       "  0.001,\n",
       "  0.001,\n",
       "  0.001,\n",
       "  0.001,\n",
       "  0.001,\n",
       "  0.001,\n",
       "  0.001,\n",
       "  0.001,\n",
       "  0.001,\n",
       "  0.001,\n",
       "  0.001,\n",
       "  0.001,\n",
       "  0.001,\n",
       "  0.001,\n",
       "  0.001,\n",
       "  0.001,\n",
       "  0.001,\n",
       "  0.001,\n",
       "  0.001,\n",
       "  0.001,\n",
       "  0.001,\n",
       "  0.001,\n",
       "  0.001,\n",
       "  0.001,\n",
       "  0.001,\n",
       "  0.001,\n",
       "  0.001,\n",
       "  0.001,\n",
       "  0.001,\n",
       "  0.001,\n",
       "  0.001,\n",
       "  0.001,\n",
       "  0.001,\n",
       "  0.001,\n",
       "  0.001,\n",
       "  0.001,\n",
       "  0.001,\n",
       "  0.001,\n",
       "  0.001,\n",
       "  0.001,\n",
       "  0.001,\n",
       "  0.001,\n",
       "  0.001,\n",
       "  0.001,\n",
       "  0.001,\n",
       "  0.001,\n",
       "  0.001,\n",
       "  0.001,\n",
       "  0.001,\n",
       "  0.001,\n",
       "  0.001,\n",
       "  0.001,\n",
       "  0.001,\n",
       "  0.001,\n",
       "  0.001,\n",
       "  0.001,\n",
       "  0.001,\n",
       "  0.001,\n",
       "  0.001,\n",
       "  0.001,\n",
       "  0.001,\n",
       "  0.001,\n",
       "  0.001,\n",
       "  0.001,\n",
       "  0.001,\n",
       "  0.001,\n",
       "  0.001,\n",
       "  0.0005,\n",
       "  0.0005,\n",
       "  0.0005,\n",
       "  0.0005,\n",
       "  0.0005,\n",
       "  0.0005,\n",
       "  0.0005,\n",
       "  0.0005,\n",
       "  0.0005,\n",
       "  0.0005,\n",
       "  0.00025,\n",
       "  0.00025,\n",
       "  0.00025,\n",
       "  0.00025,\n",
       "  0.00025,\n",
       "  0.00025,\n",
       "  0.00025,\n",
       "  0.00025,\n",
       "  0.000125,\n",
       "  0.000125,\n",
       "  0.000125,\n",
       "  0.000125,\n",
       "  0.000125,\n",
       "  0.000125,\n",
       "  0.000125,\n",
       "  0.000125,\n",
       "  0.000125,\n",
       "  0.000125,\n",
       "  6.25e-05,\n",
       "  6.25e-05,\n",
       "  6.25e-05,\n",
       "  6.25e-05,\n",
       "  6.25e-05,\n",
       "  6.25e-05,\n",
       "  6.25e-05,\n",
       "  6.25e-05,\n",
       "  3.125e-05,\n",
       "  3.125e-05,\n",
       "  3.125e-05,\n",
       "  3.125e-05,\n",
       "  3.125e-05,\n",
       "  3.125e-05,\n",
       "  3.125e-05,\n",
       "  1.5625e-05,\n",
       "  1.5625e-05,\n",
       "  1.5625e-05,\n",
       "  1.5625e-05,\n",
       "  1.5625e-05,\n",
       "  1.5625e-05,\n",
       "  1.5625e-05,\n",
       "  1.5625e-05,\n",
       "  1.5625e-05,\n",
       "  7.8125e-06,\n",
       "  7.8125e-06,\n",
       "  7.8125e-06,\n",
       "  7.8125e-06]}"
      ]
     },
     "execution_count": 11,
     "metadata": {},
     "output_type": "execute_result"
    }
   ],
   "source": [
    "trainer.training_history"
   ]
  },
  {
   "cell_type": "code",
   "execution_count": 13,
   "id": "22e7129b-5411-4831-82fa-337a880d3d99",
   "metadata": {},
   "outputs": [
    {
     "data": {
      "image/png": "[encoded data removed]",
      "text/plain": [
       "<Figure size 1200x800 with 4 Axes>"
      ]
     },
     "metadata": {},
     "output_type": "display_data"
    }
   ],
   "source": [
    "import matplotlib.pyplot as plt\n",
    "\n",
    "# Plot training history\n",
    "plt.figure(figsize=(12, 8))\n",
    "\n",
    "# Plot generator loss\n",
    "plt.subplot(2, 2, 1)\n",
    "#plt.plot(trainer.training_history['train_loss'], label='Train')\n",
    "plt.plot(trainer.training_history['val_loss'], label='Validation')\n",
    "plt.title('Generator Loss')\n",
    "plt.xlabel('Epoch')\n",
    "plt.ylabel('Loss')\n",
    "plt.legend()\n",
    "\n",
    "# Plot vulnerability loss\n",
    "plt.subplot(2, 2, 2)\n",
    "plt.plot(trainer.training_history['contract_vuln_loss'])\n",
    "plt.title('Contract Vulnerability Detection Loss')\n",
    "plt.xlabel('Epoch')\n",
    "plt.ylabel('Loss')\n",
    "\n",
    "# Plot synthetic loss\n",
    "plt.subplot(2, 2, 3)\n",
    "plt.plot(trainer.training_history['line_vuln_loss'])\n",
    "plt.title('Line Vulnerability Detection Loss')\n",
    "plt.xlabel('Epoch')\n",
    "plt.ylabel('Loss')\n",
    "\n",
    "# Plot learning rate\n",
    "plt.subplot(2, 2, 4)\n",
    "plt.plot(trainer.training_history['learning_rate'])\n",
    "plt.title('Learning Rate')\n",
    "plt.xlabel('Epoch')\n",
    "plt.ylabel('Learning Rate')\n",
    "\n",
    "plt.tight_layout()\n",
    "plt.show()"
   ]
  },
  {
   "cell_type": "code",
   "execution_count": 16,
   "id": "cd835ecb-c7c1-4b26-96bc-0e4904f46bf5",
   "metadata": {},
   "outputs": [
    {
     "name": "stdout",
     "output_type": "stream",
     "text": [
      "Loaded checkpoint from epoch 20\n",
      "Previous validation loss: 0.0070\n"
     ]
    }
   ],
   "source": [
    "# Load checkpoint\n",
    "checkpoint_path = os.path.join(checkpoint_dir, 'checkpoint_epoch_20_model_v3.pt')  # Change this to your checkpoint file\n",
    "checkpoint = torch.load(checkpoint_path)\n",
    "\n",
    "# Load model states\n",
    "model.load_state_dict(checkpoint['model_state_dict'])\n",
    "model.generator.load_state_dict(checkpoint['generator_state_dict'])\n",
    "model.discriminator.load_state_dict(checkpoint['discriminator_state_dict'])\n",
    "model.decoder.load_state_dict(checkpoint['decoder_state_dict'])\n",
    "\n",
    "# Load optimizer states\n",
    "trainer.optimizer_G.load_state_dict(checkpoint['optimizer_G_state_dict'])\n",
    "trainer.optimizer_D.load_state_dict(checkpoint['optimizer_D_state_dict'])\n",
    "trainer.optimizer_decoder.load_state_dict(checkpoint['optimizer_decoder_state_dict'])\n",
    "\n",
    "# Get the epoch to start from and best validation loss\n",
    "start_epoch = checkpoint['epoch']\n",
    "best_val_loss = checkpoint['val_loss']\n",
    "\n",
    "print(f\"Loaded checkpoint from epoch {start_epoch + 1}\")\n",
    "print(f\"Previous validation loss: {best_val_loss:.4f}\")"
   ]
  },
  {
   "cell_type": "code",
   "execution_count": null,
   "id": "e26779f5-56bc-4d32-9c6a-81ce63c676c3",
   "metadata": {},
   "outputs": [
    {
     "name": "stdout",
     "output_type": "stream",
     "text": [
      "\n",
      "Starting training epoch...\n"
     ]
    }
   ],
   "source": [
    "# Training loop - start from the next epoch\n",
    "num_epochs = 120\n",
    "\n",
    "for epoch in range(start_epoch + 1, num_epochs):  # Start from the next epoch\n",
    "    # Start timer for this epoch\n",
    "    epoch_start_time = time.time()\n",
    "    \n",
    "    # Training\n",
    "    g_loss, d_loss, decoder_loss = trainer.train_epoch()\n",
    "    val_loss = trainer.validate()\n",
    "    \n",
    "    # Calculate epoch time\n",
    "    epoch_time = time.time() - epoch_start_time\n",
    "    \n",
    "    # Print training progress\n",
    "    print(f\"Epoch {epoch+1}/{num_epochs}\")\n",
    "    print(f\"Generator Loss: {g_loss:.4f}\")\n",
    "    print(f\"Discriminator Loss: {d_loss:.4f}\")\n",
    "    print(f\"Decoder Loss: {decoder_loss:.4f}\")\n",
    "    print(f\"Validation Loss: {val_loss:.4f}\")\n",
    "    print(f\"Epoch Time: {epoch_time:.2f}s\")\n",
    "    \n",
    "    # Save model checkpoint\n",
    "    if (epoch + 1) % 10 == 0:\n",
    "        checkpoint = {\n",
    "            # Model states\n",
    "            'epoch': epoch,\n",
    "            'model_state_dict': model.state_dict(),\n",
    "            'generator_state_dict': model.generator.state_dict(),\n",
    "            'discriminator_state_dict': model.discriminator.state_dict(),\n",
    "            'decoder_state_dict': model.decoder.state_dict(),\n",
    "            \n",
    "            # Optimizer states\n",
    "            'optimizer_G_state_dict': trainer.optimizer_G.state_dict(),\n",
    "            'optimizer_D_state_dict': trainer.optimizer_D.state_dict(),\n",
    "            'optimizer_decoder_state_dict': trainer.optimizer_decoder.state_dict(),\n",
    "            \n",
    "            # Loss values\n",
    "            'g_loss': g_loss,\n",
    "            'd_loss': d_loss,\n",
    "            'decoder_loss': decoder_loss,\n",
    "            'val_loss': val_loss,\n",
    "            \n",
    "            # Model configuration\n",
    "            'model_config': {\n",
    "                'vocab_size': model.decoder.vocab_size,\n",
    "                'max_length': model.decoder.max_length\n",
    "            },\n",
    "            \n",
    "            # Training metadata\n",
    "            'timestamp': datetime.now().strftime(\"%Y-%m-%d %H:%M:%S\"),\n",
    "            'epoch_time': epoch_time\n",
    "        }\n",
    "        \n",
    "        # Save regular checkpoint\n",
    "        checkpoint_path = os.path.join(checkpoint_dir, f'checkpoint_epoch_{epoch+1}_model_v3.pt')\n",
    "        torch.save(checkpoint, checkpoint_path)\n",
    "        print(f\"Saved checkpoint for epoch {epoch+1}\")\n",
    "        \n",
    "        # Save best model\n",
    "        if val_loss < best_val_loss:\n",
    "            best_val_loss = val_loss\n",
    "            best_model_path = os.path.join(checkpoint_dir, 'best_model_v3.pt')\n",
    "            torch.save(checkpoint, best_model_path)\n",
    "            print(f\"New best model saved with validation loss: {val_loss:.4f}\")\n",
    "\n",
    "print(\"\\nTraining completed!\")\n",
    "print(f\"Best validation loss: {best_val_loss:.4f}\")"
   ]
  },
  {
   "cell_type": "code",
   "execution_count": null,
   "id": "c7a9277d-d896-44c6-af23-db7512b8f557",
   "metadata": {},
   "outputs": [],
   "source": [
    "print('Done')"
   ]
  },
  {
   "cell_type": "code",
   "execution_count": null,
   "id": "f1088dc1-ee3e-457b-980f-cbfa67896dd7",
   "metadata": {},
   "outputs": [],
   "source": []
  },
  {
   "cell_type": "code",
   "execution_count": null,
   "id": "e6116b2b-55dc-4842-8794-88283e9e2acf",
   "metadata": {},
   "outputs": [],
   "source": []
  },
  {
   "cell_type": "markdown",
   "id": "64ca8665-9d47-4383-8fbf-ec85abb2ba8d",
   "metadata": {},
   "source": [
    "NOTES:\n",
    "\n",
    "1. Input Processing:\n",
    "Initial input: [32, 512] (batch_size=32, sequence_length=512)\n",
    "After embedding: [32, 512, 512] (batch_size=32, sequence_length=512, embedding_dim=512)\n",
    "This is correct because the embedding layer converts each token to a 512-dimensional vector\n",
    "\n",
    "2. Path Embeddings Processing:\n",
    "Initial path embeddings: [32, 768] (batch_size=32, code2vec_dim=768)\n",
    "After path embedding layer: [32, 512] (batch_size=32, transformer_dim=512)\n",
    "The linear layer converts from code2vec's 768 dimensions to transformer's 512 dimensions\n",
    "After expansion: [32, 512, 512] (batch_size=32, sequence_length=512, transformer_dim=512)\n",
    "The path embeddings are expanded to match the sequence length\n",
    "\n",
    "3. Final Shape:\n",
    "[32, 512, 512] (batch_size=32, sequence_length=512, transformer_dim=512)\n",
    "This is the correct shape for the transformer layers\n"
   ]
  },
  {
   "cell_type": "code",
   "execution_count": 15,
   "id": "cc9d4bfa-25f5-4b56-b679-44fc3102049e",
   "metadata": {},
   "outputs": [
    {
     "name": "stdout",
     "output_type": "stream",
     "text": [
      "Saved checkpoint for epoch 10\n"
     ]
    }
   ],
   "source": [
    "checkpoint = {\n",
    "    # Model states\n",
    "    'epoch': epoch,\n",
    "    'model_state_dict': model.state_dict(),\n",
    "    'generator_state_dict': model.generator.state_dict(),\n",
    "    'discriminator_state_dict': model.discriminator.state_dict(),\n",
    "    'decoder_state_dict': model.decoder.state_dict(),\n",
    "    \n",
    "    # Optimizer states\n",
    "    'optimizer_G_state_dict': trainer.optimizer_G.state_dict(),\n",
    "    'optimizer_D_state_dict': trainer.optimizer_D.state_dict(),\n",
    "    'optimizer_decoder_state_dict': trainer.optimizer_decoder.state_dict(),\n",
    "    \n",
    "    # Loss values\n",
    "    'g_loss': g_loss,\n",
    "    'd_loss': d_loss,\n",
    "    'decoder_loss': decoder_loss,\n",
    "    'val_loss': val_loss,\n",
    "    \n",
    "    # Model configuration\n",
    "    'model_config': {\n",
    "        #'d_model': model.d_model,\n",
    "        'vocab_size': model.decoder.vocab_size,\n",
    "        'max_length': model.decoder.max_length\n",
    "    },\n",
    "    \n",
    "    # Training metadata\n",
    "    'timestamp': datetime.now().strftime(\"%Y-%m-%d %H:%M:%S\"),\n",
    "    'epoch_time': epoch_time\n",
    "}\n",
    "\n",
    "# Save regular checkpoint\n",
    "checkpoint_path = os.path.join(checkpoint_dir, f'checkpoint_epoch_{epoch+1}_model_v3.pt')\n",
    "torch.save(checkpoint, checkpoint_path)\n",
    "print(f\"Saved checkpoint for epoch {epoch+1}\")"
   ]
  },
  {
   "cell_type": "code",
   "execution_count": 25,
   "id": "812eafcf-c1de-4283-905d-9943fcacffee",
   "metadata": {},
   "outputs": [
    {
     "name": "stdout",
     "output_type": "stream",
     "text": [
      "Epoch [119/120]\n",
      "Generator Loss: 10.5703\n",
      "Discriminator Loss: 0.0062\n",
      "Validation Loss: 0.0002\n"
     ]
    }
   ],
   "source": [
    "print(f\"Epoch [{epoch}/{num_epochs}]\")\n",
    "print(f\"Generator Loss: {g_loss:.4f}\")\n",
    "print(f\"Discriminator Loss: {d_loss:.4f}\")\n",
    "print(f\"Validation Loss: {val_loss:.4f}\")"
   ]
  },
  {
   "cell_type": "markdown",
   "id": "144f2e17-41c2-4553-a974-d92ec9add514",
   "metadata": {},
   "source": [
    "## Save model:"
   ]
  },
  {
   "cell_type": "code",
   "execution_count": null,
   "id": "c6c34b13-9ee1-466b-a751-f7d898d7bf3a",
   "metadata": {},
   "outputs": [],
   "source": [
    "torch.save({\n",
    "    'epoch': 100,\n",
    "    'model_state_dict': model.state_dict(),\n",
    "    #'optimizer_G_state_dict': trainer.optimizer_G.state_dict(),\n",
    "    #'optimizer_D_state_dict': trainer.optimizer_D.state_dict(),\n",
    "    'gen_loss': model.gen_loss,\n",
    "    'synth_loss': model.synth_loss,\n",
    "    'vul_loss': model.vul_loss,\n",
    "    'val_loss': model.val_loss,\n",
    "    'model_config': {\n",
    "        'd_model': 768,\n",
    "    }\n",
    "}, 'final_model_v1_512.pt')"
   ]
  },
  {
   "cell_type": "code",
   "execution_count": 21,
   "id": "a542cf7e-3f9a-405f-b855-74f4ed22cf84",
   "metadata": {},
   "outputs": [],
   "source": [
    "# After training loop\n",
    "# Save the final model and training state\n",
    "\n",
    "\n",
    "# If you want to save just the model for inference\n",
    "torch.save(model.state_dict(), 'model_weights_v1_512.pt')\n",
    "\n",
    "# If you want to save the entire model\n",
    "torch.save(model, 'full_model_v1_512.pt')"
   ]
  },
  {
   "cell_type": "code",
   "execution_count": 16,
   "id": "e4518ba2-796c-4576-b707-dce9b7b50f6d",
   "metadata": {},
   "outputs": [],
   "source": [
    "# Save model with additional information\n",
    "torch.save({\n",
    "    'epoch': num_epochs,\n",
    "    'model_state_dict': model.state_dict(),\n",
    "    'optimizer_G_state_dict': trainer.optimizer_G.state_dict(),\n",
    "    'optimizer_D_state_dict': trainer.optimizer_D.state_dict(),\n",
    "    'g_loss': g_loss,\n",
    "    'd_loss': d_loss,\n",
    "    'val_loss': val_loss,\n",
    "    'model_config': {\n",
    "        'd_model': 768\n",
    "    },\n",
    "    'training_config': {\n",
    "        'learning_rate': 0.0002,\n",
    "        'beta1': 0.5,\n",
    "        'batch_size': 32\n",
    "    },\n",
    "    'training_history': {\n",
    "        'g_losses': g_loss,  # List of generator losses\n",
    "        'd_losses': d_loss,  # List of discriminator losses\n",
    "        'val_losses': val_loss  # List of validation losses\n",
    "    }\n",
    "}, 'final_model_v4_with_history.pt')"
   ]
  },
  {
   "cell_type": "markdown",
   "id": "53bdb45a-1d83-4f1c-ba3d-537122d6d20d",
   "metadata": {},
   "source": [
    "# Load Model:"
   ]
  },
  {
   "cell_type": "code",
   "execution_count": 10,
   "id": "c9c635a8-7b46-4a65-8310-6752630ea0ba",
   "metadata": {},
   "outputs": [],
   "source": [
    "# Load the full training state\n",
    "checkpoint = torch.load('final_model_v4.pt')\n",
    "model = SmartContractVulnerabilityGAN(**checkpoint['model_config'])\n",
    "model.load_state_dict(checkpoint['model_state_dict'])\n",
    "model = model.cuda() \n",
    "\n",
    "# Initialize trainer with loaded model\n",
    "trainer = VulnerabilityDetectionTrainer(\n",
    "    model,\n",
    "    train_dataloader,\n",
    "    val_dataloader\n",
    ")\n",
    "\n",
    "# Load optimizer states if needed\n",
    "trainer.optimizer_G.load_state_dict(checkpoint['optimizer_G_state_dict'])\n",
    "trainer.optimizer_D.load_state_dict(checkpoint['optimizer_D_state_dict'])\n"
   ]
  },
  {
   "cell_type": "code",
   "execution_count": 21,
   "id": "73a2faac-91c0-42d9-8166-27b46ca15918",
   "metadata": {},
   "outputs": [],
   "source": [
    "# Or if you just want to load the model weights\n",
    "model = SmartContractVulnerabilityGAN(d_model=768)\n",
    "model.load_state_dict(torch.load('model_weights.pt'))\n",
    "model = model.cuda()  # Move to GPU if needed\n"
   ]
  },
  {
   "cell_type": "code",
   "execution_count": null,
   "id": "f084e260-1dab-4400-8cd1-23de24a06f41",
   "metadata": {},
   "outputs": [],
   "source": [
    "# Or if you saved the entire model\n",
    "model = torch.load('full_model.pt')\n",
    "model = model.cuda()  # Move to GPU if needed"
   ]
  },
  {
   "cell_type": "markdown",
   "id": "882d56c1-6276-4a53-a46f-eef634bdbcb5",
   "metadata": {},
   "source": [
    "## Model Exploration:"
   ]
  },
  {
   "cell_type": "code",
   "execution_count": 13,
   "id": "53f7a67e-c86b-4b37-83cd-ac2bd8f74be7",
   "metadata": {
    "collapsed": true,
    "jupyter": {
     "outputs_hidden": true
    }
   },
   "outputs": [
    {
     "name": "stdout",
     "output_type": "stream",
     "text": [
      "Type of model: <class 'model.SmartContractVulnerabilityGAN'>\n",
      "\n",
      "Model Components:\n",
      "--------------------------------------------------\n",
      "\n",
      "Model Attributes:\n",
      "- T_destination\n",
      "- add_module\n",
      "- apply\n",
      "- bfloat16\n",
      "- buffers\n",
      "- call_super_init\n",
      "- children\n",
      "- codebert\n",
      "- compile\n",
      "- cpu\n",
      "- cuda\n",
      "- decode_embeddings\n",
      "- decoder\n",
      "- discriminator\n",
      "- double\n",
      "- dump_patches\n",
      "- eval\n",
      "- extra_repr\n",
      "- float\n",
      "- forward\n",
      "- generate_code\n",
      "- generator\n",
      "- get_buffer\n",
      "- get_extra_state\n",
      "- get_parameter\n",
      "- get_submodule\n",
      "- half\n",
      "- ipu\n",
      "- load_state_dict\n",
      "- modules\n",
      "- named_buffers\n",
      "- named_children\n",
      "- named_modules\n",
      "- named_parameters\n",
      "- parameters\n",
      "- register_backward_hook\n",
      "- register_buffer\n",
      "- register_forward_hook\n",
      "- register_forward_pre_hook\n",
      "- register_full_backward_hook\n",
      "- register_full_backward_pre_hook\n",
      "- register_load_state_dict_post_hook\n",
      "- register_module\n",
      "- register_parameter\n",
      "- register_state_dict_pre_hook\n",
      "- requires_grad_\n",
      "- set_extra_state\n",
      "- share_memory\n",
      "- state_dict\n",
      "- to\n",
      "- to_empty\n",
      "- tokenizer\n",
      "- train\n",
      "- training\n",
      "- transformer\n",
      "- type\n",
      "- xpu\n",
      "- zero_grad\n",
      "\n",
      "Model Structure:\n",
      "SmartContractVulnerabilityGAN(\n",
      "  (codebert): RobertaModel(\n",
      "    (embeddings): RobertaEmbeddings(\n",
      "      (word_embeddings): Embedding(50265, 768, padding_idx=1)\n",
      "      (position_embeddings): Embedding(514, 768, padding_idx=1)\n",
      "      (token_type_embeddings): Embedding(1, 768)\n",
      "      (LayerNorm): LayerNorm((768,), eps=1e-05, elementwise_affine=True)\n",
      "      (dropout): Dropout(p=0.1, inplace=False)\n",
      "    )\n",
      "    (encoder): RobertaEncoder(\n",
      "      (layer): ModuleList(\n",
      "        (0-11): 12 x RobertaLayer(\n",
      "          (attention): RobertaAttention(\n",
      "            (self): RobertaSdpaSelfAttention(\n",
      "              (query): Linear(in_features=768, out_features=768, bias=True)\n",
      "              (key): Linear(in_features=768, out_features=768, bias=True)\n",
      "              (value): Linear(in_features=768, out_features=768, bias=True)\n",
      "              (dropout): Dropout(p=0.1, inplace=False)\n",
      "            )\n",
      "            (output): RobertaSelfOutput(\n",
      "              (dense): Linear(in_features=768, out_features=768, bias=True)\n",
      "              (LayerNorm): LayerNorm((768,), eps=1e-05, elementwise_affine=True)\n",
      "              (dropout): Dropout(p=0.1, inplace=False)\n",
      "            )\n",
      "          )\n",
      "          (intermediate): RobertaIntermediate(\n",
      "            (dense): Linear(in_features=768, out_features=3072, bias=True)\n",
      "            (intermediate_act_fn): GELUActivation()\n",
      "          )\n",
      "          (output): RobertaOutput(\n",
      "            (dense): Linear(in_features=3072, out_features=768, bias=True)\n",
      "            (LayerNorm): LayerNorm((768,), eps=1e-05, elementwise_affine=True)\n",
      "            (dropout): Dropout(p=0.1, inplace=False)\n",
      "          )\n",
      "        )\n",
      "      )\n",
      "    )\n",
      "    (pooler): RobertaPooler(\n",
      "      (dense): Linear(in_features=768, out_features=768, bias=True)\n",
      "      (activation): Tanh()\n",
      "    )\n",
      "  )\n",
      "  (transformer): SmartContractTransformer(\n",
      "    (transformer): TransformerEncoderLayer(\n",
      "      (self_attn): MultiheadAttention(\n",
      "        (out_proj): NonDynamicallyQuantizableLinear(in_features=768, out_features=768, bias=True)\n",
      "      )\n",
      "      (linear1): Linear(in_features=768, out_features=768, bias=True)\n",
      "      (dropout): Dropout(p=0.1, inplace=False)\n",
      "      (linear2): Linear(in_features=768, out_features=768, bias=True)\n",
      "      (norm1): LayerNorm((768,), eps=1e-05, elementwise_affine=True)\n",
      "      (norm2): LayerNorm((768,), eps=1e-05, elementwise_affine=True)\n",
      "      (dropout1): Dropout(p=0.1, inplace=False)\n",
      "      (dropout2): Dropout(p=0.1, inplace=False)\n",
      "    )\n",
      "    (layer_norm): LayerNorm((768,), eps=1e-05, elementwise_affine=True)\n",
      "  )\n",
      "  (generator): Generator(\n",
      "    (main): Sequential(\n",
      "      (0): Linear(in_features=768, out_features=512, bias=True)\n",
      "      (1): LayerNorm((512,), eps=1e-05, elementwise_affine=True)\n",
      "      (2): ReLU()\n",
      "      (3): Linear(in_features=512, out_features=256, bias=True)\n",
      "      (4): LayerNorm((256,), eps=1e-05, elementwise_affine=True)\n",
      "      (5): ReLU()\n",
      "      (6): Linear(in_features=256, out_features=768, bias=True)\n",
      "      (7): Tanh()\n",
      "    )\n",
      "  )\n",
      "  (discriminator): Discriminator(\n",
      "    (main): Sequential(\n",
      "      (0): Linear(in_features=768, out_features=512, bias=True)\n",
      "      (1): LayerNorm((512,), eps=1e-05, elementwise_affine=True)\n",
      "      (2): LeakyReLU(negative_slope=0.2)\n",
      "      (3): Dropout(p=0.3, inplace=False)\n",
      "      (4): Linear(in_features=512, out_features=256, bias=True)\n",
      "      (5): LayerNorm((256,), eps=1e-05, elementwise_affine=True)\n",
      "      (6): LeakyReLU(negative_slope=0.2)\n",
      "      (7): Dropout(p=0.3, inplace=False)\n",
      "      (8): Linear(in_features=256, out_features=1, bias=True)\n",
      "      (9): Sigmoid()\n",
      "    )\n",
      "  )\n",
      "  (decoder): CodeDecoder(\n",
      "    (decoder): TransformerDecoder(\n",
      "      (layers): ModuleList(\n",
      "        (0-2): 3 x TransformerDecoderLayer(\n",
      "          (self_attn): MultiheadAttention(\n",
      "            (out_proj): NonDynamicallyQuantizableLinear(in_features=768, out_features=768, bias=True)\n",
      "          )\n",
      "          (multihead_attn): MultiheadAttention(\n",
      "            (out_proj): NonDynamicallyQuantizableLinear(in_features=768, out_features=768, bias=True)\n",
      "          )\n",
      "          (linear1): Linear(in_features=768, out_features=1536, bias=True)\n",
      "          (dropout): Dropout(p=0.1, inplace=False)\n",
      "          (linear2): Linear(in_features=1536, out_features=768, bias=True)\n",
      "          (norm1): LayerNorm((768,), eps=1e-05, elementwise_affine=True)\n",
      "          (norm2): LayerNorm((768,), eps=1e-05, elementwise_affine=True)\n",
      "          (norm3): LayerNorm((768,), eps=1e-05, elementwise_affine=True)\n",
      "          (dropout1): Dropout(p=0.1, inplace=False)\n",
      "          (dropout2): Dropout(p=0.1, inplace=False)\n",
      "          (dropout3): Dropout(p=0.1, inplace=False)\n",
      "        )\n",
      "      )\n",
      "    )\n",
      "    (embedding): Embedding(50000, 768)\n",
      "    (output_layer): Linear(in_features=768, out_features=50000, bias=True)\n",
      "  )\n",
      ")\n"
     ]
    }
   ],
   "source": [
    "print(\"Type of model:\", type(model))\n",
    "\n",
    "# If it's a SmartContractVulnerabilityGAN object, we can inspect its components directly\n",
    "print(\"\\nModel Components:\")\n",
    "print(\"-\" * 50)\n",
    "\n",
    "# Print model attributes\n",
    "print(\"\\nModel Attributes:\")\n",
    "for attr in dir(model):\n",
    "    if not attr.startswith('_'):  # Skip private attributes\n",
    "        print(f\"- {attr}\")\n",
    "\n",
    "# Print model structure\n",
    "print(\"\\nModel Structure:\")\n",
    "print(model)\n"
   ]
  },
  {
   "cell_type": "code",
   "execution_count": 14,
   "id": "3b9b5e4b-7ac0-4cdf-a029-11b68f2d6b00",
   "metadata": {
    "collapsed": true,
    "jupyter": {
     "outputs_hidden": true
    }
   },
   "outputs": [
    {
     "name": "stdout",
     "output_type": "stream",
     "text": [
      "\n",
      "Model State Dict:\n",
      "- codebert.embeddings.word_embeddings.weight\n",
      "- codebert.embeddings.position_embeddings.weight\n",
      "- codebert.embeddings.token_type_embeddings.weight\n",
      "- codebert.embeddings.LayerNorm.weight\n",
      "- codebert.embeddings.LayerNorm.bias\n",
      "- codebert.encoder.layer.0.attention.self.query.weight\n",
      "- codebert.encoder.layer.0.attention.self.query.bias\n",
      "- codebert.encoder.layer.0.attention.self.key.weight\n",
      "- codebert.encoder.layer.0.attention.self.key.bias\n",
      "- codebert.encoder.layer.0.attention.self.value.weight\n",
      "- codebert.encoder.layer.0.attention.self.value.bias\n",
      "- codebert.encoder.layer.0.attention.output.dense.weight\n",
      "- codebert.encoder.layer.0.attention.output.dense.bias\n",
      "- codebert.encoder.layer.0.attention.output.LayerNorm.weight\n",
      "- codebert.encoder.layer.0.attention.output.LayerNorm.bias\n",
      "- codebert.encoder.layer.0.intermediate.dense.weight\n",
      "- codebert.encoder.layer.0.intermediate.dense.bias\n",
      "- codebert.encoder.layer.0.output.dense.weight\n",
      "- codebert.encoder.layer.0.output.dense.bias\n",
      "- codebert.encoder.layer.0.output.LayerNorm.weight\n",
      "- codebert.encoder.layer.0.output.LayerNorm.bias\n",
      "- codebert.encoder.layer.1.attention.self.query.weight\n",
      "- codebert.encoder.layer.1.attention.self.query.bias\n",
      "- codebert.encoder.layer.1.attention.self.key.weight\n",
      "- codebert.encoder.layer.1.attention.self.key.bias\n",
      "- codebert.encoder.layer.1.attention.self.value.weight\n",
      "- codebert.encoder.layer.1.attention.self.value.bias\n",
      "- codebert.encoder.layer.1.attention.output.dense.weight\n",
      "- codebert.encoder.layer.1.attention.output.dense.bias\n",
      "- codebert.encoder.layer.1.attention.output.LayerNorm.weight\n",
      "- codebert.encoder.layer.1.attention.output.LayerNorm.bias\n",
      "- codebert.encoder.layer.1.intermediate.dense.weight\n",
      "- codebert.encoder.layer.1.intermediate.dense.bias\n",
      "- codebert.encoder.layer.1.output.dense.weight\n",
      "- codebert.encoder.layer.1.output.dense.bias\n",
      "- codebert.encoder.layer.1.output.LayerNorm.weight\n",
      "- codebert.encoder.layer.1.output.LayerNorm.bias\n",
      "- codebert.encoder.layer.2.attention.self.query.weight\n",
      "- codebert.encoder.layer.2.attention.self.query.bias\n",
      "- codebert.encoder.layer.2.attention.self.key.weight\n",
      "- codebert.encoder.layer.2.attention.self.key.bias\n",
      "- codebert.encoder.layer.2.attention.self.value.weight\n",
      "- codebert.encoder.layer.2.attention.self.value.bias\n",
      "- codebert.encoder.layer.2.attention.output.dense.weight\n",
      "- codebert.encoder.layer.2.attention.output.dense.bias\n",
      "- codebert.encoder.layer.2.attention.output.LayerNorm.weight\n",
      "- codebert.encoder.layer.2.attention.output.LayerNorm.bias\n",
      "- codebert.encoder.layer.2.intermediate.dense.weight\n",
      "- codebert.encoder.layer.2.intermediate.dense.bias\n",
      "- codebert.encoder.layer.2.output.dense.weight\n",
      "- codebert.encoder.layer.2.output.dense.bias\n",
      "- codebert.encoder.layer.2.output.LayerNorm.weight\n",
      "- codebert.encoder.layer.2.output.LayerNorm.bias\n",
      "- codebert.encoder.layer.3.attention.self.query.weight\n",
      "- codebert.encoder.layer.3.attention.self.query.bias\n",
      "- codebert.encoder.layer.3.attention.self.key.weight\n",
      "- codebert.encoder.layer.3.attention.self.key.bias\n",
      "- codebert.encoder.layer.3.attention.self.value.weight\n",
      "- codebert.encoder.layer.3.attention.self.value.bias\n",
      "- codebert.encoder.layer.3.attention.output.dense.weight\n",
      "- codebert.encoder.layer.3.attention.output.dense.bias\n",
      "- codebert.encoder.layer.3.attention.output.LayerNorm.weight\n",
      "- codebert.encoder.layer.3.attention.output.LayerNorm.bias\n",
      "- codebert.encoder.layer.3.intermediate.dense.weight\n",
      "- codebert.encoder.layer.3.intermediate.dense.bias\n",
      "- codebert.encoder.layer.3.output.dense.weight\n",
      "- codebert.encoder.layer.3.output.dense.bias\n",
      "- codebert.encoder.layer.3.output.LayerNorm.weight\n",
      "- codebert.encoder.layer.3.output.LayerNorm.bias\n",
      "- codebert.encoder.layer.4.attention.self.query.weight\n",
      "- codebert.encoder.layer.4.attention.self.query.bias\n",
      "- codebert.encoder.layer.4.attention.self.key.weight\n",
      "- codebert.encoder.layer.4.attention.self.key.bias\n",
      "- codebert.encoder.layer.4.attention.self.value.weight\n",
      "- codebert.encoder.layer.4.attention.self.value.bias\n",
      "- codebert.encoder.layer.4.attention.output.dense.weight\n",
      "- codebert.encoder.layer.4.attention.output.dense.bias\n",
      "- codebert.encoder.layer.4.attention.output.LayerNorm.weight\n",
      "- codebert.encoder.layer.4.attention.output.LayerNorm.bias\n",
      "- codebert.encoder.layer.4.intermediate.dense.weight\n",
      "- codebert.encoder.layer.4.intermediate.dense.bias\n",
      "- codebert.encoder.layer.4.output.dense.weight\n",
      "- codebert.encoder.layer.4.output.dense.bias\n",
      "- codebert.encoder.layer.4.output.LayerNorm.weight\n",
      "- codebert.encoder.layer.4.output.LayerNorm.bias\n",
      "- codebert.encoder.layer.5.attention.self.query.weight\n",
      "- codebert.encoder.layer.5.attention.self.query.bias\n",
      "- codebert.encoder.layer.5.attention.self.key.weight\n",
      "- codebert.encoder.layer.5.attention.self.key.bias\n",
      "- codebert.encoder.layer.5.attention.self.value.weight\n",
      "- codebert.encoder.layer.5.attention.self.value.bias\n",
      "- codebert.encoder.layer.5.attention.output.dense.weight\n",
      "- codebert.encoder.layer.5.attention.output.dense.bias\n",
      "- codebert.encoder.layer.5.attention.output.LayerNorm.weight\n",
      "- codebert.encoder.layer.5.attention.output.LayerNorm.bias\n",
      "- codebert.encoder.layer.5.intermediate.dense.weight\n",
      "- codebert.encoder.layer.5.intermediate.dense.bias\n",
      "- codebert.encoder.layer.5.output.dense.weight\n",
      "- codebert.encoder.layer.5.output.dense.bias\n",
      "- codebert.encoder.layer.5.output.LayerNorm.weight\n",
      "- codebert.encoder.layer.5.output.LayerNorm.bias\n",
      "- codebert.encoder.layer.6.attention.self.query.weight\n",
      "- codebert.encoder.layer.6.attention.self.query.bias\n",
      "- codebert.encoder.layer.6.attention.self.key.weight\n",
      "- codebert.encoder.layer.6.attention.self.key.bias\n",
      "- codebert.encoder.layer.6.attention.self.value.weight\n",
      "- codebert.encoder.layer.6.attention.self.value.bias\n",
      "- codebert.encoder.layer.6.attention.output.dense.weight\n",
      "- codebert.encoder.layer.6.attention.output.dense.bias\n",
      "- codebert.encoder.layer.6.attention.output.LayerNorm.weight\n",
      "- codebert.encoder.layer.6.attention.output.LayerNorm.bias\n",
      "- codebert.encoder.layer.6.intermediate.dense.weight\n",
      "- codebert.encoder.layer.6.intermediate.dense.bias\n",
      "- codebert.encoder.layer.6.output.dense.weight\n",
      "- codebert.encoder.layer.6.output.dense.bias\n",
      "- codebert.encoder.layer.6.output.LayerNorm.weight\n",
      "- codebert.encoder.layer.6.output.LayerNorm.bias\n",
      "- codebert.encoder.layer.7.attention.self.query.weight\n",
      "- codebert.encoder.layer.7.attention.self.query.bias\n",
      "- codebert.encoder.layer.7.attention.self.key.weight\n",
      "- codebert.encoder.layer.7.attention.self.key.bias\n",
      "- codebert.encoder.layer.7.attention.self.value.weight\n",
      "- codebert.encoder.layer.7.attention.self.value.bias\n",
      "- codebert.encoder.layer.7.attention.output.dense.weight\n",
      "- codebert.encoder.layer.7.attention.output.dense.bias\n",
      "- codebert.encoder.layer.7.attention.output.LayerNorm.weight\n",
      "- codebert.encoder.layer.7.attention.output.LayerNorm.bias\n",
      "- codebert.encoder.layer.7.intermediate.dense.weight\n",
      "- codebert.encoder.layer.7.intermediate.dense.bias\n",
      "- codebert.encoder.layer.7.output.dense.weight\n",
      "- codebert.encoder.layer.7.output.dense.bias\n",
      "- codebert.encoder.layer.7.output.LayerNorm.weight\n",
      "- codebert.encoder.layer.7.output.LayerNorm.bias\n",
      "- codebert.encoder.layer.8.attention.self.query.weight\n",
      "- codebert.encoder.layer.8.attention.self.query.bias\n",
      "- codebert.encoder.layer.8.attention.self.key.weight\n",
      "- codebert.encoder.layer.8.attention.self.key.bias\n",
      "- codebert.encoder.layer.8.attention.self.value.weight\n",
      "- codebert.encoder.layer.8.attention.self.value.bias\n",
      "- codebert.encoder.layer.8.attention.output.dense.weight\n",
      "- codebert.encoder.layer.8.attention.output.dense.bias\n",
      "- codebert.encoder.layer.8.attention.output.LayerNorm.weight\n",
      "- codebert.encoder.layer.8.attention.output.LayerNorm.bias\n",
      "- codebert.encoder.layer.8.intermediate.dense.weight\n",
      "- codebert.encoder.layer.8.intermediate.dense.bias\n",
      "- codebert.encoder.layer.8.output.dense.weight\n",
      "- codebert.encoder.layer.8.output.dense.bias\n",
      "- codebert.encoder.layer.8.output.LayerNorm.weight\n",
      "- codebert.encoder.layer.8.output.LayerNorm.bias\n",
      "- codebert.encoder.layer.9.attention.self.query.weight\n",
      "- codebert.encoder.layer.9.attention.self.query.bias\n",
      "- codebert.encoder.layer.9.attention.self.key.weight\n",
      "- codebert.encoder.layer.9.attention.self.key.bias\n",
      "- codebert.encoder.layer.9.attention.self.value.weight\n",
      "- codebert.encoder.layer.9.attention.self.value.bias\n",
      "- codebert.encoder.layer.9.attention.output.dense.weight\n",
      "- codebert.encoder.layer.9.attention.output.dense.bias\n",
      "- codebert.encoder.layer.9.attention.output.LayerNorm.weight\n",
      "- codebert.encoder.layer.9.attention.output.LayerNorm.bias\n",
      "- codebert.encoder.layer.9.intermediate.dense.weight\n",
      "- codebert.encoder.layer.9.intermediate.dense.bias\n",
      "- codebert.encoder.layer.9.output.dense.weight\n",
      "- codebert.encoder.layer.9.output.dense.bias\n",
      "- codebert.encoder.layer.9.output.LayerNorm.weight\n",
      "- codebert.encoder.layer.9.output.LayerNorm.bias\n",
      "- codebert.encoder.layer.10.attention.self.query.weight\n",
      "- codebert.encoder.layer.10.attention.self.query.bias\n",
      "- codebert.encoder.layer.10.attention.self.key.weight\n",
      "- codebert.encoder.layer.10.attention.self.key.bias\n",
      "- codebert.encoder.layer.10.attention.self.value.weight\n",
      "- codebert.encoder.layer.10.attention.self.value.bias\n",
      "- codebert.encoder.layer.10.attention.output.dense.weight\n",
      "- codebert.encoder.layer.10.attention.output.dense.bias\n",
      "- codebert.encoder.layer.10.attention.output.LayerNorm.weight\n",
      "- codebert.encoder.layer.10.attention.output.LayerNorm.bias\n",
      "- codebert.encoder.layer.10.intermediate.dense.weight\n",
      "- codebert.encoder.layer.10.intermediate.dense.bias\n",
      "- codebert.encoder.layer.10.output.dense.weight\n",
      "- codebert.encoder.layer.10.output.dense.bias\n",
      "- codebert.encoder.layer.10.output.LayerNorm.weight\n",
      "- codebert.encoder.layer.10.output.LayerNorm.bias\n",
      "- codebert.encoder.layer.11.attention.self.query.weight\n",
      "- codebert.encoder.layer.11.attention.self.query.bias\n",
      "- codebert.encoder.layer.11.attention.self.key.weight\n",
      "- codebert.encoder.layer.11.attention.self.key.bias\n",
      "- codebert.encoder.layer.11.attention.self.value.weight\n",
      "- codebert.encoder.layer.11.attention.self.value.bias\n",
      "- codebert.encoder.layer.11.attention.output.dense.weight\n",
      "- codebert.encoder.layer.11.attention.output.dense.bias\n",
      "- codebert.encoder.layer.11.attention.output.LayerNorm.weight\n",
      "- codebert.encoder.layer.11.attention.output.LayerNorm.bias\n",
      "- codebert.encoder.layer.11.intermediate.dense.weight\n",
      "- codebert.encoder.layer.11.intermediate.dense.bias\n",
      "- codebert.encoder.layer.11.output.dense.weight\n",
      "- codebert.encoder.layer.11.output.dense.bias\n",
      "- codebert.encoder.layer.11.output.LayerNorm.weight\n",
      "- codebert.encoder.layer.11.output.LayerNorm.bias\n",
      "- codebert.pooler.dense.weight\n",
      "- codebert.pooler.dense.bias\n",
      "- transformer.transformer.self_attn.in_proj_weight\n",
      "- transformer.transformer.self_attn.in_proj_bias\n",
      "- transformer.transformer.self_attn.out_proj.weight\n",
      "- transformer.transformer.self_attn.out_proj.bias\n",
      "- transformer.transformer.linear1.weight\n",
      "- transformer.transformer.linear1.bias\n",
      "- transformer.transformer.linear2.weight\n",
      "- transformer.transformer.linear2.bias\n",
      "- transformer.transformer.norm1.weight\n",
      "- transformer.transformer.norm1.bias\n",
      "- transformer.transformer.norm2.weight\n",
      "- transformer.transformer.norm2.bias\n",
      "- transformer.layer_norm.weight\n",
      "- transformer.layer_norm.bias\n",
      "- generator.main.0.weight\n",
      "- generator.main.0.bias\n",
      "- generator.main.1.weight\n",
      "- generator.main.1.bias\n",
      "- generator.main.3.weight\n",
      "- generator.main.3.bias\n",
      "- generator.main.4.weight\n",
      "- generator.main.4.bias\n",
      "- generator.main.6.weight\n",
      "- generator.main.6.bias\n",
      "- discriminator.main.0.weight\n",
      "- discriminator.main.0.bias\n",
      "- discriminator.main.1.weight\n",
      "- discriminator.main.1.bias\n",
      "- discriminator.main.4.weight\n",
      "- discriminator.main.4.bias\n",
      "- discriminator.main.5.weight\n",
      "- discriminator.main.5.bias\n",
      "- discriminator.main.8.weight\n",
      "- discriminator.main.8.bias\n",
      "- decoder.pos_encoder\n",
      "- decoder.decoder.layers.0.self_attn.in_proj_weight\n",
      "- decoder.decoder.layers.0.self_attn.in_proj_bias\n",
      "- decoder.decoder.layers.0.self_attn.out_proj.weight\n",
      "- decoder.decoder.layers.0.self_attn.out_proj.bias\n",
      "- decoder.decoder.layers.0.multihead_attn.in_proj_weight\n",
      "- decoder.decoder.layers.0.multihead_attn.in_proj_bias\n",
      "- decoder.decoder.layers.0.multihead_attn.out_proj.weight\n",
      "- decoder.decoder.layers.0.multihead_attn.out_proj.bias\n",
      "- decoder.decoder.layers.0.linear1.weight\n",
      "- decoder.decoder.layers.0.linear1.bias\n",
      "- decoder.decoder.layers.0.linear2.weight\n",
      "- decoder.decoder.layers.0.linear2.bias\n",
      "- decoder.decoder.layers.0.norm1.weight\n",
      "- decoder.decoder.layers.0.norm1.bias\n",
      "- decoder.decoder.layers.0.norm2.weight\n",
      "- decoder.decoder.layers.0.norm2.bias\n",
      "- decoder.decoder.layers.0.norm3.weight\n",
      "- decoder.decoder.layers.0.norm3.bias\n",
      "- decoder.decoder.layers.1.self_attn.in_proj_weight\n",
      "- decoder.decoder.layers.1.self_attn.in_proj_bias\n",
      "- decoder.decoder.layers.1.self_attn.out_proj.weight\n",
      "- decoder.decoder.layers.1.self_attn.out_proj.bias\n",
      "- decoder.decoder.layers.1.multihead_attn.in_proj_weight\n",
      "- decoder.decoder.layers.1.multihead_attn.in_proj_bias\n",
      "- decoder.decoder.layers.1.multihead_attn.out_proj.weight\n",
      "- decoder.decoder.layers.1.multihead_attn.out_proj.bias\n",
      "- decoder.decoder.layers.1.linear1.weight\n",
      "- decoder.decoder.layers.1.linear1.bias\n",
      "- decoder.decoder.layers.1.linear2.weight\n",
      "- decoder.decoder.layers.1.linear2.bias\n",
      "- decoder.decoder.layers.1.norm1.weight\n",
      "- decoder.decoder.layers.1.norm1.bias\n",
      "- decoder.decoder.layers.1.norm2.weight\n",
      "- decoder.decoder.layers.1.norm2.bias\n",
      "- decoder.decoder.layers.1.norm3.weight\n",
      "- decoder.decoder.layers.1.norm3.bias\n",
      "- decoder.decoder.layers.2.self_attn.in_proj_weight\n",
      "- decoder.decoder.layers.2.self_attn.in_proj_bias\n",
      "- decoder.decoder.layers.2.self_attn.out_proj.weight\n",
      "- decoder.decoder.layers.2.self_attn.out_proj.bias\n",
      "- decoder.decoder.layers.2.multihead_attn.in_proj_weight\n",
      "- decoder.decoder.layers.2.multihead_attn.in_proj_bias\n",
      "- decoder.decoder.layers.2.multihead_attn.out_proj.weight\n",
      "- decoder.decoder.layers.2.multihead_attn.out_proj.bias\n",
      "- decoder.decoder.layers.2.linear1.weight\n",
      "- decoder.decoder.layers.2.linear1.bias\n",
      "- decoder.decoder.layers.2.linear2.weight\n",
      "- decoder.decoder.layers.2.linear2.bias\n",
      "- decoder.decoder.layers.2.norm1.weight\n",
      "- decoder.decoder.layers.2.norm1.bias\n",
      "- decoder.decoder.layers.2.norm2.weight\n",
      "- decoder.decoder.layers.2.norm2.bias\n",
      "- decoder.decoder.layers.2.norm3.weight\n",
      "- decoder.decoder.layers.2.norm3.bias\n",
      "- decoder.embedding.weight\n",
      "- decoder.output_layer.weight\n",
      "- decoder.output_layer.bias\n"
     ]
    }
   ],
   "source": [
    "print(\"\\nModel State Dict:\")\n",
    "for key in model.state_dict().keys():\n",
    "    print(f\"- {key}\")"
   ]
  },
  {
   "cell_type": "code",
   "execution_count": 15,
   "id": "a484d444-0ca8-4797-8cb4-bc6d43761d32",
   "metadata": {
    "collapsed": true,
    "jupyter": {
     "outputs_hidden": true
    },
    "scrolled": true
   },
   "outputs": [
    {
     "name": "stdout",
     "output_type": "stream",
     "text": [
      "\n",
      "Parameter Shapes:\n",
      "- codebert.embeddings.word_embeddings.weight: torch.Size([50265, 768])\n",
      "- codebert.embeddings.position_embeddings.weight: torch.Size([514, 768])\n",
      "- codebert.embeddings.token_type_embeddings.weight: torch.Size([1, 768])\n",
      "- codebert.embeddings.LayerNorm.weight: torch.Size([768])\n",
      "- codebert.embeddings.LayerNorm.bias: torch.Size([768])\n",
      "- codebert.encoder.layer.0.attention.self.query.weight: torch.Size([768, 768])\n",
      "- codebert.encoder.layer.0.attention.self.query.bias: torch.Size([768])\n",
      "- codebert.encoder.layer.0.attention.self.key.weight: torch.Size([768, 768])\n",
      "- codebert.encoder.layer.0.attention.self.key.bias: torch.Size([768])\n",
      "- codebert.encoder.layer.0.attention.self.value.weight: torch.Size([768, 768])\n",
      "- codebert.encoder.layer.0.attention.self.value.bias: torch.Size([768])\n",
      "- codebert.encoder.layer.0.attention.output.dense.weight: torch.Size([768, 768])\n",
      "- codebert.encoder.layer.0.attention.output.dense.bias: torch.Size([768])\n",
      "- codebert.encoder.layer.0.attention.output.LayerNorm.weight: torch.Size([768])\n",
      "- codebert.encoder.layer.0.attention.output.LayerNorm.bias: torch.Size([768])\n",
      "- codebert.encoder.layer.0.intermediate.dense.weight: torch.Size([3072, 768])\n",
      "- codebert.encoder.layer.0.intermediate.dense.bias: torch.Size([3072])\n",
      "- codebert.encoder.layer.0.output.dense.weight: torch.Size([768, 3072])\n",
      "- codebert.encoder.layer.0.output.dense.bias: torch.Size([768])\n",
      "- codebert.encoder.layer.0.output.LayerNorm.weight: torch.Size([768])\n",
      "- codebert.encoder.layer.0.output.LayerNorm.bias: torch.Size([768])\n",
      "- codebert.encoder.layer.1.attention.self.query.weight: torch.Size([768, 768])\n",
      "- codebert.encoder.layer.1.attention.self.query.bias: torch.Size([768])\n",
      "- codebert.encoder.layer.1.attention.self.key.weight: torch.Size([768, 768])\n",
      "- codebert.encoder.layer.1.attention.self.key.bias: torch.Size([768])\n",
      "- codebert.encoder.layer.1.attention.self.value.weight: torch.Size([768, 768])\n",
      "- codebert.encoder.layer.1.attention.self.value.bias: torch.Size([768])\n",
      "- codebert.encoder.layer.1.attention.output.dense.weight: torch.Size([768, 768])\n",
      "- codebert.encoder.layer.1.attention.output.dense.bias: torch.Size([768])\n",
      "- codebert.encoder.layer.1.attention.output.LayerNorm.weight: torch.Size([768])\n",
      "- codebert.encoder.layer.1.attention.output.LayerNorm.bias: torch.Size([768])\n",
      "- codebert.encoder.layer.1.intermediate.dense.weight: torch.Size([3072, 768])\n",
      "- codebert.encoder.layer.1.intermediate.dense.bias: torch.Size([3072])\n",
      "- codebert.encoder.layer.1.output.dense.weight: torch.Size([768, 3072])\n",
      "- codebert.encoder.layer.1.output.dense.bias: torch.Size([768])\n",
      "- codebert.encoder.layer.1.output.LayerNorm.weight: torch.Size([768])\n",
      "- codebert.encoder.layer.1.output.LayerNorm.bias: torch.Size([768])\n",
      "- codebert.encoder.layer.2.attention.self.query.weight: torch.Size([768, 768])\n",
      "- codebert.encoder.layer.2.attention.self.query.bias: torch.Size([768])\n",
      "- codebert.encoder.layer.2.attention.self.key.weight: torch.Size([768, 768])\n",
      "- codebert.encoder.layer.2.attention.self.key.bias: torch.Size([768])\n",
      "- codebert.encoder.layer.2.attention.self.value.weight: torch.Size([768, 768])\n",
      "- codebert.encoder.layer.2.attention.self.value.bias: torch.Size([768])\n",
      "- codebert.encoder.layer.2.attention.output.dense.weight: torch.Size([768, 768])\n",
      "- codebert.encoder.layer.2.attention.output.dense.bias: torch.Size([768])\n",
      "- codebert.encoder.layer.2.attention.output.LayerNorm.weight: torch.Size([768])\n",
      "- codebert.encoder.layer.2.attention.output.LayerNorm.bias: torch.Size([768])\n",
      "- codebert.encoder.layer.2.intermediate.dense.weight: torch.Size([3072, 768])\n",
      "- codebert.encoder.layer.2.intermediate.dense.bias: torch.Size([3072])\n",
      "- codebert.encoder.layer.2.output.dense.weight: torch.Size([768, 3072])\n",
      "- codebert.encoder.layer.2.output.dense.bias: torch.Size([768])\n",
      "- codebert.encoder.layer.2.output.LayerNorm.weight: torch.Size([768])\n",
      "- codebert.encoder.layer.2.output.LayerNorm.bias: torch.Size([768])\n",
      "- codebert.encoder.layer.3.attention.self.query.weight: torch.Size([768, 768])\n",
      "- codebert.encoder.layer.3.attention.self.query.bias: torch.Size([768])\n",
      "- codebert.encoder.layer.3.attention.self.key.weight: torch.Size([768, 768])\n",
      "- codebert.encoder.layer.3.attention.self.key.bias: torch.Size([768])\n",
      "- codebert.encoder.layer.3.attention.self.value.weight: torch.Size([768, 768])\n",
      "- codebert.encoder.layer.3.attention.self.value.bias: torch.Size([768])\n",
      "- codebert.encoder.layer.3.attention.output.dense.weight: torch.Size([768, 768])\n",
      "- codebert.encoder.layer.3.attention.output.dense.bias: torch.Size([768])\n",
      "- codebert.encoder.layer.3.attention.output.LayerNorm.weight: torch.Size([768])\n",
      "- codebert.encoder.layer.3.attention.output.LayerNorm.bias: torch.Size([768])\n",
      "- codebert.encoder.layer.3.intermediate.dense.weight: torch.Size([3072, 768])\n",
      "- codebert.encoder.layer.3.intermediate.dense.bias: torch.Size([3072])\n",
      "- codebert.encoder.layer.3.output.dense.weight: torch.Size([768, 3072])\n",
      "- codebert.encoder.layer.3.output.dense.bias: torch.Size([768])\n",
      "- codebert.encoder.layer.3.output.LayerNorm.weight: torch.Size([768])\n",
      "- codebert.encoder.layer.3.output.LayerNorm.bias: torch.Size([768])\n",
      "- codebert.encoder.layer.4.attention.self.query.weight: torch.Size([768, 768])\n",
      "- codebert.encoder.layer.4.attention.self.query.bias: torch.Size([768])\n",
      "- codebert.encoder.layer.4.attention.self.key.weight: torch.Size([768, 768])\n",
      "- codebert.encoder.layer.4.attention.self.key.bias: torch.Size([768])\n",
      "- codebert.encoder.layer.4.attention.self.value.weight: torch.Size([768, 768])\n",
      "- codebert.encoder.layer.4.attention.self.value.bias: torch.Size([768])\n",
      "- codebert.encoder.layer.4.attention.output.dense.weight: torch.Size([768, 768])\n",
      "- codebert.encoder.layer.4.attention.output.dense.bias: torch.Size([768])\n",
      "- codebert.encoder.layer.4.attention.output.LayerNorm.weight: torch.Size([768])\n",
      "- codebert.encoder.layer.4.attention.output.LayerNorm.bias: torch.Size([768])\n",
      "- codebert.encoder.layer.4.intermediate.dense.weight: torch.Size([3072, 768])\n",
      "- codebert.encoder.layer.4.intermediate.dense.bias: torch.Size([3072])\n",
      "- codebert.encoder.layer.4.output.dense.weight: torch.Size([768, 3072])\n",
      "- codebert.encoder.layer.4.output.dense.bias: torch.Size([768])\n",
      "- codebert.encoder.layer.4.output.LayerNorm.weight: torch.Size([768])\n",
      "- codebert.encoder.layer.4.output.LayerNorm.bias: torch.Size([768])\n",
      "- codebert.encoder.layer.5.attention.self.query.weight: torch.Size([768, 768])\n",
      "- codebert.encoder.layer.5.attention.self.query.bias: torch.Size([768])\n",
      "- codebert.encoder.layer.5.attention.self.key.weight: torch.Size([768, 768])\n",
      "- codebert.encoder.layer.5.attention.self.key.bias: torch.Size([768])\n",
      "- codebert.encoder.layer.5.attention.self.value.weight: torch.Size([768, 768])\n",
      "- codebert.encoder.layer.5.attention.self.value.bias: torch.Size([768])\n",
      "- codebert.encoder.layer.5.attention.output.dense.weight: torch.Size([768, 768])\n",
      "- codebert.encoder.layer.5.attention.output.dense.bias: torch.Size([768])\n",
      "- codebert.encoder.layer.5.attention.output.LayerNorm.weight: torch.Size([768])\n",
      "- codebert.encoder.layer.5.attention.output.LayerNorm.bias: torch.Size([768])\n",
      "- codebert.encoder.layer.5.intermediate.dense.weight: torch.Size([3072, 768])\n",
      "- codebert.encoder.layer.5.intermediate.dense.bias: torch.Size([3072])\n",
      "- codebert.encoder.layer.5.output.dense.weight: torch.Size([768, 3072])\n",
      "- codebert.encoder.layer.5.output.dense.bias: torch.Size([768])\n",
      "- codebert.encoder.layer.5.output.LayerNorm.weight: torch.Size([768])\n",
      "- codebert.encoder.layer.5.output.LayerNorm.bias: torch.Size([768])\n",
      "- codebert.encoder.layer.6.attention.self.query.weight: torch.Size([768, 768])\n",
      "- codebert.encoder.layer.6.attention.self.query.bias: torch.Size([768])\n",
      "- codebert.encoder.layer.6.attention.self.key.weight: torch.Size([768, 768])\n",
      "- codebert.encoder.layer.6.attention.self.key.bias: torch.Size([768])\n",
      "- codebert.encoder.layer.6.attention.self.value.weight: torch.Size([768, 768])\n",
      "- codebert.encoder.layer.6.attention.self.value.bias: torch.Size([768])\n",
      "- codebert.encoder.layer.6.attention.output.dense.weight: torch.Size([768, 768])\n",
      "- codebert.encoder.layer.6.attention.output.dense.bias: torch.Size([768])\n",
      "- codebert.encoder.layer.6.attention.output.LayerNorm.weight: torch.Size([768])\n",
      "- codebert.encoder.layer.6.attention.output.LayerNorm.bias: torch.Size([768])\n",
      "- codebert.encoder.layer.6.intermediate.dense.weight: torch.Size([3072, 768])\n",
      "- codebert.encoder.layer.6.intermediate.dense.bias: torch.Size([3072])\n",
      "- codebert.encoder.layer.6.output.dense.weight: torch.Size([768, 3072])\n",
      "- codebert.encoder.layer.6.output.dense.bias: torch.Size([768])\n",
      "- codebert.encoder.layer.6.output.LayerNorm.weight: torch.Size([768])\n",
      "- codebert.encoder.layer.6.output.LayerNorm.bias: torch.Size([768])\n",
      "- codebert.encoder.layer.7.attention.self.query.weight: torch.Size([768, 768])\n",
      "- codebert.encoder.layer.7.attention.self.query.bias: torch.Size([768])\n",
      "- codebert.encoder.layer.7.attention.self.key.weight: torch.Size([768, 768])\n",
      "- codebert.encoder.layer.7.attention.self.key.bias: torch.Size([768])\n",
      "- codebert.encoder.layer.7.attention.self.value.weight: torch.Size([768, 768])\n",
      "- codebert.encoder.layer.7.attention.self.value.bias: torch.Size([768])\n",
      "- codebert.encoder.layer.7.attention.output.dense.weight: torch.Size([768, 768])\n",
      "- codebert.encoder.layer.7.attention.output.dense.bias: torch.Size([768])\n",
      "- codebert.encoder.layer.7.attention.output.LayerNorm.weight: torch.Size([768])\n",
      "- codebert.encoder.layer.7.attention.output.LayerNorm.bias: torch.Size([768])\n",
      "- codebert.encoder.layer.7.intermediate.dense.weight: torch.Size([3072, 768])\n",
      "- codebert.encoder.layer.7.intermediate.dense.bias: torch.Size([3072])\n",
      "- codebert.encoder.layer.7.output.dense.weight: torch.Size([768, 3072])\n",
      "- codebert.encoder.layer.7.output.dense.bias: torch.Size([768])\n",
      "- codebert.encoder.layer.7.output.LayerNorm.weight: torch.Size([768])\n",
      "- codebert.encoder.layer.7.output.LayerNorm.bias: torch.Size([768])\n",
      "- codebert.encoder.layer.8.attention.self.query.weight: torch.Size([768, 768])\n",
      "- codebert.encoder.layer.8.attention.self.query.bias: torch.Size([768])\n",
      "- codebert.encoder.layer.8.attention.self.key.weight: torch.Size([768, 768])\n",
      "- codebert.encoder.layer.8.attention.self.key.bias: torch.Size([768])\n",
      "- codebert.encoder.layer.8.attention.self.value.weight: torch.Size([768, 768])\n",
      "- codebert.encoder.layer.8.attention.self.value.bias: torch.Size([768])\n",
      "- codebert.encoder.layer.8.attention.output.dense.weight: torch.Size([768, 768])\n",
      "- codebert.encoder.layer.8.attention.output.dense.bias: torch.Size([768])\n",
      "- codebert.encoder.layer.8.attention.output.LayerNorm.weight: torch.Size([768])\n",
      "- codebert.encoder.layer.8.attention.output.LayerNorm.bias: torch.Size([768])\n",
      "- codebert.encoder.layer.8.intermediate.dense.weight: torch.Size([3072, 768])\n",
      "- codebert.encoder.layer.8.intermediate.dense.bias: torch.Size([3072])\n",
      "- codebert.encoder.layer.8.output.dense.weight: torch.Size([768, 3072])\n",
      "- codebert.encoder.layer.8.output.dense.bias: torch.Size([768])\n",
      "- codebert.encoder.layer.8.output.LayerNorm.weight: torch.Size([768])\n",
      "- codebert.encoder.layer.8.output.LayerNorm.bias: torch.Size([768])\n",
      "- codebert.encoder.layer.9.attention.self.query.weight: torch.Size([768, 768])\n",
      "- codebert.encoder.layer.9.attention.self.query.bias: torch.Size([768])\n",
      "- codebert.encoder.layer.9.attention.self.key.weight: torch.Size([768, 768])\n",
      "- codebert.encoder.layer.9.attention.self.key.bias: torch.Size([768])\n",
      "- codebert.encoder.layer.9.attention.self.value.weight: torch.Size([768, 768])\n",
      "- codebert.encoder.layer.9.attention.self.value.bias: torch.Size([768])\n",
      "- codebert.encoder.layer.9.attention.output.dense.weight: torch.Size([768, 768])\n",
      "- codebert.encoder.layer.9.attention.output.dense.bias: torch.Size([768])\n",
      "- codebert.encoder.layer.9.attention.output.LayerNorm.weight: torch.Size([768])\n",
      "- codebert.encoder.layer.9.attention.output.LayerNorm.bias: torch.Size([768])\n",
      "- codebert.encoder.layer.9.intermediate.dense.weight: torch.Size([3072, 768])\n",
      "- codebert.encoder.layer.9.intermediate.dense.bias: torch.Size([3072])\n",
      "- codebert.encoder.layer.9.output.dense.weight: torch.Size([768, 3072])\n",
      "- codebert.encoder.layer.9.output.dense.bias: torch.Size([768])\n",
      "- codebert.encoder.layer.9.output.LayerNorm.weight: torch.Size([768])\n",
      "- codebert.encoder.layer.9.output.LayerNorm.bias: torch.Size([768])\n",
      "- codebert.encoder.layer.10.attention.self.query.weight: torch.Size([768, 768])\n",
      "- codebert.encoder.layer.10.attention.self.query.bias: torch.Size([768])\n",
      "- codebert.encoder.layer.10.attention.self.key.weight: torch.Size([768, 768])\n",
      "- codebert.encoder.layer.10.attention.self.key.bias: torch.Size([768])\n",
      "- codebert.encoder.layer.10.attention.self.value.weight: torch.Size([768, 768])\n",
      "- codebert.encoder.layer.10.attention.self.value.bias: torch.Size([768])\n",
      "- codebert.encoder.layer.10.attention.output.dense.weight: torch.Size([768, 768])\n",
      "- codebert.encoder.layer.10.attention.output.dense.bias: torch.Size([768])\n",
      "- codebert.encoder.layer.10.attention.output.LayerNorm.weight: torch.Size([768])\n",
      "- codebert.encoder.layer.10.attention.output.LayerNorm.bias: torch.Size([768])\n",
      "- codebert.encoder.layer.10.intermediate.dense.weight: torch.Size([3072, 768])\n",
      "- codebert.encoder.layer.10.intermediate.dense.bias: torch.Size([3072])\n",
      "- codebert.encoder.layer.10.output.dense.weight: torch.Size([768, 3072])\n",
      "- codebert.encoder.layer.10.output.dense.bias: torch.Size([768])\n",
      "- codebert.encoder.layer.10.output.LayerNorm.weight: torch.Size([768])\n",
      "- codebert.encoder.layer.10.output.LayerNorm.bias: torch.Size([768])\n",
      "- codebert.encoder.layer.11.attention.self.query.weight: torch.Size([768, 768])\n",
      "- codebert.encoder.layer.11.attention.self.query.bias: torch.Size([768])\n",
      "- codebert.encoder.layer.11.attention.self.key.weight: torch.Size([768, 768])\n",
      "- codebert.encoder.layer.11.attention.self.key.bias: torch.Size([768])\n",
      "- codebert.encoder.layer.11.attention.self.value.weight: torch.Size([768, 768])\n",
      "- codebert.encoder.layer.11.attention.self.value.bias: torch.Size([768])\n",
      "- codebert.encoder.layer.11.attention.output.dense.weight: torch.Size([768, 768])\n",
      "- codebert.encoder.layer.11.attention.output.dense.bias: torch.Size([768])\n",
      "- codebert.encoder.layer.11.attention.output.LayerNorm.weight: torch.Size([768])\n",
      "- codebert.encoder.layer.11.attention.output.LayerNorm.bias: torch.Size([768])\n",
      "- codebert.encoder.layer.11.intermediate.dense.weight: torch.Size([3072, 768])\n",
      "- codebert.encoder.layer.11.intermediate.dense.bias: torch.Size([3072])\n",
      "- codebert.encoder.layer.11.output.dense.weight: torch.Size([768, 3072])\n",
      "- codebert.encoder.layer.11.output.dense.bias: torch.Size([768])\n",
      "- codebert.encoder.layer.11.output.LayerNorm.weight: torch.Size([768])\n",
      "- codebert.encoder.layer.11.output.LayerNorm.bias: torch.Size([768])\n",
      "- codebert.pooler.dense.weight: torch.Size([768, 768])\n",
      "- codebert.pooler.dense.bias: torch.Size([768])\n",
      "- transformer.transformer.self_attn.in_proj_weight: torch.Size([2304, 768])\n",
      "- transformer.transformer.self_attn.in_proj_bias: torch.Size([2304])\n",
      "- transformer.transformer.self_attn.out_proj.weight: torch.Size([768, 768])\n",
      "- transformer.transformer.self_attn.out_proj.bias: torch.Size([768])\n",
      "- transformer.transformer.linear1.weight: torch.Size([768, 768])\n",
      "- transformer.transformer.linear1.bias: torch.Size([768])\n",
      "- transformer.transformer.linear2.weight: torch.Size([768, 768])\n",
      "- transformer.transformer.linear2.bias: torch.Size([768])\n",
      "- transformer.transformer.norm1.weight: torch.Size([768])\n",
      "- transformer.transformer.norm1.bias: torch.Size([768])\n",
      "- transformer.transformer.norm2.weight: torch.Size([768])\n",
      "- transformer.transformer.norm2.bias: torch.Size([768])\n",
      "- transformer.layer_norm.weight: torch.Size([768])\n",
      "- transformer.layer_norm.bias: torch.Size([768])\n",
      "- generator.main.0.weight: torch.Size([512, 768])\n",
      "- generator.main.0.bias: torch.Size([512])\n",
      "- generator.main.1.weight: torch.Size([512])\n",
      "- generator.main.1.bias: torch.Size([512])\n",
      "- generator.main.3.weight: torch.Size([256, 512])\n",
      "- generator.main.3.bias: torch.Size([256])\n",
      "- generator.main.4.weight: torch.Size([256])\n",
      "- generator.main.4.bias: torch.Size([256])\n",
      "- generator.main.6.weight: torch.Size([768, 256])\n",
      "- generator.main.6.bias: torch.Size([768])\n",
      "- discriminator.main.0.weight: torch.Size([512, 768])\n",
      "- discriminator.main.0.bias: torch.Size([512])\n",
      "- discriminator.main.1.weight: torch.Size([512])\n",
      "- discriminator.main.1.bias: torch.Size([512])\n",
      "- discriminator.main.4.weight: torch.Size([256, 512])\n",
      "- discriminator.main.4.bias: torch.Size([256])\n",
      "- discriminator.main.5.weight: torch.Size([256])\n",
      "- discriminator.main.5.bias: torch.Size([256])\n",
      "- discriminator.main.8.weight: torch.Size([1, 256])\n",
      "- discriminator.main.8.bias: torch.Size([1])\n",
      "- decoder.pos_encoder: torch.Size([1, 512, 768])\n",
      "- decoder.decoder.layers.0.self_attn.in_proj_weight: torch.Size([2304, 768])\n",
      "- decoder.decoder.layers.0.self_attn.in_proj_bias: torch.Size([2304])\n",
      "- decoder.decoder.layers.0.self_attn.out_proj.weight: torch.Size([768, 768])\n",
      "- decoder.decoder.layers.0.self_attn.out_proj.bias: torch.Size([768])\n",
      "- decoder.decoder.layers.0.multihead_attn.in_proj_weight: torch.Size([2304, 768])\n",
      "- decoder.decoder.layers.0.multihead_attn.in_proj_bias: torch.Size([2304])\n",
      "- decoder.decoder.layers.0.multihead_attn.out_proj.weight: torch.Size([768, 768])\n",
      "- decoder.decoder.layers.0.multihead_attn.out_proj.bias: torch.Size([768])\n",
      "- decoder.decoder.layers.0.linear1.weight: torch.Size([1536, 768])\n",
      "- decoder.decoder.layers.0.linear1.bias: torch.Size([1536])\n",
      "- decoder.decoder.layers.0.linear2.weight: torch.Size([768, 1536])\n",
      "- decoder.decoder.layers.0.linear2.bias: torch.Size([768])\n",
      "- decoder.decoder.layers.0.norm1.weight: torch.Size([768])\n",
      "- decoder.decoder.layers.0.norm1.bias: torch.Size([768])\n",
      "- decoder.decoder.layers.0.norm2.weight: torch.Size([768])\n",
      "- decoder.decoder.layers.0.norm2.bias: torch.Size([768])\n",
      "- decoder.decoder.layers.0.norm3.weight: torch.Size([768])\n",
      "- decoder.decoder.layers.0.norm3.bias: torch.Size([768])\n",
      "- decoder.decoder.layers.1.self_attn.in_proj_weight: torch.Size([2304, 768])\n",
      "- decoder.decoder.layers.1.self_attn.in_proj_bias: torch.Size([2304])\n",
      "- decoder.decoder.layers.1.self_attn.out_proj.weight: torch.Size([768, 768])\n",
      "- decoder.decoder.layers.1.self_attn.out_proj.bias: torch.Size([768])\n",
      "- decoder.decoder.layers.1.multihead_attn.in_proj_weight: torch.Size([2304, 768])\n",
      "- decoder.decoder.layers.1.multihead_attn.in_proj_bias: torch.Size([2304])\n",
      "- decoder.decoder.layers.1.multihead_attn.out_proj.weight: torch.Size([768, 768])\n",
      "- decoder.decoder.layers.1.multihead_attn.out_proj.bias: torch.Size([768])\n",
      "- decoder.decoder.layers.1.linear1.weight: torch.Size([1536, 768])\n",
      "- decoder.decoder.layers.1.linear1.bias: torch.Size([1536])\n",
      "- decoder.decoder.layers.1.linear2.weight: torch.Size([768, 1536])\n",
      "- decoder.decoder.layers.1.linear2.bias: torch.Size([768])\n",
      "- decoder.decoder.layers.1.norm1.weight: torch.Size([768])\n",
      "- decoder.decoder.layers.1.norm1.bias: torch.Size([768])\n",
      "- decoder.decoder.layers.1.norm2.weight: torch.Size([768])\n",
      "- decoder.decoder.layers.1.norm2.bias: torch.Size([768])\n",
      "- decoder.decoder.layers.1.norm3.weight: torch.Size([768])\n",
      "- decoder.decoder.layers.1.norm3.bias: torch.Size([768])\n",
      "- decoder.decoder.layers.2.self_attn.in_proj_weight: torch.Size([2304, 768])\n",
      "- decoder.decoder.layers.2.self_attn.in_proj_bias: torch.Size([2304])\n",
      "- decoder.decoder.layers.2.self_attn.out_proj.weight: torch.Size([768, 768])\n",
      "- decoder.decoder.layers.2.self_attn.out_proj.bias: torch.Size([768])\n",
      "- decoder.decoder.layers.2.multihead_attn.in_proj_weight: torch.Size([2304, 768])\n",
      "- decoder.decoder.layers.2.multihead_attn.in_proj_bias: torch.Size([2304])\n",
      "- decoder.decoder.layers.2.multihead_attn.out_proj.weight: torch.Size([768, 768])\n",
      "- decoder.decoder.layers.2.multihead_attn.out_proj.bias: torch.Size([768])\n",
      "- decoder.decoder.layers.2.linear1.weight: torch.Size([1536, 768])\n",
      "- decoder.decoder.layers.2.linear1.bias: torch.Size([1536])\n",
      "- decoder.decoder.layers.2.linear2.weight: torch.Size([768, 1536])\n",
      "- decoder.decoder.layers.2.linear2.bias: torch.Size([768])\n",
      "- decoder.decoder.layers.2.norm1.weight: torch.Size([768])\n",
      "- decoder.decoder.layers.2.norm1.bias: torch.Size([768])\n",
      "- decoder.decoder.layers.2.norm2.weight: torch.Size([768])\n",
      "- decoder.decoder.layers.2.norm2.bias: torch.Size([768])\n",
      "- decoder.decoder.layers.2.norm3.weight: torch.Size([768])\n",
      "- decoder.decoder.layers.2.norm3.bias: torch.Size([768])\n",
      "- decoder.embedding.weight: torch.Size([50000, 768])\n",
      "- decoder.output_layer.weight: torch.Size([50000, 768])\n",
      "- decoder.output_layer.bias: torch.Size([50000])\n"
     ]
    }
   ],
   "source": [
    "print(\"\\nParameter Shapes:\")\n",
    "for name, param in model.named_parameters():\n",
    "    print(f\"- {name}: {param.shape}\")"
   ]
  },
  {
   "cell_type": "code",
   "execution_count": 21,
   "id": "e4c1baab-ba74-4351-ad40-73e789233402",
   "metadata": {},
   "outputs": [
    {
     "name": "stdout",
     "output_type": "stream",
     "text": [
      "\n",
      "Model Configuration:\n",
      "- d_model: N/A\n",
      "- vocab_size: 50000\n",
      "- max_length: 512\n"
     ]
    }
   ],
   "source": [
    "print(\"\\nModel Configuration:\")\n",
    "print(f\"- d_model: {model.d_model if hasattr(model, 'd_model') else 'N/A'}\")\n",
    "print(f\"- vocab_size: {model.decoder.vocab_size if hasattr(model, 'decoder') else 'N/A'}\")\n",
    "print(f\"- max_length: {model.decoder.max_length if hasattr(model, 'decoder') else 'N/A'}\")"
   ]
  },
  {
   "cell_type": "code",
   "execution_count": 22,
   "id": "e7fe1a1c-e84e-4c4c-a0dd-584d27020773",
   "metadata": {},
   "outputs": [
    {
     "name": "stdout",
     "output_type": "stream",
     "text": [
      "\n",
      "Generator Architecture:\n"
     ]
    },
    {
     "ename": "AttributeError",
     "evalue": "'SmartContractVulnerabilityGAN' object has no attribute 'CodeDecoder'",
     "output_type": "error",
     "traceback": [
      "\u001b[31m---------------------------------------------------------------------------\u001b[39m",
      "\u001b[31mAttributeError\u001b[39m                            Traceback (most recent call last)",
      "\u001b[36mCell\u001b[39m\u001b[36m \u001b[39m\u001b[32mIn[22]\u001b[39m\u001b[32m, line 3\u001b[39m\n\u001b[32m      1\u001b[39m \u001b[38;5;28;01mif\u001b[39;00m \u001b[38;5;28mhasattr\u001b[39m(model, \u001b[33m'\u001b[39m\u001b[33mgenerator\u001b[39m\u001b[33m'\u001b[39m):\n\u001b[32m      2\u001b[39m     \u001b[38;5;28mprint\u001b[39m(\u001b[33m\"\u001b[39m\u001b[38;5;130;01m\\n\u001b[39;00m\u001b[33mGenerator Architecture:\u001b[39m\u001b[33m\"\u001b[39m)\n\u001b[32m----> \u001b[39m\u001b[32m3\u001b[39m     \u001b[38;5;28mprint\u001b[39m(\u001b[43mmodel\u001b[49m\u001b[43m.\u001b[49m\u001b[43mCodeDecoder\u001b[49m)\n",
      "\u001b[36mFile \u001b[39m\u001b[32m~/pytorch_env/lib/python3.11/site-packages/torch/nn/modules/module.py:1688\u001b[39m, in \u001b[36mModule.__getattr__\u001b[39m\u001b[34m(self, name)\u001b[39m\n\u001b[32m   1686\u001b[39m     \u001b[38;5;28;01mif\u001b[39;00m name \u001b[38;5;129;01min\u001b[39;00m modules:\n\u001b[32m   1687\u001b[39m         \u001b[38;5;28;01mreturn\u001b[39;00m modules[name]\n\u001b[32m-> \u001b[39m\u001b[32m1688\u001b[39m \u001b[38;5;28;01mraise\u001b[39;00m \u001b[38;5;167;01mAttributeError\u001b[39;00m(\u001b[33mf\u001b[39m\u001b[33m\"\u001b[39m\u001b[33m'\u001b[39m\u001b[38;5;132;01m{\u001b[39;00m\u001b[38;5;28mtype\u001b[39m(\u001b[38;5;28mself\u001b[39m).\u001b[34m__name__\u001b[39m\u001b[38;5;132;01m}\u001b[39;00m\u001b[33m'\u001b[39m\u001b[33m object has no attribute \u001b[39m\u001b[33m'\u001b[39m\u001b[38;5;132;01m{\u001b[39;00mname\u001b[38;5;132;01m}\u001b[39;00m\u001b[33m'\u001b[39m\u001b[33m\"\u001b[39m)\n",
      "\u001b[31mAttributeError\u001b[39m: 'SmartContractVulnerabilityGAN' object has no attribute 'CodeDecoder'"
     ]
    }
   ],
   "source": [
    "if hasattr(model, 'generator'):\n",
    "    print(\"\\nGenerator Architecture:\")\n",
    "    print(model.CodeDecoder)"
   ]
  },
  {
   "cell_type": "markdown",
   "id": "bbeeee1b-7d47-43c7-b359-156adc04026c",
   "metadata": {},
   "source": [
    "### This is a GAN (Generative Adversarial Network) combined with a Transformer architecture for smart contract vulnerability detection.\n",
    "\n",
    "#### Here's the technical breakdown:\n",
    "#### 1. Architecture Components:\n",
    "-Transformer Encoder: Processes smart contract code using self-attention\n",
    "-Generator: Creates synthetic vulnerable code patterns\n",
    "-Discriminator: Distinguishes between real and synthetic vulnerabilities\n",
    "\n",
    "#### 2. Input Processing:\n",
    "-Takes smart contract code and its AST (Abstract Syntax Tree) paths\n",
    "-Uses CodeBERT to generate embeddings (768-dimensional vectors)\n",
    "-Processes both contract code and path information\n",
    "\n",
    "#### 3. Training Process:\n",
    "3.1. Generator Training:\n",
    "-Takes random noise and contract embeddings\n",
    "-Generates synthetic vulnerable code patterns\n",
    "-Tries to fool the discriminator\n",
    "\n",
    "3.2. Discriminator Training:\n",
    "-Takes real contract embeddings and generator outputs\n",
    "-Learns to distinguish real from synthetic vulnerabilities\n",
    "-Uses binary classification (real/fake)\n",
    "\n",
    "#### 4. Output:\n",
    "-Vulnerability scores for input contracts\n",
    "-Synthetic vulnerable code patterns for training\n",
    "-Binary classification of real vs. synthetic vulnerabilities\n",
    "\n",
    "#### The model essentially learns to:\n",
    "-Understand code patterns through the transformer\n",
    "-Generate realistic vulnerable code examples\n",
    "-Detect vulnerabilities in real contracts\n",
    "-Improve detection through adversarial training\n",
    "\n",
    "#### This approach combines the strengths of:\n",
    "Transformers for code understanding\n",
    "GANs for synthetic data generation\n",
    "Binary classification for vulnerability detection"
   ]
  },
  {
   "cell_type": "markdown",
   "id": "ec7bafd2-5e74-4e56-ad5f-2de3d7c88431",
   "metadata": {},
   "source": [
    "# 3. Usage:"
   ]
  },
  {
   "cell_type": "code",
   "execution_count": 27,
   "id": "f9a39804-39cc-434c-9387-0aaffb46e1e0",
   "metadata": {},
   "outputs": [
    {
     "ename": "AttributeError",
     "evalue": "'SmartContractTrainer' object has no attribute 'predict'",
     "output_type": "error",
     "traceback": [
      "\u001b[31m---------------------------------------------------------------------------\u001b[39m",
      "\u001b[31mAttributeError\u001b[39m                            Traceback (most recent call last)",
      "\u001b[36mCell\u001b[39m\u001b[36m \u001b[39m\u001b[32mIn[27]\u001b[39m\u001b[32m, line 2\u001b[39m\n\u001b[32m      1\u001b[39m \u001b[38;5;66;03m# For a single contract\u001b[39;00m\n\u001b[32m----> \u001b[39m\u001b[32m2\u001b[39m results = \u001b[43mtrainer\u001b[49m\u001b[43m.\u001b[49m\u001b[43mpredict\u001b[49m(validation_dataset[\u001b[32m0\u001b[39m])  \u001b[38;5;66;03m# Pass a single contract's data\u001b[39;00m\n\u001b[32m      4\u001b[39m \u001b[38;5;28mprint\u001b[39m(\u001b[33mf\u001b[39m\u001b[33m\"\u001b[39m\u001b[33mVulnerability Score: \u001b[39m\u001b[38;5;132;01m{\u001b[39;00mresults[\u001b[33m'\u001b[39m\u001b[33mvulnerability_score\u001b[39m\u001b[33m'\u001b[39m]\u001b[38;5;132;01m:\u001b[39;00m\u001b[33m.4f\u001b[39m\u001b[38;5;132;01m}\u001b[39;00m\u001b[33m\"\u001b[39m)\n\u001b[32m      5\u001b[39m \u001b[38;5;28mprint\u001b[39m(\u001b[33mf\u001b[39m\u001b[33m\"\u001b[39m\u001b[33mSynthetic Score: \u001b[39m\u001b[38;5;132;01m{\u001b[39;00mresults[\u001b[33m'\u001b[39m\u001b[33msynthetic_score\u001b[39m\u001b[33m'\u001b[39m]\u001b[38;5;132;01m:\u001b[39;00m\u001b[33m.4f\u001b[39m\u001b[38;5;132;01m}\u001b[39;00m\u001b[33m\"\u001b[39m)\n",
      "\u001b[31mAttributeError\u001b[39m: 'SmartContractTrainer' object has no attribute 'predict'"
     ]
    }
   ],
   "source": [
    "# For a single contract\n",
    "results = trainer.predict(validation_dataset[0])  # Pass a single contract's data\n",
    "\n",
    "print(f\"Vulnerability Score: {results['vulnerability_score']:.4f}\")\n",
    "print(f\"Synthetic Score: {results['synthetic_score']:.4f}\")\n",
    "print(f\"Is Vulnerable: {results['is_vulnerable']}\")\n",
    "print(f\"Is Synthetic: {results['is_synthetic']}\")"
   ]
  },
  {
   "cell_type": "code",
   "execution_count": null,
   "id": "1b71c6de-dd38-4a48-9d16-dc9fa7b1966e",
   "metadata": {},
   "outputs": [],
   "source": []
  },
  {
   "cell_type": "code",
   "execution_count": 44,
   "id": "0523c01a-e501-427d-8e76-23a25e6f5210",
   "metadata": {},
   "outputs": [],
   "source": [
    "import torch\n",
    "from model import SmartContractTransformer\n",
    "from train import Discriminator\n",
    "\n",
    "def load_trained_model(checkpoint_path, device='cuda:1'):\n",
    "    \"\"\"\n",
    "    Load the trained model and discriminator from checkpoint\n",
    "    \"\"\"\n",
    "    # Initialize model and discriminator\n",
    "    model = SmartContractTransformer()\n",
    "    discriminator = Discriminator()\n",
    "    \n",
    "    # Load checkpoint\n",
    "    checkpoint = torch.load(checkpoint_path, map_location=device)\n",
    "    \n",
    "    # Load state dicts\n",
    "    model.load_state_dict(checkpoint['model_state_dict'])\n",
    "    discriminator.load_state_dict(checkpoint['discriminator_state_dict'])\n",
    "    \n",
    "    # Move to device\n",
    "    model = model.to(device)\n",
    "    discriminator = discriminator.to(device)\n",
    "    \n",
    "    # Set to eval mode\n",
    "    model.eval()\n",
    "    discriminator.eval()\n",
    "    \n",
    "    return model, discriminator\n",
    "\n",
    "def analyze_contract(contract_data, model, discriminator, tokenizer=None, device='cuda:1'):\n",
    "    \"\"\"\n",
    "    Analyze a smart contract for vulnerabilities and generate synthetic version\n",
    "    \"\"\"\n",
    "    # Move input data to device\n",
    "    input_ids = contract_data['input_ids'].unsqueeze(0).to(device)\n",
    "    attention_mask = contract_data['attention_mask'].unsqueeze(0).to(device)\n",
    "    path_input_ids = contract_data['path_input_ids'].unsqueeze(0).to(device)\n",
    "    path_attention_mask = contract_data['path_attention_mask'].unsqueeze(0).to(device)\n",
    "    \n",
    "    # Decode original contract if tokenizer is provided\n",
    "    original_text = None\n",
    "    if tokenizer is not None:\n",
    "        original_text = tokenizer.decode(input_ids[0].cpu().tolist())\n",
    "    \n",
    "    with torch.no_grad():\n",
    "        # Get vulnerability score\n",
    "        outputs = model(\n",
    "            input_ids=input_ids,\n",
    "            attention_mask=attention_mask,\n",
    "            path_input_ids=path_input_ids,\n",
    "            path_attention_mask=path_attention_mask,\n",
    "            target_ids=None\n",
    "        )\n",
    "        \n",
    "        # Get discriminator predictions\n",
    "        vuln_pred, synth_pred = discriminator(outputs['encoder_output'])\n",
    "        vulnerability_score = torch.sigmoid(vuln_pred).item()\n",
    "        synthetic_score = torch.sigmoid(synth_pred).item()\n",
    "        \n",
    "        result = {\n",
    "            'vulnerability_score': vulnerability_score,\n",
    "            'synthetic_score': synthetic_score,\n",
    "            'is_vulnerable': vulnerability_score > 0.5,\n",
    "            'is_synthetic': synthetic_score > 0.5,\n",
    "            'original_contract': {\n",
    "                'text': original_text,\n",
    "                'input_ids': input_ids[0].cpu().tolist()\n",
    "            }\n",
    "        }\n",
    "        \n",
    "        # Generate synthetic contract\n",
    "        synthetic_outputs = model(\n",
    "            input_ids=input_ids,\n",
    "            attention_mask=attention_mask,\n",
    "            path_input_ids=path_input_ids,\n",
    "            path_attention_mask=path_attention_mask,\n",
    "            target_ids=None\n",
    "        )\n",
    "        \n",
    "        # Get the generated sequence\n",
    "        generated_sequence = synthetic_outputs['generated_sequence']\n",
    "        \n",
    "        # Get discriminator predictions for synthetic contract\n",
    "        synth_vuln_pred, synth_synth_pred = discriminator(synthetic_outputs['encoder_output'])\n",
    "        synth_vulnerability_score = torch.sigmoid(synth_vuln_pred).item()\n",
    "        synth_synthetic_score = torch.sigmoid(synth_synth_pred).item()\n",
    "        \n",
    "        result['synthetic_contract'] = {\n",
    "            'sequence': generated_sequence[0].cpu().tolist(),\n",
    "            'vulnerability_score': synth_vulnerability_score,\n",
    "            'synthetic_score': synth_synthetic_score,\n",
    "            'is_vulnerable': synth_vulnerability_score > 0.5,\n",
    "            'is_synthetic': synth_synthetic_score > 0.5\n",
    "        }\n",
    "        \n",
    "        # If tokenizer is provided, decode the synthetic contract\n",
    "        if tokenizer is not None:\n",
    "            synthetic_tokens = result['synthetic_contract']['sequence']\n",
    "            result['synthetic_contract']['text'] = tokenizer.decode(synthetic_tokens)\n",
    "        \n",
    "        return result\n"
   ]
  },
  {
   "cell_type": "code",
   "execution_count": 45,
   "id": "d10b5e58-9742-416c-9cd8-38089f60f7a4",
   "metadata": {},
   "outputs": [],
   "source": [
    "# Load the trained model\n",
    "checkpoint_path = 'checkpoints_v1/latest_model.pt'  # or 'best_model_epoch_X.pt'\n",
    "model_loaded, discriminator = load_trained_model(checkpoint_path)"
   ]
  },
  {
   "cell_type": "code",
   "execution_count": 58,
   "id": "280ba2f6-c926-4fd4-bcd9-dd6720bb44ba",
   "metadata": {},
   "outputs": [],
   "source": [
    "contract_data = val_dataset[9]"
   ]
  },
  {
   "cell_type": "code",
   "execution_count": 59,
   "id": "530e0dbd-3fe7-4191-922e-d9fd9f1cf971",
   "metadata": {},
   "outputs": [
    {
     "name": "stdout",
     "output_type": "stream",
     "text": [
      "\n",
      "Contract Analysis Results:\n",
      "--------------------------------------------------\n",
      "Vulnerability Score: 0.0151\n",
      "Synthetic Score: 0.7673\n",
      "Vulnerability Status: Safe\n",
      "Synthetic Status: Synthetic\n",
      "\n",
      "Original Contract:\n",
      "--------------------------------------------------\n",
      "<s>/**\n",
      " *Submitted for verification at Etherscan.io on 2020-11-22\n",
      "*/\n",
      "\n",
      "// SPDX-License-Identifier: MIT + WTFPL\n",
      "// File: contracts/uniswapv2/interfaces/IUniswapV2Factory.sol\n",
      "\n",
      "pragma solidity >=0.5.0;\n",
      "\n",
      "interface IUniswapV2Factory {\n",
      "    event PairCreated(address indexed token0, address indexed token1, address pair, uint);\n",
      "\n",
      "    function feeTo() external view returns (address);\n",
      "    function feeToSetter() external view returns (address);\n",
      "    function migrator() external view returns (address);\n",
      "\n",
      "    function getPair(address tokenA, address tokenB) external view returns (address pair);\n",
      "    function allPairs(uint) external view returns (address pair);\n",
      "    function allPairsLength() external view returns (uint);\n",
      "\n",
      "    function createPair(address tokenA, address tokenB) external</s>\n",
      "\n",
      "Synthetic Contract Analysis:\n",
      "--------------------------------------------------\n",
      "Vulnerability Score: 0.0151\n",
      "Synthetic Score: 0.7673\n",
      "Vulnerability Status: Safe\n",
      "Synthetic Status: Synthetic\n",
      "\n",
      "Generated Synthetic Contract:\n",
      "--------------------------------------------------\n",
      "<s>/**\n",
      " *Submitted for verification at Etherscan.io on 2020-09-12\n",
      "*/\n",
      "\n",
      "pragma solidity 0.6.6;\n",
      "\n",
      "\n",
      "/**\n",
      " * @dev Wrappers over Solidity's arithmetic operations with added overflow\n",
      " * checks.\n",
      " *\n",
      " * Arithmetic operations in Solidity wrap on overflow. This can easily result\n",
      " * in bugs, because programmers usually assume that an overflow raises an\n",
      " * error, which is the standard behavior in high level programming languages.\n",
      " * `SafeMath` restores this intuition by reverting the transaction when an\n",
      " * operation overflows.\n",
      " *\n",
      " * Using this library instead of the unchecked operations eliminates an entire\n",
      " * class of bugs, so it's recommended to use it always.\n",
      " */\n",
      "library SafeMath {\n",
      "  /**\n",
      "    * @dev Returns the addition of two unsigned integers, reverting on\n",
      "    * overflow.\n",
      "    *\n",
      "    * Counterpart to Solidity's `+` operator.\n",
      "    *\n",
      "    * Requirements:\n",
      "    * - Addition cannot overflow.\n",
      "    */\n",
      "  function add(uint256 a, uint256 b</s>\n"
     ]
    }
   ],
   "source": [
    "# Analyze the contract\n",
    "results = analyze_contract(contract_data, model_loaded, discriminator, tokenizer)\n",
    "\n",
    "# Print results\n",
    "print(\"\\nContract Analysis Results:\")\n",
    "print(\"-\" * 50)\n",
    "print(f\"Vulnerability Score: {results['vulnerability_score']:.4f}\")\n",
    "print(f\"Synthetic Score: {results['synthetic_score']:.4f}\")\n",
    "print(f\"Vulnerability Status: {'Vulnerable' if results['is_vulnerable'] else 'Safe'}\")\n",
    "print(f\"Synthetic Status: {'Synthetic' if results['is_synthetic'] else 'Real'}\")\n",
    "\n",
    "# Print original contract\n",
    "if results['original_contract']['text']:\n",
    "    print(\"\\nOriginal Contract:\")\n",
    "    print(\"-\" * 50)\n",
    "    print(results['original_contract']['text'])\n",
    "    \n",
    "\n",
    "print(\"\\nSynthetic Contract Analysis:\")\n",
    "print(\"-\" * 50)\n",
    "print(f\"Vulnerability Score: {results['synthetic_contract']['vulnerability_score']:.4f}\")\n",
    "print(f\"Synthetic Score: {results['synthetic_contract']['synthetic_score']:.4f}\")\n",
    "print(f\"Vulnerability Status: {'Vulnerable' if results['synthetic_contract']['is_vulnerable'] else 'Safe'}\")\n",
    "print(f\"Synthetic Status: {'Synthetic' if results['synthetic_contract']['is_synthetic'] else 'Real'}\")\n",
    "\n",
    "if 'text' in results['synthetic_contract']:\n",
    "    print(\"\\nGenerated Synthetic Contract:\")\n",
    "    print(\"-\" * 50)\n",
    "    print(results['synthetic_contract']['text'])"
   ]
  },
  {
   "cell_type": "code",
   "execution_count": null,
   "id": "cdadd5d6-6f7d-4f52-8f69-b912bc30d5c4",
   "metadata": {},
   "outputs": [],
   "source": []
  },
  {
   "cell_type": "code",
   "execution_count": null,
   "id": "b5aee0c4-4061-4050-aed3-144a0c775e86",
   "metadata": {},
   "outputs": [],
   "source": []
  },
  {
   "cell_type": "code",
   "execution_count": null,
   "id": "385b59e7-1f96-49ad-8d2a-0485b2ff953f",
   "metadata": {},
   "outputs": [],
   "source": []
  },
  {
   "cell_type": "code",
   "execution_count": null,
   "id": "b0e94209-f5b9-4eea-bb24-2482d771a1b9",
   "metadata": {},
   "outputs": [],
   "source": []
  }
 ],
 "metadata": {
  "kernelspec": {
   "display_name": "Python (PyTorch)",
   "language": "python",
   "name": "pytorch_env"
  },
  "language_info": {
   "codemirror_mode": {
    "name": "ipython",
    "version": 3
   },
   "file_extension": ".py",
   "mimetype": "text/x-python",
   "name": "python",
   "nbconvert_exporter": "python",
   "pygments_lexer": "ipython3",
   "version": "3.11.2"
  }
 },
 "nbformat": 4,
 "nbformat_minor": 5
}
