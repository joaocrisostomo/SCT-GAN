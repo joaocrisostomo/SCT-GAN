{
 "cells": [
  {
   "cell_type": "code",
   "execution_count": 3,
   "id": "fe76acb0-8106-47a9-af12-45c8fef4f861",
   "metadata": {},
   "outputs": [],
   "source": [
    "#Dataset: https://github.com/sujeetc/ScrawlD/tree/main?tab=readme-ov-file"
   ]
  },
  {
   "cell_type": "code",
   "execution_count": 1,
   "id": "f44b837e-d0d8-4eb2-9342-880f3edc4076",
   "metadata": {},
   "outputs": [],
   "source": [
    "import pandas as pd\n",
    "import requests\n",
    "import json\n",
    "import os\n",
    "from time import sleep"
   ]
  },
  {
   "cell_type": "markdown",
   "id": "656c2e0c-9ff9-48e7-9e99-46b47500911a",
   "metadata": {},
   "source": [
    "# 1. Get Source Code from etherscan API:"
   ]
  },
  {
   "cell_type": "code",
   "execution_count": 2,
   "id": "7e7a3ad4-1db6-4213-ab3e-60591cd3f9bd",
   "metadata": {},
   "outputs": [],
   "source": [
    "ETHERSCAN_API_KEY = \"ZAZGB7REEJ4TSG38SS9PT6MR55KN83ZZ43\""
   ]
  },
  {
   "cell_type": "code",
   "execution_count": 3,
   "id": "20c6855d-e09f-4628-97d1-a74a45ad0c30",
   "metadata": {},
   "outputs": [],
   "source": [
    "def get_contract_source(address):\n",
    "    \"\"\"Fetch contract source code from Etherscan API\"\"\"\n",
    "    url = f\"https://api.etherscan.io/api\"\n",
    "    params = {\n",
    "        \"module\": \"contract\",\n",
    "        \"action\": \"getsourcecode\",\n",
    "        \"address\": address,\n",
    "        \"apikey\": ETHERSCAN_API_KEY\n",
    "    }\n",
    "    \n",
    "    try:\n",
    "        response = requests.get(url, params=params)\n",
    "        data = response.json()\n",
    "        \n",
    "        if data[\"status\"] == \"1\" and data[\"message\"] == \"OK\":\n",
    "            return data[\"result\"][0]\n",
    "        else:\n",
    "            print(f\"Error fetching contract {address}: {data['message']}\")\n",
    "            return None\n",
    "    except Exception as e:\n",
    "        print(f\"Exception occurred while fetching contract {address}: {str(e)}\")\n",
    "        return None"
   ]
  },
  {
   "cell_type": "code",
   "execution_count": null,
   "id": "6b444e23-a3b8-40df-9a85-1df3f50d5638",
   "metadata": {},
   "outputs": [
    {
     "name": "stdout",
     "output_type": "stream",
     "text": [
      "Processing contract 1/9252: 0x0000000000075efbee23fe2de1bd0b7690883cc9\n",
      "Processed contract: OwnedUpgradeabilityProxy\n",
      "Processing contract 2/9252: 0x00000000000da14c27c155bb7c1ac9bd7519eb3b\n",
      "Processed contract: DepositAddressRegistrar\n",
      "Processing contract 3/9252: 0x0000000000b3f879cb30fe243b4dfee438691c04\n",
      "Processed contract: GasToken2\n",
      "Processing contract 4/9252: 0x000000002bb43c83ece652d161ad0fa862129a2c\n",
      "Processed contract: AccountRegistry\n",
      "Processing contract 5/9252: 0x00000000441378008ea67f4284a57932b1c000a5\n",
      "Processed contract: TrueGBP\n",
      "Processing contract 6/9252: 0x00000000bbcf7700a1b403c9eb666f350707b900\n",
      "Processed contract: TGBPController\n",
      "Processing contract 7/9252: 0x00000000e86b5156e8fd624255bf7a6d722a8f1f\n",
      "Processed contract: ARIYAX\n",
      "Processing contract 8/9252: 0x0000009a317684a5f840484357fa587aca76454c\n"
     ]
    }
   ],
   "source": [
    "df = pd.read_csv('contracts.csv')\n",
    "\n",
    "# Create a new DataFrame to store contract data\n",
    "contract_data_list = []\n",
    "\n",
    "# Process each contract address\n",
    "for index, row in df.iterrows():\n",
    "    address = row['address']\n",
    "    print(f\"Processing contract {index + 1}/{len(df)}: {address}\")\n",
    "    \n",
    "    # Get contract source\n",
    "    contract_data = get_contract_source(address)\n",
    "    \n",
    "    if contract_data:\n",
    "        # Extract contract information\n",
    "        contract_name = contract_data.get(\"ContractName\", f\"contract_{address}\")\n",
    "        source_code = contract_data.get(\"SourceCode\", \"\")\n",
    "        \n",
    "        # Add to our list\n",
    "        contract_data_list.append({\n",
    "            'contract_address': address,\n",
    "            'contract_name': contract_name,\n",
    "            'source_code': source_code\n",
    "        })\n",
    "        \n",
    "        print(f\"Processed contract: {contract_name}\")\n",
    "    \n",
    "    # Sleep to avoid rate limiting\n",
    "    sleep(0.2)\n",
    "\n",
    "# Create DataFrame from collected data\n",
    "contracts_df = pd.DataFrame(contract_data_list)\n",
    "\n",
    "# Save to CSV\n",
    "output_file = \"contract_sources.csv\"\n",
    "contracts_df.to_csv(output_file, index=False)\n",
    "print(f\"\\nSaved {len(contracts_df)} contracts to {output_file}\")\n"
   ]
  },
  {
   "cell_type": "code",
   "execution_count": 5,
   "id": "6965e69f-7591-47b6-b675-8e21122fe2e1",
   "metadata": {},
   "outputs": [
    {
     "data": {
      "text/plain": [
       "(9252, 3)"
      ]
     },
     "execution_count": 5,
     "metadata": {},
     "output_type": "execute_result"
    }
   ],
   "source": [
    "contracts_df.shape"
   ]
  },
  {
   "cell_type": "code",
   "execution_count": 6,
   "id": "a04f1351-18a3-40d8-b66f-04224efc5539",
   "metadata": {},
   "outputs": [
    {
     "data": {
      "text/html": [
       "<div>\n",
       "<style scoped>\n",
       "    .dataframe tbody tr th:only-of-type {\n",
       "        vertical-align: middle;\n",
       "    }\n",
       "\n",
       "    .dataframe tbody tr th {\n",
       "        vertical-align: top;\n",
       "    }\n",
       "\n",
       "    .dataframe thead th {\n",
       "        text-align: right;\n",
       "    }\n",
       "</style>\n",
       "<table border=\"1\" class=\"dataframe\">\n",
       "  <thead>\n",
       "    <tr style=\"text-align: right;\">\n",
       "      <th></th>\n",
       "      <th>contract_address</th>\n",
       "      <th>contract_name</th>\n",
       "      <th>source_code</th>\n",
       "    </tr>\n",
       "  </thead>\n",
       "  <tbody>\n",
       "    <tr>\n",
       "      <th>0</th>\n",
       "      <td>0x0000000000075efbee23fe2de1bd0b7690883cc9</td>\n",
       "      <td>OwnedUpgradeabilityProxy</td>\n",
       "      <td>/**\\r\\n *Submitted for verification at Ethersc...</td>\n",
       "    </tr>\n",
       "    <tr>\n",
       "      <th>1</th>\n",
       "      <td>0x00000000000da14c27c155bb7c1ac9bd7519eb3b</td>\n",
       "      <td>DepositAddressRegistrar</td>\n",
       "      <td>pragma solidity ^0.4.23;\\r\\n\\r\\n// File: contr...</td>\n",
       "    </tr>\n",
       "  </tbody>\n",
       "</table>\n",
       "</div>"
      ],
      "text/plain": [
       "                             contract_address             contract_name  \\\n",
       "0  0x0000000000075efbee23fe2de1bd0b7690883cc9  OwnedUpgradeabilityProxy   \n",
       "1  0x00000000000da14c27c155bb7c1ac9bd7519eb3b   DepositAddressRegistrar   \n",
       "\n",
       "                                         source_code  \n",
       "0  /**\\r\\n *Submitted for verification at Ethersc...  \n",
       "1  pragma solidity ^0.4.23;\\r\\n\\r\\n// File: contr...  "
      ]
     },
     "execution_count": 6,
     "metadata": {},
     "output_type": "execute_result"
    }
   ],
   "source": [
    "contracts_df.head(2)"
   ]
  },
  {
   "cell_type": "markdown",
   "id": "2f4d7786-0d7d-4437-a610-c9217175a0b7",
   "metadata": {},
   "source": [
    "# 2. Add the Vulnerability Labels from json (ScrawID)"
   ]
  },
  {
   "cell_type": "markdown",
   "id": "3aa2c6ed-5c93-46ff-87e8-057d565e4e72",
   "metadata": {},
   "source": [
    "## 2.1 Aux Functions:"
   ]
  },
  {
   "cell_type": "code",
   "execution_count": 4,
   "id": "3bb59d46-9311-49c6-9a16-db60ec86283a",
   "metadata": {},
   "outputs": [],
   "source": [
    "def load_vulnerabilities():\n",
    "    \"\"\"Load vulnerability data from JSON file\"\"\"\n",
    "    try:\n",
    "        with open('vulnerabilities.json', 'r') as f:\n",
    "            return json.load(f)\n",
    "    except Exception as e:\n",
    "        print(f\"Error loading vulnerabilities file: {str(e)}\")\n",
    "        return {}\n",
    "\n",
    "def get_all_vulnerability_lines(contract_vulns, vuln_type):\n",
    "    \"\"\"Combine line numbers from all tools for a specific vulnerability type\"\"\"\n",
    "    all_lines = set()\n",
    "    if vuln_type in contract_vulns:\n",
    "        tool_data = contract_vulns[vuln_type]\n",
    "        if isinstance(tool_data, dict):\n",
    "            # If tool_data is a dictionary of tools\n",
    "            for tool in tool_data.values():\n",
    "                if isinstance(tool, list):\n",
    "                    all_lines.update(tool)\n",
    "        elif isinstance(tool_data, list):\n",
    "            # If tool_data is directly a list of lines\n",
    "            all_lines.update(tool_data)\n",
    "    return sorted(list(all_lines))"
   ]
  },
  {
   "cell_type": "markdown",
   "id": "392d615e-32d7-4eb0-b2c2-0a70d0e52422",
   "metadata": {},
   "source": [
    "## 2.2  Append Vulnerability Labels:"
   ]
  },
  {
   "cell_type": "markdown",
   "id": "e4143989-a8ef-4c61-b5e1-61192561d997",
   "metadata": {},
   "source": [
    "- Load Previous step dataset:"
   ]
  },
  {
   "cell_type": "code",
   "execution_count": null,
   "id": "8ed6711f-aa6b-40e4-9e60-f572177c67e5",
   "metadata": {},
   "outputs": [],
   "source": [
    "contracts_df = pd.read_csv('contract_sources.csv')"
   ]
  },
  {
   "cell_type": "code",
   "execution_count": null,
   "id": "b396aa65-c7d4-4dd9-815f-56f85747bfc2",
   "metadata": {},
   "outputs": [],
   "source": [
    "print(f\"\\nSaved initial data with {len(contracts_df)} contracts\")\n",
    "\n",
    "# Step 2: Add vulnerability information\n",
    "print(\"\\nStep 2: Adding vulnerability information...\")\n",
    "vulnerabilities = load_vulnerabilities()\n",
    "\n",
    "# Add vulnerability columns\n",
    "vulnerability_types = ['ARTHM', 'DOS', 'LE', 'RENT', 'TimeM', 'TimeO', 'Tx-Origin', 'UE']\n",
    "\n",
    "for vuln_type in vulnerability_types:\n",
    "    column_name = f'{vuln_type}_lines'\n",
    "    contracts_df[column_name] = contracts_df['contract_address'].apply(\n",
    "        lambda x: get_all_vulnerability_lines(\n",
    "            vulnerabilities.get(f\"{x}_ext.sol\", {}),\n",
    "            vuln_type\n",
    "        )\n",
    "    )\n",
    "\n",
    "# Save final DataFrame to CSV\n",
    "output_file = \"contract_sources_with_vulnerabilities.csv\"\n",
    "contracts_df.to_csv(output_file, index=False)\n",
    "print(f\"\\nSaved {len(contracts_df)} contracts with vulnerability information to {output_file}\")"
   ]
  },
  {
   "cell_type": "markdown",
   "id": "ccb428b6-cddf-4178-a67e-1e64e0558f6a",
   "metadata": {},
   "source": [
    "- Filter Smart contract source_code where token len > 2048"
   ]
  },
  {
   "cell_type": "code",
   "execution_count": null,
   "id": "9dbdda66-0ba3-4831-a42a-febddd0dd180",
   "metadata": {},
   "outputs": [],
   "source": [
    "tokenizer = AutoTokenizer.from_pretrained(\"microsoft/codebert-base\")\n",
    "\n",
    "def filter_by_token_length(source_code, tokenizer, max_length=2048):\n",
    "    tokens = tokenizer.encode(source_code, add_special_tokens=True)\n",
    "    return len(tokens) <= max_length\n",
    "\n",
    "# Apply the filtering to the DataFrame\n",
    "filtered_df = contracts_df[contracts_df['source_code'].apply(lambda x: filter_by_token_length(x, tokenizer, max_length=2048))]\n",
    "\n",
    "# Print statistics\n",
    "print(f\"Original number of contracts: {len(contracts_df)}\")\n",
    "print(f\"Number of contracts after filtering: {len(filtered_df)}\")\n",
    "print(f\"Removed {len(contracts_df) - len(filtered_df)} contracts that were too long\")"
   ]
  },
  {
   "cell_type": "code",
   "execution_count": null,
   "id": "262365b3-2527-4c18-ae65-92f08f40ed35",
   "metadata": {},
   "outputs": [],
   "source": [
    "filtered_df.shape"
   ]
  },
  {
   "cell_type": "code",
   "execution_count": null,
   "id": "3004bc96-95d0-45bd-9bc8-058972d54955",
   "metadata": {},
   "outputs": [],
   "source": [
    "output_file = \"contract_sources_with_vulnerabilities_2048_token_size.csv\"\n",
    "filtered_df.to_csv(output_file, index=False)\n",
    "print(f\"\\nSaved {len(filtered_df)} contracts with vulnerability information to {output_file}\")"
   ]
  },
  {
   "cell_type": "code",
   "execution_count": null,
   "id": "e12a4f9e-9101-4934-93b5-b788c3d295c4",
   "metadata": {},
   "outputs": [],
   "source": []
  }
 ],
 "metadata": {
  "kernelspec": {
   "display_name": "Python 3 (ipykernel)",
   "language": "python",
   "name": "python3"
  },
  "language_info": {
   "codemirror_mode": {
    "name": "ipython",
    "version": 3
   },
   "file_extension": ".py",
   "mimetype": "text/x-python",
   "name": "python",
   "nbconvert_exporter": "python",
   "pygments_lexer": "ipython3",
   "version": "3.12.2"
  }
 },
 "nbformat": 4,
 "nbformat_minor": 5
}
